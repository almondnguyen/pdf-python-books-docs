{
 "cells": [
  {
   "cell_type": "markdown",
   "metadata": {
    "id": "yHHAn28X7TPx"
   },
   "source": [
    "# **INTRODUCTION TO PROGRAMMING REVIEW**\n",
    "***Written by Hoang Tran Nhat Minh,***\n",
    "\n",
    "Hanoi University of Science and Technology,\n",
    "\n",
    "Data Science and Artificial Intelligence - K65.\n",
    "\n",
    "**Guided by Dr. Dinh Viet Sang.**"
   ]
  },
  {
   "cell_type": "markdown",
   "metadata": {
    "id": "51bJZ42gNjOY"
   },
   "source": [
    "## PREFACE"
   ]
  },
  {
   "cell_type": "markdown",
   "metadata": {
    "id": "1GRT5C67N4dv"
   },
   "source": [
    "**Thank you, my teacher, Dr. Dinh Viet Sang, I cannot learn programming in Python that much without you. This notebook uses a huge part your lectures as a guidance.**\n",
    "\n",
    "*Dear Data Science & AI - K65,*\n",
    "\n",
    "This is my last notebook in order to prepare for the final exam on Introduction to Programming. If you find this notebook helpful, thanks for reading it. Some might find this one not that helpful, I highly appreciate every line of text you read, including this one.\n",
    "\n",
    "If you find any mistake, feedback and I will try to fix it as soon as possible.\n",
    "\n",
    "Thank y'all for supporting me all the time, good luck on all of your exams.\n",
    "\n",
    "Best wishes,\n",
    "\n",
    "*Hoang Tran Nhat Minh.*\n",
    "\n"
   ]
  },
  {
   "cell_type": "markdown",
   "metadata": {
    "id": "PVb9I_8fKP1O"
   },
   "source": [
    "## CODES FOR ALL EXERCISES AND SOURCES"
   ]
  },
  {
   "cell_type": "markdown",
   "metadata": {
    "id": "w0aNIZrANosW"
   },
   "source": [
    "SOME OF THE FOLLOWING CONTENTS MIGHT BE ADJUSTED OVER TIME.\n",
    "\n",
    "Code for all exercises:\n",
    "\n",
    "[https://github.com/htnminh/python-ex-intro-to-prog](https://github.com/htnminh/python-ex-intro-to-prog)\n",
    "\n",
    "Source of this documentation:\n",
    "\n",
    "[https://github.com/htnminh/pdf-python-books-docs/tree/main/PYTHON%20LAST%20REVIEW](https://github.com/htnminh/pdf-python-books-docs/tree/main/PYTHON%20LAST%20REVIEW)\n",
    "\n",
    "Source of this Colab Notebook:\n",
    "\n",
    "[https://colab.research.google.com/drive/1mjtoDbqNHKB2bAb6rTUU8hiJRfUX3Ryt?usp=sharing](https://colab.research.google.com/drive/1mjtoDbqNHKB2bAb6rTUU8hiJRfUX3Ryt?usp=sharing)"
   ]
  },
  {
   "cell_type": "markdown",
   "metadata": {
    "id": "2BBi9dSe7Zx1"
   },
   "source": [
    "# CHAPTER 1: INTRODUCTION"
   ]
  },
  {
   "cell_type": "markdown",
   "metadata": {
    "id": "DHF53f3hKZnr"
   },
   "source": [
    "## CONSTANTS"
   ]
  },
  {
   "cell_type": "code",
   "execution_count": 1,
   "metadata": {
    "colab": {
     "base_uri": "https://localhost:8080/"
    },
    "id": "WE_EM8mVGXmo",
    "outputId": "4e81d9b3-b841-4ea8-b7cd-274cc00f14a7"
   },
   "outputs": [
    {
     "name": "stdout",
     "output_type": "stream",
     "text": [
      "Hello World\n",
      "12.3\n"
     ]
    }
   ],
   "source": [
    "# CONSTANTS\n",
    "print('Hello World')\n",
    "print(12.3)"
   ]
  },
  {
   "cell_type": "markdown",
   "metadata": {
    "id": "oHieA5AuKcul"
   },
   "source": [
    "## VARIABLES"
   ]
  },
  {
   "cell_type": "code",
   "execution_count": 2,
   "metadata": {
    "colab": {
     "base_uri": "https://localhost:8080/"
    },
    "id": "7GtXuE7qIJX_",
    "outputId": "b5c36d95-4247-4ade-ae81-50dbdef1596a"
   },
   "outputs": [
    {
     "name": "stdout",
     "output_type": "stream",
     "text": [
      "Hello\n",
      "4.3\n"
     ]
    }
   ],
   "source": [
    "# VARIABLES\n",
    "x = 13.4\n",
    "y = 4.3\n",
    "x = 'Hello'\n",
    "print(x)\n",
    "print(y)"
   ]
  },
  {
   "cell_type": "markdown",
   "metadata": {
    "id": "JDnVJrVqKiM1"
   },
   "source": [
    "## NUMERIC OPERATORS"
   ]
  },
  {
   "cell_type": "code",
   "execution_count": 3,
   "metadata": {
    "colab": {
     "base_uri": "https://localhost:8080/"
    },
    "id": "sGfQ8qzTIX0w",
    "outputId": "7f52bbc4-7af8-4a00-ce66-0bf5deaa6624"
   },
   "outputs": [
    {
     "name": "stdout",
     "output_type": "stream",
     "text": [
      "279.5084971874737\n",
      "3.8\n",
      "3\n",
      "4\n"
     ]
    }
   ],
   "source": [
    "# NUMERIC OPERATORS\n",
    "print(5 ** 3.5)\n",
    "print(19 / 5)\n",
    "print(19 // 5)\n",
    "print(19 % 5)"
   ]
  },
  {
   "cell_type": "markdown",
   "metadata": {
    "id": "3pd-Nv4bKl1O"
   },
   "source": [
    "## SCIENTIFIC NOTATION"
   ]
  },
  {
   "cell_type": "code",
   "execution_count": 4,
   "metadata": {
    "colab": {
     "base_uri": "https://localhost:8080/"
    },
    "id": "iX0OuOZ6JDVA",
    "outputId": "ceff7e29-506c-4f6d-8f9d-0f91f4d8d740"
   },
   "outputs": [
    {
     "name": "stdout",
     "output_type": "stream",
     "text": [
      "123.4\n",
      "123.4\n",
      "0.001234\n"
     ]
    }
   ],
   "source": [
    "# SCIENTIFIC NOTATION\n",
    "print(1.234e2)\n",
    "print(1.234E+2)\n",
    "print(1.234e-3)"
   ]
  },
  {
   "cell_type": "markdown",
   "metadata": {
    "id": "gpHNuVBtKpEF"
   },
   "source": [
    "## INT AND FLOAT"
   ]
  },
  {
   "cell_type": "code",
   "execution_count": 5,
   "metadata": {
    "colab": {
     "base_uri": "https://localhost:8080/"
    },
    "id": "6yLoagkwJ_6o",
    "outputId": "cc8f877a-1753-4eee-f633-3c807dec2cc8"
   },
   "outputs": [
    {
     "name": "stdout",
     "output_type": "stream",
     "text": [
      "6.3\n",
      "1.0\n",
      "8\n"
     ]
    }
   ],
   "source": [
    "# INT AND FLOAT\n",
    "print(1 + 5.3)\n",
    "print(5 / 5)\n",
    "print(3 + 5)"
   ]
  },
  {
   "cell_type": "markdown",
   "metadata": {
    "id": "tOqRJATeKswH"
   },
   "source": [
    "## TYPES"
   ]
  },
  {
   "cell_type": "code",
   "execution_count": 6,
   "metadata": {
    "colab": {
     "base_uri": "https://localhost:8080/"
    },
    "id": "1PVKKLLLKb_Q",
    "outputId": "04db7de1-d4c1-464b-a3e4-056878c119e3"
   },
   "outputs": [
    {
     "name": "stdout",
     "output_type": "stream",
     "text": [
      "9\n",
      "hello there\n",
      "<class 'float'>\n",
      "<class 'str'>\n",
      "3.0\n",
      "45\n",
      "8\n"
     ]
    }
   ],
   "source": [
    "# TYPES\n",
    "print(3 + 6)\n",
    "print('hello' + ' there')\n",
    "\n",
    "print(type(3.5))\n",
    "print(type('?'))\n",
    "\n",
    "print(float(3))\n",
    "print(str(4) + str(5))\n",
    "print(int('8'))"
   ]
  },
  {
   "cell_type": "markdown",
   "metadata": {
    "id": "gwodJRIHK6Ir"
   },
   "source": [
    "## (INPUT) TYPE DIFFERENCES"
   ]
  },
  {
   "cell_type": "code",
   "execution_count": 7,
   "metadata": {
    "colab": {
     "base_uri": "https://localhost:8080/"
    },
    "id": "2ExwCiCpLWp3",
    "outputId": "99f5da18-96a5-4b16-b137-1e7f4bf8e3fa"
   },
   "outputs": [
    {
     "name": "stdout",
     "output_type": "stream",
     "text": [
      "a = 8\n",
      "88888\n",
      "40\n"
     ]
    }
   ],
   "source": [
    "# TYPE DIFFERENCES\n",
    "a = input('a = ')\n",
    "print(a * 5)\n",
    "print(int(a) * 5)"
   ]
  },
  {
   "cell_type": "markdown",
   "metadata": {
    "id": "YFq4ThmwKwcO"
   },
   "source": [
    "## (INPUT) FILE NAME"
   ]
  },
  {
   "cell_type": "code",
   "execution_count": 8,
   "metadata": {
    "colab": {
     "base_uri": "https://localhost:8080/"
    },
    "id": "TsRV90fKLggo",
    "outputId": "286e37a1-e9c2-4124-8e9a-c53d94f398cd"
   },
   "outputs": [
    {
     "name": "stdout",
     "output_type": "stream",
     "text": [
      "Name = /content/sample_data/README.md\n",
      "This directory includes a few sample datasets to get you started.\n",
      "\n",
      "*   `california_housing_data*.csv` is California housing data from the 1990 US\n",
      "    Census; more information is available at:\n",
      "    https://developers.google.com/machine-learning/crash-course/california-housing-data-description\n",
      "\n",
      "*   `mnist_*.csv` is a small sample of the\n",
      "    [MNIST database](https://en.wikipedia.org/wiki/MNIST_database), which is\n",
      "    described at: http://yann.lecun.com/exdb/mnist/\n",
      "\n",
      "*   `anscombe.json` contains a copy of\n",
      "    [Anscombe's quartet](https://en.wikipedia.org/wiki/Anscombe%27s_quartet); it\n",
      "    was originally described in\n",
      "\n",
      "    Anscombe, F. J. (1973). 'Graphs in Statistical Analysis'. American\n",
      "    Statistician. 27 (1): 17-21. JSTOR 2682899.\n",
      "\n",
      "    and our copy was prepared by the\n",
      "    [vega_datasets library](https://github.com/altair-viz/vega_datasets/blob/4f67bdaad10f45e3549984e17e1b3088c731503d/vega_datasets/_data/anscombe.json).\n",
      "\n"
     ]
    }
   ],
   "source": [
    "# FILE NAME\n",
    "name = input('Name = ')\n",
    "#/content/sample_data/README.md\n",
    "f = open(name, 'r')\n",
    "print(f.read())\n",
    "f.close()"
   ]
  },
  {
   "cell_type": "markdown",
   "metadata": {
    "id": "xTFbp-9eNm-p"
   },
   "source": [
    "# CHAPTER 2: CONTROL FLOW"
   ]
  },
  {
   "cell_type": "markdown",
   "metadata": {
    "id": "3_11s2BKLEDd"
   },
   "source": [
    "## COMPARISON OPERATORS"
   ]
  },
  {
   "cell_type": "code",
   "execution_count": 9,
   "metadata": {
    "colab": {
     "base_uri": "https://localhost:8080/"
    },
    "id": "jm80DA7LN2NB",
    "outputId": "dabcf8e4-80d6-46d3-e01b-2ff94e922b80"
   },
   "outputs": [
    {
     "name": "stdout",
     "output_type": "stream",
     "text": [
      "False\n",
      "True\n",
      "True\n",
      "False\n"
     ]
    }
   ],
   "source": [
    "# COMPARISON OPERATORS\n",
    "print(3 == 4)\n",
    "print(3 != 4)\n",
    "print(3 < 4)\n",
    "print(3 >= 4)"
   ]
  },
  {
   "cell_type": "markdown",
   "metadata": {
    "id": "mF9tfmVcLFzc"
   },
   "source": [
    "## LOGIC OPERATORS"
   ]
  },
  {
   "cell_type": "code",
   "execution_count": 10,
   "metadata": {
    "colab": {
     "base_uri": "https://localhost:8080/"
    },
    "id": "1IqaaB8YPdMo",
    "outputId": "0c846fd1-58d7-44b7-efdc-490628341c5d"
   },
   "outputs": [
    {
     "name": "stdout",
     "output_type": "stream",
     "text": [
      "True\n",
      "False\n",
      "True\n"
     ]
    }
   ],
   "source": [
    "# LOGIC OPERATORS\n",
    "print(not False)\n",
    "print(True and False)\n",
    "print(True or False)"
   ]
  },
  {
   "cell_type": "markdown",
   "metadata": {
    "id": "gMFHOZ47LH3M"
   },
   "source": [
    "## (INPUT) BRANCHING"
   ]
  },
  {
   "cell_type": "code",
   "execution_count": 11,
   "metadata": {
    "colab": {
     "base_uri": "https://localhost:8080/"
    },
    "id": "WDxV4e8bPtQQ",
    "outputId": "3482133a-33cf-4590-cc1f-2f23030d387b"
   },
   "outputs": [
    {
     "name": "stdout",
     "output_type": "stream",
     "text": [
      "a = 3\n",
      "b = 5\n",
      "less\n"
     ]
    }
   ],
   "source": [
    "# BRANCHING\n",
    "a = int(input('a = '))\n",
    "b = int(input('b = '))\n",
    "if a > b:\n",
    "    print('larger')\n",
    "elif a == b:\n",
    "    print('equal')\n",
    "else:\n",
    "    print('less')"
   ]
  },
  {
   "cell_type": "markdown",
   "metadata": {
    "id": "484ue29hSX9h"
   },
   "source": [
    "# CHAPTER 3: FUNCTIONS"
   ]
  },
  {
   "cell_type": "markdown",
   "metadata": {
    "id": "G1-Wx0mlLLvl"
   },
   "source": [
    "## FUNCTION EXAMPLE"
   ]
  },
  {
   "cell_type": "code",
   "execution_count": 12,
   "metadata": {
    "colab": {
     "base_uri": "https://localhost:8080/"
    },
    "id": "mUgVinH7Sjs4",
    "outputId": "e773f63b-7cb9-400e-a19e-1af0354e8017"
   },
   "outputs": [
    {
     "name": "stdout",
     "output_type": "stream",
     "text": [
      "16\n",
      "\n",
      "    2 times a number\n",
      "    \n"
     ]
    }
   ],
   "source": [
    "# FUNCTION EXAMPLE\n",
    "\n",
    "#   name    parameter(s)\n",
    "def two_time(number):\n",
    "    # docstring\n",
    "    '''\n",
    "    2 times a number\n",
    "    '''\n",
    "    # body\n",
    "    doubled = 2 * number\n",
    "    # returns (if not, it is a void function)\n",
    "    return doubled\n",
    "# function call, pass argument(s) to parameter(s)\n",
    "print(two_time(8))\n",
    "\n",
    "print(two_time.__doc__)"
   ]
  },
  {
   "cell_type": "markdown",
   "metadata": {
    "id": "-eX6L98wLRQd"
   },
   "source": [
    "## COMMON BUILT-IN PYTHON FUNCTIONS"
   ]
  },
  {
   "cell_type": "code",
   "execution_count": 13,
   "metadata": {
    "colab": {
     "base_uri": "https://localhost:8080/"
    },
    "id": "P7KtieS1UlxB",
    "outputId": "284e0309-24ab-4c5b-9587-2c4c7d57d1b0"
   },
   "outputs": [
    {
     "name": "stdout",
     "output_type": "stream",
     "text": [
      "8\n",
      "3\n"
     ]
    }
   ],
   "source": [
    "# COMMON BUILT-IN PYTHON FUNCTIONS\n",
    "# previous ones: input(), type(), float(),...\n",
    "print(max(6, 8, 5))\n",
    "print(min(3, 6, 7))"
   ]
  },
  {
   "cell_type": "markdown",
   "metadata": {
    "id": "QdQL5KG6LVdU"
   },
   "source": [
    "## PASS-BY-OBJECT-REFERENCE"
   ]
  },
  {
   "cell_type": "code",
   "execution_count": 14,
   "metadata": {
    "colab": {
     "base_uri": "https://localhost:8080/"
    },
    "id": "YCG2_l88Vyep",
    "outputId": "82edd557-8176-4591-f7fe-42ce522fdf20"
   },
   "outputs": [
    {
     "name": "stdout",
     "output_type": "stream",
     "text": [
      "4\n",
      "4\n",
      "['original']\n",
      "['original', 'changed']\n"
     ]
    }
   ],
   "source": [
    "# PASS-BY-OBJECT-REFERENCE\n",
    "# Immutable objects: int, float, complex, string, tuple, frozen set, bytes\n",
    "# Mutable objects: list, dict, set, byte array\n",
    "\n",
    "def change_num(num):\n",
    "    num += 1\n",
    "a = 4\n",
    "print(a)\n",
    "change_num(a)\n",
    "print(a)\n",
    "\n",
    "def change_lst(lst):\n",
    "    lst.append('changed')\n",
    "l = ['original']\n",
    "print(l)\n",
    "change_lst(l)\n",
    "print(l)"
   ]
  },
  {
   "cell_type": "markdown",
   "metadata": {
    "id": "sYVR_M2QLXSV"
   },
   "source": [
    "## SCOPE"
   ]
  },
  {
   "cell_type": "code",
   "execution_count": 15,
   "metadata": {
    "colab": {
     "base_uri": "https://localhost:8080/"
    },
    "id": "-oYQNgGGdh1k",
    "outputId": "aeb05336-8d54-4131-82bd-d7b06dcf57ad"
   },
   "outputs": [
    {
     "name": "stdout",
     "output_type": "stream",
     "text": [
      "First:   x = 0\n",
      "In f:    x = 1\n",
      "After f: x = 0\n"
     ]
    }
   ],
   "source": [
    "# SCOPE\n",
    "def f(x):\n",
    "    x += 1\n",
    "    print('In f:    x =',x)\n",
    "x = 0\n",
    "print('First:   x =', x)\n",
    "f(x)\n",
    "print('After f: x =', x)"
   ]
  },
  {
   "cell_type": "markdown",
   "metadata": {
    "id": "TaAgUlL6LY2M"
   },
   "source": [
    "## FUNCTIONS AS ARGUMENTS"
   ]
  },
  {
   "cell_type": "code",
   "execution_count": 16,
   "metadata": {
    "colab": {
     "base_uri": "https://localhost:8080/"
    },
    "id": "wYIGUnL0foMr",
    "outputId": "558157b8-77c1-4c28-eecf-d9a87c248f7a"
   },
   "outputs": [
    {
     "name": "stdout",
     "output_type": "stream",
     "text": [
      "79\n",
      "79\n"
     ]
    }
   ],
   "source": [
    "# FUNCTIONS AS ARGUMENTS\n",
    "def triple(num):\n",
    "    return 3 * num\n",
    "def square(num):\n",
    "    return num ** 2\n",
    "\n",
    "def fx_plus_gy(f, x, g, y):\n",
    "    return f(x) + g(y)\n",
    "\n",
    "print(fx_plus_gy(triple, 5, square, 8))\n",
    "print(3 * 5 + 8 ** 2)"
   ]
  },
  {
   "cell_type": "markdown",
   "metadata": {
    "id": "uJA2eC52LaqM"
   },
   "source": [
    "##  DEFAULT PARAMETER VALUE"
   ]
  },
  {
   "cell_type": "code",
   "execution_count": 17,
   "metadata": {
    "colab": {
     "base_uri": "https://localhost:8080/"
    },
    "id": "C1VAds4Widl7",
    "outputId": "522e66b4-0c3c-4582-ac5a-00aababddc52"
   },
   "outputs": [
    {
     "name": "stdout",
     "output_type": "stream",
     "text": [
      "6\n",
      "8\n",
      "9\n"
     ]
    }
   ],
   "source": [
    "# DEFAULT PARAMETER VALUE\n",
    "def tong(a, b = 2, c = 3):\n",
    "    return a + b + c\n",
    "\n",
    "print(tong(1))\n",
    "# 1 + 2 + 3\n",
    "print(tong(1, 4))\n",
    "# 1 + 4 + 3\n",
    "print(tong(0, 3, 6))\n",
    "# 0 + 3 + 6"
   ]
  },
  {
   "cell_type": "markdown",
   "metadata": {
    "id": "Miim09wtLcJ0"
   },
   "source": [
    "##  LAMBDA FUNCTION"
   ]
  },
  {
   "cell_type": "code",
   "execution_count": 18,
   "metadata": {
    "colab": {
     "base_uri": "https://localhost:8080/"
    },
    "id": "6XBjOWnAjPts",
    "outputId": "5cc4fa38-4c5b-4a8c-9380-9ad126e62709"
   },
   "outputs": [
    {
     "name": "stdout",
     "output_type": "stream",
     "text": [
      "8\n",
      "18\n"
     ]
    }
   ],
   "source": [
    "# LAMBDA FUNCTION\n",
    "tong = lambda x, y: x + y\n",
    "print(tong(3, 5))\n",
    "print((lambda x, y: x * y)(2, 9))"
   ]
  },
  {
   "cell_type": "markdown",
   "metadata": {
    "id": "UuxNIR1fLeKs"
   },
   "source": [
    "###  LAMBDA EXAMPLE"
   ]
  },
  {
   "cell_type": "code",
   "execution_count": 19,
   "metadata": {
    "colab": {
     "base_uri": "https://localhost:8080/"
    },
    "id": "ar3ikJrYjseL",
    "outputId": "b60a9d35-84f8-410e-ad1d-d67accc3590a"
   },
   "outputs": [
    {
     "name": "stdout",
     "output_type": "stream",
     "text": [
      "32\n",
      "12\n"
     ]
    }
   ],
   "source": [
    "# LAMBDA EXAMPLE\n",
    "def multiply_by(n):\n",
    "    return lambda x: x * n\n",
    "\n",
    "double = multiply_by(2)\n",
    "# multiply_by(2) ->  lambda x: x * 2\n",
    "# -> a doubling function\n",
    "triple = multiply_by(3)\n",
    "\n",
    "print(double(16))\n",
    "print(triple(4))"
   ]
  },
  {
   "cell_type": "markdown",
   "metadata": {
    "id": "TsHmDufFLg9E"
   },
   "source": [
    "###  TEST: WITHOUT LAMBDA"
   ]
  },
  {
   "cell_type": "code",
   "execution_count": 20,
   "metadata": {
    "colab": {
     "base_uri": "https://localhost:8080/"
    },
    "id": "xcpRd19ekNGU",
    "outputId": "5c681574-eada-4ef0-8ae1-cd24c05e3921"
   },
   "outputs": [
    {
     "name": "stdout",
     "output_type": "stream",
     "text": [
      "32\n",
      "12\n"
     ]
    }
   ],
   "source": [
    "# TEST: WITHOUT LAMBDA\n",
    "def multiply_by(n):\n",
    "    def multi(x):\n",
    "        return x * n\n",
    "    return multi\n",
    "\n",
    "double = multiply_by(2)\n",
    "# multiply_by(2) -> function: multi, where multi return the doubled argument\n",
    "# -> a doubling function\n",
    "triple = multiply_by(3)\n",
    "\n",
    "print(double(16))\n",
    "print(triple(4))"
   ]
  },
  {
   "cell_type": "markdown",
   "metadata": {
    "id": "kdjmVlTELie9"
   },
   "source": [
    "### LAMBDA EXAMPLE"
   ]
  },
  {
   "cell_type": "code",
   "execution_count": 21,
   "metadata": {
    "colab": {
     "base_uri": "https://localhost:8080/"
    },
    "id": "G7Uzfy6ynFeU",
    "outputId": "dd7c8ccb-6b7c-44d7-d8e9-380cabbbde70"
   },
   "outputs": [
    {
     "name": "stdout",
     "output_type": "stream",
     "text": [
      "12\n"
     ]
    }
   ],
   "source": [
    "# LAMBDA EXAMPLE\n",
    "x_plus_fx = lambda x, f: x + f(x)\n",
    "\n",
    "print(x_plus_fx(3, lambda x: x ** 2))\n",
    "# x + f(x) = x + x ** 2\n",
    "# 3 + f(3) = 3 + 3 ** 2"
   ]
  },
  {
   "cell_type": "markdown",
   "metadata": {
    "id": "Oz0VdEQzLk6W"
   },
   "source": [
    "## RECURSION EXAMPLES"
   ]
  },
  {
   "cell_type": "code",
   "execution_count": 22,
   "metadata": {
    "colab": {
     "base_uri": "https://localhost:8080/"
    },
    "id": "VhVkrvzfoZc8",
    "outputId": "8f5b37ef-c9ae-4b41-97fe-5c2a16052dff"
   },
   "outputs": [
    {
     "name": "stdout",
     "output_type": "stream",
     "text": [
      "7! = 6! * 7\n",
      "6! = 5! * 6\n",
      "5! = 4! * 5\n",
      "4! = 3! * 4\n",
      "3! = 2! * 3\n",
      "2! = 1! * 2\n",
      "1! = 0! * 1\n",
      "0! = 1\n",
      "5040\n"
     ]
    }
   ],
   "source": [
    "# RECURSION EXAMPLES\n",
    "def pr(n):\n",
    "    print(str(n) + '! = ' + str(n - 1) + '! * ' + str(n))\n",
    "\n",
    "def factorial(n):\n",
    "    if n == 0:\n",
    "        print('0! = 1')\n",
    "        return 1\n",
    "    pr(n)\n",
    "    return factorial(n - 1) * n\n",
    "\n",
    "print(factorial(7))"
   ]
  },
  {
   "cell_type": "markdown",
   "metadata": {
    "id": "hV_svzDALoVO"
   },
   "source": [
    "###  FACTORIAL RECURSION IN SHORT"
   ]
  },
  {
   "cell_type": "code",
   "execution_count": 23,
   "metadata": {
    "colab": {
     "base_uri": "https://localhost:8080/"
    },
    "id": "2yw72lgXqtvs",
    "outputId": "e6e994d3-e51b-4004-a07b-7c4559e13e02"
   },
   "outputs": [
    {
     "name": "stdout",
     "output_type": "stream",
     "text": [
      "5040\n"
     ]
    }
   ],
   "source": [
    "# FACTORIAL RECURSION IN SHORT\n",
    "factorial = lambda n: 1 if n == 0 else factorial(n - 1) * n\n",
    "print(factorial(7))"
   ]
  },
  {
   "cell_type": "markdown",
   "metadata": {
    "id": "1R_WJFS8Lpx9"
   },
   "source": [
    "### FIBONACCI RECURSION IN SHORT"
   ]
  },
  {
   "cell_type": "code",
   "execution_count": 24,
   "metadata": {
    "colab": {
     "base_uri": "https://localhost:8080/"
    },
    "id": "_JXLedW4zlpK",
    "outputId": "01a870bf-a3f2-40c7-fb72-a55e81b6d9af"
   },
   "outputs": [
    {
     "name": "stdout",
     "output_type": "stream",
     "text": [
      "0 1 1 2 3 5 8 13 21 34 55 89 144 233 377\n"
     ]
    }
   ],
   "source": [
    "# FIBONACCI RECURSION IN SHORT\n",
    "fib = lambda n: n if n <= 1 else fib(n - 1) + fib(n - 2)\n",
    "print(*[fib(i) for i in range(15)])"
   ]
  },
  {
   "cell_type": "markdown",
   "metadata": {
    "id": "6XYgaqc_1qOB"
   },
   "source": [
    "### (INPUT) (WARNING: WALL-OF-CODE) TOWER OF HANOI: TRADITIONAL RECURSION PROBLEM"
   ]
  },
  {
   "cell_type": "code",
   "execution_count": 25,
   "metadata": {
    "colab": {
     "base_uri": "https://localhost:8080/"
    },
    "id": "poyxAJR2w287",
    "outputId": "6e90c6a9-082f-497b-a550-00e0caa24834"
   },
   "outputs": [
    {
     "name": "stdout",
     "output_type": "stream",
     "text": [
      "n = 4\n",
      "\n",
      "|  A  B  C  |\n",
      "|  1  .  .  |\n",
      "|  2  .  .  |\n",
      "|  3  .  .  |\n",
      "|  4  .  .  |\n",
      "                  Step 1: A -> B\n",
      "|  A  B  C  |\n",
      "|  .  .  .  |\n",
      "|  2  .  .  |\n",
      "|  3  .  .  |\n",
      "|  4  1  .  |\n",
      "                  Step 2: A -> C\n",
      "|  A  B  C  |\n",
      "|  .  .  .  |\n",
      "|  .  .  .  |\n",
      "|  3  .  .  |\n",
      "|  4  1  2  |\n",
      "                  Step 3: B -> C\n",
      "|  A  B  C  |\n",
      "|  .  .  .  |\n",
      "|  .  .  .  |\n",
      "|  3  .  1  |\n",
      "|  4  .  2  |\n",
      "                  Step 4: A -> B\n",
      "|  A  B  C  |\n",
      "|  .  .  .  |\n",
      "|  .  .  .  |\n",
      "|  .  .  1  |\n",
      "|  4  3  2  |\n",
      "                  Step 5: C -> A\n",
      "|  A  B  C  |\n",
      "|  .  .  .  |\n",
      "|  .  .  .  |\n",
      "|  1  .  .  |\n",
      "|  4  3  2  |\n",
      "                  Step 6: C -> B\n",
      "|  A  B  C  |\n",
      "|  .  .  .  |\n",
      "|  .  .  .  |\n",
      "|  1  2  .  |\n",
      "|  4  3  .  |\n",
      "                  Step 7: A -> B\n",
      "|  A  B  C  |\n",
      "|  .  .  .  |\n",
      "|  .  1  .  |\n",
      "|  .  2  .  |\n",
      "|  4  3  .  |\n",
      "                  Step 8: A -> C\n",
      "|  A  B  C  |\n",
      "|  .  .  .  |\n",
      "|  .  1  .  |\n",
      "|  .  2  .  |\n",
      "|  .  3  4  |\n",
      "                  Step 9: B -> C\n",
      "|  A  B  C  |\n",
      "|  .  .  .  |\n",
      "|  .  .  .  |\n",
      "|  .  2  1  |\n",
      "|  .  3  4  |\n",
      "                  Step 10: B -> A\n",
      "|  A  B  C  |\n",
      "|  .  .  .  |\n",
      "|  .  .  .  |\n",
      "|  .  .  1  |\n",
      "|  2  3  4  |\n",
      "                  Step 11: C -> A\n",
      "|  A  B  C  |\n",
      "|  .  .  .  |\n",
      "|  .  .  .  |\n",
      "|  1  .  .  |\n",
      "|  2  3  4  |\n",
      "                  Step 12: B -> C\n",
      "|  A  B  C  |\n",
      "|  .  .  .  |\n",
      "|  .  .  .  |\n",
      "|  1  .  3  |\n",
      "|  2  .  4  |\n",
      "                  Step 13: A -> B\n",
      "|  A  B  C  |\n",
      "|  .  .  .  |\n",
      "|  .  .  .  |\n",
      "|  .  .  3  |\n",
      "|  2  1  4  |\n",
      "                  Step 14: A -> C\n",
      "|  A  B  C  |\n",
      "|  .  .  .  |\n",
      "|  .  .  2  |\n",
      "|  .  .  3  |\n",
      "|  .  1  4  |\n",
      "                  Step 15: B -> C\n",
      "|  A  B  C  |\n",
      "|  .  .  1  |\n",
      "|  .  .  2  |\n",
      "|  .  .  3  |\n",
      "|  .  .  4  |\n",
      "\n",
      "Number of transfers: 15\n"
     ]
    }
   ],
   "source": [
    "# TOWER OF HANOI: TRADITIONAL RECURSION PROBLEM\n",
    "# EXPLICITLY VISUALIZED CODE\n",
    "def hanoi_tower(n):\n",
    "    '''run and return number of transfers as text'''\n",
    "    def transfer(n, start, end, mid):\n",
    "        if n == 1:\n",
    "            nonlocal count\n",
    "            count += 1\n",
    "            map_ind = ['A', 'B', 'C']\n",
    "            print(' '*18 + 'Step ' + str(count) + ': ' + map_ind[start] + ' -> ' + map_ind[end])\n",
    "            move(start, end)\n",
    "            print_board()\n",
    "        else:\n",
    "            transfer(n - 1, start, mid, end)\n",
    "            transfer(1, start, end, mid)\n",
    "            transfer(n - 1, mid, end, start)\n",
    "    count = 0\n",
    "    transfer(n, 0, 2, 1)\n",
    "    return count\n",
    "\n",
    "'''\n",
    "a =                     \n",
    "      0  1  2  3                    \n",
    "\n",
    "0     4  3  2  1                    \n",
    "1     0  0  0  0                    \n",
    "2     0  0  0  0\n",
    "\n",
    "printed :\n",
    "                A  B  C\n",
    "\n",
    "                1  .  .\n",
    "                2  .  .\n",
    "                3  .  .\n",
    "                4  .  .\n",
    "'''\n",
    "def print_board():\n",
    "    '''print current board'''\n",
    "    print('|  A  B  C  |')\n",
    "    \n",
    "    for col in range(n - 1, -1, -1):\n",
    "        print('|  ', end = '')\n",
    "        for row in range(3):\n",
    "            character = '.' if a[row][col] == 0 else a[row][col]\n",
    "            print(str(character) + '  ', end = '')\n",
    "        print('|')\n",
    "        \n",
    "\n",
    "def move(row_start, row_end):\n",
    "    '''make a move'''\n",
    "    def col_lastnonenull(row):\n",
    "        for col_ind in range(n - 1, -1, -1):\n",
    "            if a[row][col_ind] != 0:\n",
    "                return col_ind\n",
    "            # return n - 1\n",
    "    def col_firstnull(row):\n",
    "        for col_ind in range(n):\n",
    "            if a[row][col_ind] == 0:\n",
    "                return col_ind\n",
    "            # return 0\n",
    "    a[row_end][col_firstnull(row_end)] = a[row_start][col_lastnonenull(row_start)]\n",
    "    a[row_start][col_lastnonenull(row_start)] = 0\n",
    "\n",
    "# MAIN:\n",
    "\n",
    "# input n\n",
    "n = int(input('n = '))\n",
    "\n",
    "# initialize list of list, n = 4, \n",
    "'''\n",
    "a =\n",
    "      0  1  2  3\n",
    "      \n",
    "0     4  3  2  1\n",
    "1     0  0  0  0\n",
    "2     0  0  0  0\n",
    "'''\n",
    "a = [[n - i for i in range(n)]]\n",
    "for i in range(2):\n",
    "    a.append([0 for j in range(n)])\n",
    "    \n",
    "# print the initialized board\n",
    "print()\n",
    "print_board()\n",
    "\n",
    "# run, print the board every move and return the result\n",
    "print('\\nNumber of transfers: %i' % hanoi_tower(n))\n",
    "\n",
    "# n SHOULD BE LESS THAN 5"
   ]
  },
  {
   "cell_type": "markdown",
   "metadata": {
    "id": "xt3pT21_1hvi"
   },
   "source": [
    "# CHAPTER 4: STRINGS"
   ]
  },
  {
   "cell_type": "markdown",
   "metadata": {
    "id": "wm6XN6ThL9_0"
   },
   "source": [
    "## STRING EXAMPLES"
   ]
  },
  {
   "cell_type": "code",
   "execution_count": 26,
   "metadata": {
    "colab": {
     "base_uri": "https://localhost:8080/"
    },
    "id": "z0GumIEO1nSD",
    "outputId": "6839e4ad-ff18-4958-e0d7-b76eeb29cb84"
   },
   "outputs": [
    {
     "name": "stdout",
     "output_type": "stream",
     "text": [
      "abc\n"
     ]
    }
   ],
   "source": [
    "# STRING EXAMPLES\n",
    "print('abc')"
   ]
  },
  {
   "cell_type": "markdown",
   "metadata": {
    "id": "MXaP5ypAL_JV"
   },
   "source": [
    "## `len()` OF A STRING"
   ]
  },
  {
   "cell_type": "code",
   "execution_count": 27,
   "metadata": {
    "colab": {
     "base_uri": "https://localhost:8080/"
    },
    "id": "ZW-nsEKe3NyR",
    "outputId": "f6002f91-02d4-483d-98bd-d71a428ab332"
   },
   "outputs": [
    {
     "name": "stdout",
     "output_type": "stream",
     "text": [
      "16\n"
     ]
    }
   ],
   "source": [
    "# LEN OF A STRING\n",
    "print(len('this is a string'))"
   ]
  },
  {
   "cell_type": "markdown",
   "metadata": {
    "id": "KmuJc-FcMBuU"
   },
   "source": [
    "## LOOP OVER A STRING"
   ]
  },
  {
   "cell_type": "code",
   "execution_count": 28,
   "metadata": {
    "colab": {
     "base_uri": "https://localhost:8080/"
    },
    "id": "dwvG48DQ3Veg",
    "outputId": "7cc24c8c-b7b0-49ed-f9e8-f9a955925526"
   },
   "outputs": [
    {
     "name": "stdout",
     "output_type": "stream",
     "text": [
      "h\n",
      "i\n",
      " \n",
      "t\n",
      "h\n",
      "e\n",
      "r\n",
      "e\n",
      "?\n"
     ]
    }
   ],
   "source": [
    "# LOOP OVER A STRING\n",
    "for c in 'hi there?':\n",
    "    print(c)"
   ]
  },
  {
   "cell_type": "markdown",
   "metadata": {
    "id": "EuZeCIV2MDkc"
   },
   "source": [
    "##  SLICING A STRING"
   ]
  },
  {
   "cell_type": "code",
   "execution_count": 29,
   "metadata": {
    "colab": {
     "base_uri": "https://localhost:8080/"
    },
    "id": "H2fir_Eb34Df",
    "outputId": "3ff78e81-9a84-4f4c-b42b-1fd42284cbc9"
   },
   "outputs": [
    {
     "name": "stdout",
     "output_type": "stream",
     "text": [
      "c\n",
      "npq\n",
      "hello\n"
     ]
    }
   ],
   "source": [
    "# SLICING A STRING\n",
    "print('abcd'[2])\n",
    "print('mnpq'[1:])\n",
    "print('hello from the other side'[:5])"
   ]
  },
  {
   "cell_type": "markdown",
   "metadata": {
    "id": "PvTI8RLbMF0M"
   },
   "source": [
    "## STRING FORMATTING OPERATOR `%`"
   ]
  },
  {
   "cell_type": "code",
   "execution_count": 30,
   "metadata": {
    "colab": {
     "base_uri": "https://localhost:8080/"
    },
    "id": "YbdM3jFJ4Mow",
    "outputId": "7b0d34a3-b93a-47fc-960d-0ce2a5a6b8ee"
   },
   "outputs": [
    {
     "name": "stdout",
     "output_type": "stream",
     "text": [
      "gold is a metal\n",
      "yellow is a color of 7 main colors in a rainbow!\n"
     ]
    }
   ],
   "source": [
    "# STRING FORMATTING OPERATOR %\n",
    "print('%s is a metal' % 'gold')\n",
    "\n",
    "color = 'yellow'\n",
    "num = 7\n",
    "print( '%s is a color of %d main colors in a rainbow!' % (color, num) )\n",
    "\n",
    "# %s string | %c char | %d decimal | %i integer | %f float"
   ]
  },
  {
   "cell_type": "markdown",
   "metadata": {
    "id": "Pm4-x9PQMNCE"
   },
   "source": [
    "###  STRING FORMATTING OPERATOR `%` EXAMPLE"
   ]
  },
  {
   "cell_type": "code",
   "execution_count": 31,
   "metadata": {
    "colab": {
     "base_uri": "https://localhost:8080/"
    },
    "id": "tYijrN6R4y-I",
    "outputId": "793228ea-ed78-4494-965c-a198fe03e57d"
   },
   "outputs": [
    {
     "name": "stdout",
     "output_type": "stream",
     "text": [
      "3.90\n"
     ]
    }
   ],
   "source": [
    "# STRING FORMATTING OPERATOR % EXAMPLE\n",
    "# https://docs.python.org/3/library/string.html\n",
    "print('%.2f' % 3.895)"
   ]
  },
  {
   "cell_type": "markdown",
   "metadata": {
    "id": "_nArhmD-MbRc"
   },
   "source": [
    "##  `in` OPERATOR"
   ]
  },
  {
   "cell_type": "code",
   "execution_count": 32,
   "metadata": {
    "colab": {
     "base_uri": "https://localhost:8080/"
    },
    "id": "HHLBEYn06OLH",
    "outputId": "d8974b2f-fc71-405e-b679-a3396d59f1c9"
   },
   "outputs": [
    {
     "name": "stdout",
     "output_type": "stream",
     "text": [
      "True\n"
     ]
    }
   ],
   "source": [
    "# in OPERATOR\n",
    "print('e' in 'hello')"
   ]
  },
  {
   "cell_type": "markdown",
   "metadata": {
    "id": "hEPMlQgdMek0"
   },
   "source": [
    "##  STRING COMPARISON"
   ]
  },
  {
   "cell_type": "code",
   "execution_count": 33,
   "metadata": {
    "colab": {
     "base_uri": "https://localhost:8080/"
    },
    "id": "HJ1lQgtX6ao5",
    "outputId": "286d67d2-5b2a-4752-af16-010fb9bd0453"
   },
   "outputs": [
    {
     "name": "stdout",
     "output_type": "stream",
     "text": [
      "False\n",
      "False\n",
      "True\n"
     ]
    }
   ],
   "source": [
    "# STRING COMPARISON\n",
    "print('abc' > 'def')\n",
    "print('abc' > 'd')\n",
    "print('axyz' < 'bcde')"
   ]
  },
  {
   "cell_type": "markdown",
   "metadata": {
    "id": "t7tsFGUxMgpb"
   },
   "source": [
    "## THE DIRECTORY FUNCTION `dir()`"
   ]
  },
  {
   "cell_type": "code",
   "execution_count": 34,
   "metadata": {
    "colab": {
     "base_uri": "https://localhost:8080/"
    },
    "id": "zizudiBv6qSL",
    "outputId": "9a2b0dc2-8dfb-4a94-8393-016d9a46cca3"
   },
   "outputs": [
    {
     "name": "stdout",
     "output_type": "stream",
     "text": [
      "... __sizeof__ __str__ __subclasshook__ capitalize casefold center count encode ...\n",
      "and a lot more!\n"
     ]
    }
   ],
   "source": [
    "# THE DIRECTORY FUNCTION dir()\n",
    "s = '????'\n",
    "print('...',*dir(s)[30:38], '...\\nand a lot more!')"
   ]
  },
  {
   "cell_type": "markdown",
   "metadata": {
    "id": "HVT10s3NMilc"
   },
   "source": [
    "## IMPORTANT FUNCTIONS AND METHODS"
   ]
  },
  {
   "cell_type": "markdown",
   "metadata": {
    "id": "ePbIFrYKMmrT"
   },
   "source": [
    "### `capitalize()`, `center()`"
   ]
  },
  {
   "cell_type": "code",
   "execution_count": 35,
   "metadata": {
    "colab": {
     "base_uri": "https://localhost:8080/"
    },
    "id": "moSBjKTj72A2",
    "outputId": "4791b091-7f5d-493d-a77f-e5afea2d1ffb"
   },
   "outputs": [
    {
     "name": "stdout",
     "output_type": "stream",
     "text": [
      "Hello\n",
      "    hello     \n",
      "*******hello********\n"
     ]
    }
   ],
   "source": [
    "# capitalize(), center()\n",
    "print('hello'.capitalize())\n",
    "print('hello'.center(14))\n",
    "print('hello'.center(20, '*'))"
   ]
  },
  {
   "cell_type": "markdown",
   "metadata": {
    "id": "vlEINpBNMrpc"
   },
   "source": [
    "###  `endswith()`, `startswith()`"
   ]
  },
  {
   "cell_type": "code",
   "execution_count": 36,
   "metadata": {
    "colab": {
     "base_uri": "https://localhost:8080/"
    },
    "id": "evOk61ou8qw-",
    "outputId": "b83f4048-b62d-40fc-b139-945283c4f32b"
   },
   "outputs": [
    {
     "name": "stdout",
     "output_type": "stream",
     "text": [
      "True\n",
      "False\n",
      "\n",
      "True\n",
      "True\n"
     ]
    }
   ],
   "source": [
    "# endswith(), startswith()\n",
    "print('hello'.endswith('o'))\n",
    "print('hello'.endswith('o', 1, 4))\n",
    "#      01234\n",
    "# search from 1 to 3 = 'ell'\n",
    "print()\n",
    "\n",
    "print('hello'.startswith('h'))\n",
    "print('hello'.startswith('e', 1, 4))\n",
    "#      01234\n",
    "# search from 1 to 3 = 'ell'"
   ]
  },
  {
   "cell_type": "markdown",
   "metadata": {
    "id": "lJUst4ojMwpN"
   },
   "source": [
    "###  `find()`"
   ]
  },
  {
   "cell_type": "code",
   "execution_count": 37,
   "metadata": {
    "colab": {
     "base_uri": "https://localhost:8080/"
    },
    "id": "DAT9APUY9hUn",
    "outputId": "2cccdc8c-43e3-470c-924c-0365964bd3e7"
   },
   "outputs": [
    {
     "name": "stdout",
     "output_type": "stream",
     "text": [
      "2\n",
      "3\n"
     ]
    }
   ],
   "source": [
    "# find()\n",
    "print('hello'.find('l'))\n",
    "print('hello'.find('l', 3, 5))\n",
    "#      01234"
   ]
  },
  {
   "cell_type": "markdown",
   "metadata": {
    "id": "Q8SZXBQCMyzf"
   },
   "source": [
    "### `lstrip()`, `rstrip()`, `strip()`"
   ]
  },
  {
   "cell_type": "code",
   "execution_count": 38,
   "metadata": {
    "colab": {
     "base_uri": "https://localhost:8080/"
    },
    "id": "UbEFD_OO90JP",
    "outputId": "86d18db3-f99f-48d8-d4de-c2fc3a6e07a2"
   },
   "outputs": [
    {
     "name": "stdout",
     "output_type": "stream",
     "text": [
      "\"hello        \"\n",
      "\"__   hello __*****  \"\n",
      "\n",
      "\"    hello\"\n",
      "\"***__   hello __*****  \"\n",
      "\n",
      "\"hello\"\n",
      "\"__   hello __*****  \"\n",
      "\n"
     ]
    }
   ],
   "source": [
    "# lstrip(), rstrip(), strip()\n",
    "def pr(s):\n",
    "    print('\"%s\"' % s)\n",
    "\n",
    "pr('    hello        '.lstrip())\n",
    "pr('***__   hello __*****  '.lstrip('*'))\n",
    "print()\n",
    "\n",
    "pr('    hello        '.rstrip())\n",
    "pr('***__   hello __*****  '.rstrip('*'))\n",
    "print()\n",
    "\n",
    "pr('    hello        '.strip())\n",
    "pr('***__   hello __*****  '.strip('*'))\n",
    "print()"
   ]
  },
  {
   "cell_type": "markdown",
   "metadata": {
    "id": "4kH_xqeGM94M"
   },
   "source": [
    "###  `join()`"
   ]
  },
  {
   "cell_type": "code",
   "execution_count": 39,
   "metadata": {
    "colab": {
     "base_uri": "https://localhost:8080/"
    },
    "id": "zcih8LYQ_Oj0",
    "outputId": "d65d3323-718a-4504-cd33-f4c166f28acc"
   },
   "outputs": [
    {
     "name": "stdout",
     "output_type": "stream",
     "text": [
      "hello_from_the_other_side\n",
      "the-other-from-side-hello\n"
     ]
    }
   ],
   "source": [
    "# join()\n",
    "wrdlst = ['hello', 'from', 'the', 'other', 'side']\n",
    "print('_'.join(wrdlst))\n",
    "\n",
    "wrdset = {'hello', 'from', 'the', 'other', 'side'}\n",
    "print('-'.join(wrdset))"
   ]
  },
  {
   "cell_type": "markdown",
   "metadata": {
    "id": "E4abd0FENB1t"
   },
   "source": [
    "### `replace()`"
   ]
  },
  {
   "cell_type": "code",
   "execution_count": 40,
   "metadata": {
    "colab": {
     "base_uri": "https://localhost:8080/"
    },
    "id": "g3rnKa7gAVed",
    "outputId": "1e56de48-fc8c-43eb-cf3b-b57b1f523896"
   },
   "outputs": [
    {
     "name": "stdout",
     "output_type": "stream",
     "text": [
      "he**o, *ong time no see\n",
      "he**o, long time no see\n"
     ]
    }
   ],
   "source": [
    "# replace()\n",
    "print('hello, long time no see'.replace('l', '*'))\n",
    "print('hello, long time no see'.replace('l', '*', 2))\n",
    "# only the 2 first ones are replaced "
   ]
  },
  {
   "cell_type": "markdown",
   "metadata": {
    "id": "K8SAeB0wNEa8"
   },
   "source": [
    "###  `lower()`, `upper()`"
   ]
  },
  {
   "cell_type": "code",
   "execution_count": 41,
   "metadata": {
    "colab": {
     "base_uri": "https://localhost:8080/"
    },
    "id": "tcwBsCoIA2gE",
    "outputId": "a4ffb723-8375-4e89-9ac5-903feb72931d"
   },
   "outputs": [
    {
     "name": "stdout",
     "output_type": "stream",
     "text": [
      "hello\n",
      "HELLO\n"
     ]
    }
   ],
   "source": [
    "# lower(), upper()\n",
    "print('hELlO'.lower())\n",
    "print('hELlO'.upper())"
   ]
  },
  {
   "cell_type": "markdown",
   "metadata": {
    "id": "qsEuxEZLCNHj"
   },
   "source": [
    "# CHAPTER 5: LISTS, SETS, DICTIONARIES AND TUPLES"
   ]
  },
  {
   "cell_type": "markdown",
   "metadata": {
    "id": "gGjGsB40PhVr"
   },
   "source": [
    "## LISTS"
   ]
  },
  {
   "cell_type": "markdown",
   "metadata": {
    "id": "1o6LTYKJQSjA"
   },
   "source": [
    "### LIST EXAMPLE"
   ]
  },
  {
   "cell_type": "code",
   "execution_count": 42,
   "metadata": {
    "colab": {
     "base_uri": "https://localhost:8080/"
    },
    "id": "v0Yx1WyXClUj",
    "outputId": "625a81d5-b045-401e-d01d-c4dca84e357a"
   },
   "outputs": [
    {
     "name": "stdout",
     "output_type": "stream",
     "text": [
      "['a', 8, 'bc', 'd', [15, 6]]\n"
     ]
    }
   ],
   "source": [
    "# LIST EXAMPLE\n",
    "lst = ['a', 8, 'bc', 'd', [15, 6]]\n",
    "print(lst)"
   ]
  },
  {
   "cell_type": "markdown",
   "metadata": {
    "id": "FT38HktlNSKM"
   },
   "source": [
    "###  LOOP A LIST"
   ]
  },
  {
   "cell_type": "code",
   "execution_count": 43,
   "metadata": {
    "colab": {
     "base_uri": "https://localhost:8080/"
    },
    "id": "AiQZQOVaC4Jb",
    "outputId": "3e112205-1b6e-4eec-bf9a-3b1544bfbdc3"
   },
   "outputs": [
    {
     "name": "stdout",
     "output_type": "stream",
     "text": [
      "a\n",
      "8\n",
      "bc\n",
      "d\n",
      "[15, 6]\n"
     ]
    }
   ],
   "source": [
    "# LIST LOOPS\n",
    "for ele in lst:\n",
    "    print(ele)"
   ]
  },
  {
   "cell_type": "markdown",
   "metadata": {
    "id": "I56drTesNYKL"
   },
   "source": [
    "### LISTS ARE MUTABLE"
   ]
  },
  {
   "cell_type": "code",
   "execution_count": 44,
   "metadata": {
    "colab": {
     "base_uri": "https://localhost:8080/"
    },
    "id": "jZHcyaHXDHpD",
    "outputId": "16c58587-6947-499e-d739-1cb1649f044b"
   },
   "outputs": [
    {
     "name": "stdout",
     "output_type": "stream",
     "text": [
      "['^_^', 8, 'bc', 'd', [15, 6]]\n"
     ]
    }
   ],
   "source": [
    "# LISTS ARE MUTABLE\n",
    "lst[0] = '^_^'\n",
    "print(lst)"
   ]
  },
  {
   "cell_type": "markdown",
   "metadata": {
    "id": "A7qn3sA9NZts"
   },
   "source": [
    "### `len()` OF A LIST"
   ]
  },
  {
   "cell_type": "code",
   "execution_count": 45,
   "metadata": {
    "colab": {
     "base_uri": "https://localhost:8080/"
    },
    "id": "nYRT595sDsEj",
    "outputId": "362a7e2a-7b30-4135-a143-275119cd595d"
   },
   "outputs": [
    {
     "name": "stdout",
     "output_type": "stream",
     "text": [
      "5\n",
      "5\n"
     ]
    }
   ],
   "source": [
    "# len OF A LIST\n",
    "print(len(lst))\n",
    "print(lst.__len__())"
   ]
  },
  {
   "cell_type": "markdown",
   "metadata": {
    "id": "HOChjEPuNbyl"
   },
   "source": [
    "### THE `range()` FUNCTION"
   ]
  },
  {
   "cell_type": "code",
   "execution_count": 46,
   "metadata": {
    "colab": {
     "base_uri": "https://localhost:8080/"
    },
    "id": "xcqhLyjiD-qb",
    "outputId": "1daf583f-c8bf-4048-8bec-8ff2e9322381"
   },
   "outputs": [
    {
     "name": "stdout",
     "output_type": "stream",
     "text": [
      "0 1 2 3 4 5 6 7\n",
      "3 4 5 6 7\n",
      "3 6\n",
      "8 6 4\n"
     ]
    }
   ],
   "source": [
    "# THE range() FUNCTION\n",
    "print(*range(8))\n",
    "print(*range(3, 8))\n",
    "print(*range(3, 8, 3))\n",
    "print(*range(8, 3, -2))"
   ]
  },
  {
   "cell_type": "markdown",
   "metadata": {
    "id": "NgrngArVNkk2"
   },
   "source": [
    "### CONCATENATING LISTS USING `+`"
   ]
  },
  {
   "cell_type": "code",
   "execution_count": 47,
   "metadata": {
    "colab": {
     "base_uri": "https://localhost:8080/"
    },
    "id": "fOEcXDmvEeaD",
    "outputId": "867060d6-d546-49a2-fb45-555858c6fed9"
   },
   "outputs": [
    {
     "name": "stdout",
     "output_type": "stream",
     "text": [
      "['^_^', 8, 'bc', 'd', [15, 6]]\n",
      "['^_^', 8, 'bc', 'd', [15, 6], 7, 3, 'h']\n"
     ]
    }
   ],
   "source": [
    "# CONCATENATING LISTS USING +\n",
    "print(lst)\n",
    "print(lst + [7, 3, 'h'])"
   ]
  },
  {
   "cell_type": "markdown",
   "metadata": {
    "id": "4dvZJmbdNl28"
   },
   "source": [
    "### LIST SLICING"
   ]
  },
  {
   "cell_type": "code",
   "execution_count": 48,
   "metadata": {
    "colab": {
     "base_uri": "https://localhost:8080/"
    },
    "id": "L_moJPfdE2IL",
    "outputId": "17aa93d3-ce92-4b4a-da8a-e384be1201ea"
   },
   "outputs": [
    {
     "name": "stdout",
     "output_type": "stream",
     "text": [
      "['^_^', 8, 'bc', 'd', [15, 6]]\n",
      "['^_^', 8, 'bc']\n",
      "d\n"
     ]
    }
   ],
   "source": [
    "# LIST SLICING\n",
    "print(lst)\n",
    "print(lst[:3])\n",
    "print(lst[-2])"
   ]
  },
  {
   "cell_type": "markdown",
   "metadata": {
    "id": "0ypPykMoNnpc"
   },
   "source": [
    "### LIST METHODS AND FUNCTIONS"
   ]
  },
  {
   "cell_type": "code",
   "execution_count": 49,
   "metadata": {
    "colab": {
     "base_uri": "https://localhost:8080/"
    },
    "id": "OouG2k7RFFYD",
    "outputId": "7919be92-6c6f-4d65-f9dd-5b11c27784b1"
   },
   "outputs": [
    {
     "name": "stdout",
     "output_type": "stream",
     "text": [
      "__subclasshook__\n",
      "append\n",
      "clear\n",
      "copy\n",
      "count\n",
      "extend\n",
      "index\n",
      "insert\n",
      "pop\n",
      "remove\n",
      "reverse\n",
      "sort\n"
     ]
    }
   ],
   "source": [
    "# LIST METHODS AND FUNCTIONS\n",
    "for met in dir(lst)[34:]:\n",
    "    print(met)"
   ]
  },
  {
   "cell_type": "markdown",
   "metadata": {
    "id": "uTzKA4A6NrkW"
   },
   "source": [
    "#### `append()`"
   ]
  },
  {
   "cell_type": "code",
   "execution_count": 50,
   "metadata": {
    "colab": {
     "base_uri": "https://localhost:8080/"
    },
    "id": "1D1x5TVWGHTi",
    "outputId": "99c82c94-b7c3-4b8f-eb7b-d95eaad615ee"
   },
   "outputs": [
    {
     "name": "stdout",
     "output_type": "stream",
     "text": [
      "['^_^', 8, 'bc', 'd', [15, 6], 'appended string']\n"
     ]
    }
   ],
   "source": [
    "# append()\n",
    "new_lst = lst[:]\n",
    "new_lst.append('appended string')\n",
    "print(new_lst)"
   ]
  },
  {
   "cell_type": "markdown",
   "metadata": {
    "id": "QnCkmGGeNuib"
   },
   "source": [
    "#### `in` OPERATOR"
   ]
  },
  {
   "cell_type": "code",
   "execution_count": 51,
   "metadata": {
    "colab": {
     "base_uri": "https://localhost:8080/"
    },
    "id": "ML29qhZcGzPS",
    "outputId": "e85d3959-950e-4378-9b4b-463e79c3b952"
   },
   "outputs": [
    {
     "name": "stdout",
     "output_type": "stream",
     "text": [
      "True\n",
      "False\n",
      "True\n",
      "False\n"
     ]
    }
   ],
   "source": [
    "# in OPERATOR\n",
    "print(8 in lst)\n",
    "print(9 in lst)\n",
    "print('^_^' in lst)\n",
    "print('^_^' not in lst)"
   ]
  },
  {
   "cell_type": "markdown",
   "metadata": {
    "id": "gCz2b4AuNw58"
   },
   "source": [
    "#### `max()`, `min()`, `sum()`"
   ]
  },
  {
   "cell_type": "code",
   "execution_count": 52,
   "metadata": {
    "colab": {
     "base_uri": "https://localhost:8080/"
    },
    "id": "4bt41FYgHIMJ",
    "outputId": "4071dcf5-83a1-42a3-b214-d4f3debaf7e7"
   },
   "outputs": [
    {
     "name": "stdout",
     "output_type": "stream",
     "text": [
      "69\n",
      "6\n",
      "84\n"
     ]
    }
   ],
   "source": [
    "# max(), min(), sum()\n",
    "new_lst = [6, 69, 9]\n",
    "print(max(new_lst))\n",
    "print(min(new_lst))\n",
    "print(sum(new_lst))"
   ]
  },
  {
   "cell_type": "markdown",
   "metadata": {
    "id": "Zh9yp0DBN1Oi"
   },
   "source": [
    "#### `sort()`, `sorted()`"
   ]
  },
  {
   "cell_type": "code",
   "execution_count": 53,
   "metadata": {
    "colab": {
     "base_uri": "https://localhost:8080/"
    },
    "id": "TDK_f1WIHjQJ",
    "outputId": "33e5bc53-a866-49e0-9126-a8d171e4d0a3"
   },
   "outputs": [
    {
     "name": "stdout",
     "output_type": "stream",
     "text": [
      "[6, 9, 69]\n",
      "[6, 69, 9]\n"
     ]
    }
   ],
   "source": [
    "# sort(), sorted()\n",
    "new_lst = [6, 69, 9]\n",
    "new_lst = sorted(new_lst)\n",
    "print(new_lst)\n",
    "new_lst.sort(reverse = True, key = lambda x: x % 8)\n",
    "'''\n",
    "6 % 8 = 6\n",
    "69 % 8 = 5\n",
    "9 % 8 = 1\n",
    "'''\n",
    "print(new_lst)"
   ]
  },
  {
   "cell_type": "markdown",
   "metadata": {
    "id": "EWM4qSr1N6rD"
   },
   "source": [
    "####  `del`, `pop()`, `remove()`"
   ]
  },
  {
   "cell_type": "code",
   "execution_count": 54,
   "metadata": {
    "colab": {
     "base_uri": "https://localhost:8080/"
    },
    "id": "ge_g_iLBIPLI",
    "outputId": "49050763-b428-4520-9a5e-32de927a7971"
   },
   "outputs": [
    {
     "name": "stdout",
     "output_type": "stream",
     "text": [
      "['^_^', 8, 'bc', 'd', [15, 6]]\n",
      "['^_^', 8, 'bc', 'd']\n",
      "['^_^', 8, 'bc']\n",
      "['^_^', 8]\n"
     ]
    }
   ],
   "source": [
    "# del, pop(), remove()\n",
    "new_lst = lst[:]\n",
    "print(new_lst)\n",
    "\n",
    "del new_lst[4]\n",
    "print(new_lst)\n",
    "\n",
    "new_lst.pop()\n",
    "print(new_lst)\n",
    "\n",
    "new_lst.remove('bc')\n",
    "print(new_lst)"
   ]
  },
  {
   "cell_type": "markdown",
   "metadata": {
    "id": "Yaxt8fDxOAZD"
   },
   "source": [
    "#### `reverse()`"
   ]
  },
  {
   "cell_type": "code",
   "execution_count": 55,
   "metadata": {
    "colab": {
     "base_uri": "https://localhost:8080/"
    },
    "id": "23Z7G-N2I4VA",
    "outputId": "602d3af8-9e2d-4cba-b602-5eb1555b1696"
   },
   "outputs": [
    {
     "name": "stdout",
     "output_type": "stream",
     "text": [
      "['^_^', 8, 'bc', 'd', [15, 6]]\n",
      "[[15, 6], 'd', 'bc', 8, '^_^']\n"
     ]
    }
   ],
   "source": [
    "# reverse()\n",
    "new_lst = lst[:]\n",
    "print(new_lst)\n",
    "\n",
    "new_lst.reverse()\n",
    "print(new_lst)\n"
   ]
  },
  {
   "cell_type": "markdown",
   "metadata": {
    "id": "OM4f6n4hODSr"
   },
   "source": [
    "###  LISTS AND STRINGS"
   ]
  },
  {
   "cell_type": "code",
   "execution_count": 56,
   "metadata": {
    "colab": {
     "base_uri": "https://localhost:8080/"
    },
    "id": "cwy8BSATOcGu",
    "outputId": "80ea5e96-aff2-4199-caac-abd9df8b992a"
   },
   "outputs": [
    {
     "name": "stdout",
     "output_type": "stream",
     "text": [
      "['t', 'h', 'i', 's', ' ', 'o', 'n', 'e', '!', ' ', 'i', 's', ' ', 'a', ' ', 's', 't', 'r', 'i', 'n', 'g']\n",
      "['this', 'one!', 'is', 'a', 'string']\n",
      "['this one', ' is a string']\n",
      "hi-there-?\n"
     ]
    }
   ],
   "source": [
    "# LISTS AND STRINGS\n",
    "s = 'this one! is a string'\n",
    "print(list(s))\n",
    "print(s.split())\n",
    "print(s.split('!'))\n",
    "\n",
    "new_lst = ['hi', 'there', '?']\n",
    "print('-'.join(new_lst))"
   ]
  },
  {
   "cell_type": "markdown",
   "metadata": {
    "id": "wsjBbqllOHKj"
   },
   "source": [
    "###  ALIASES"
   ]
  },
  {
   "cell_type": "code",
   "execution_count": 57,
   "metadata": {
    "colab": {
     "base_uri": "https://localhost:8080/"
    },
    "id": "kR_K48-VOpWe",
    "outputId": "33667939-8a7a-43f5-fbaf-387e671d4a42"
   },
   "outputs": [
    {
     "name": "stdout",
     "output_type": "stream",
     "text": [
      "[1, 3, 4, '?']\n"
     ]
    }
   ],
   "source": [
    "# ALIASES\n",
    "lst_a = [1, 3, 4]\n",
    "lst_b = lst_a\n",
    "\n",
    "lst_b.append('?')\n",
    "print(lst_a)"
   ]
  },
  {
   "cell_type": "markdown",
   "metadata": {
    "id": "9WpVgFR-OI57"
   },
   "source": [
    "###  MUTATION AND ITERATION"
   ]
  },
  {
   "cell_type": "code",
   "execution_count": 58,
   "metadata": {
    "colab": {
     "base_uri": "https://localhost:8080/"
    },
    "id": "46dhTpNWQP7-",
    "outputId": "e0a4466d-a7ad-438a-f5a6-91ad375f7de0"
   },
   "outputs": [
    {
     "name": "stdout",
     "output_type": "stream",
     "text": [
      "[1, 4]\n"
     ]
    }
   ],
   "source": [
    "# MUTATION AND ITERATION\n",
    "lst_a = [1, 3, 4]\n",
    "lst_b = [4, 3, 9]\n",
    "# trying to remove values in lst_a which are already in lst_b \n",
    "for num in lst_a:\n",
    "    if num in lst_b:\n",
    "        lst_a.remove(num)\n",
    "print(lst_a)\n",
    "# avoid mutating the list while iterating over it"
   ]
  },
  {
   "cell_type": "markdown",
   "metadata": {
    "id": "LYLpEEl1OLFj"
   },
   "source": [
    "###  LIST ARGUMENTS"
   ]
  },
  {
   "cell_type": "code",
   "execution_count": 59,
   "metadata": {
    "colab": {
     "base_uri": "https://localhost:8080/"
    },
    "id": "oYIXTvd6Rqe9",
    "outputId": "f7f5548e-326d-4f13-fb97-c7df5d54516e"
   },
   "outputs": [
    {
     "name": "stdout",
     "output_type": "stream",
     "text": [
      "[1, 3, 6]\n",
      "List in wrong one: [1, 3, 6]\n",
      "[1, 3, 6, 9]\n"
     ]
    }
   ],
   "source": [
    "# LIST ARGUMENTS\n",
    "def delete_last(a_lst):\n",
    "    del a_lst[-1]\n",
    "    # this function mutates the global list\n",
    "\n",
    "def wrong_delete_last(a_lst):\n",
    "    a_lst = a_lst[:-1]\n",
    "    print('List in wrong one:', a_lst)\n",
    "    # this one doesn't, a_lst now becomes a local variable\n",
    "\n",
    "new_lst = [1, 3, 6, 9]\n",
    "delete_last(new_lst)\n",
    "print(new_lst)\n",
    "\n",
    "new_lst = [1, 3, 6, 9]\n",
    "wrong_delete_last(new_lst)\n",
    "print(new_lst)"
   ]
  },
  {
   "cell_type": "markdown",
   "metadata": {
    "id": "FSkufUenS9Hm"
   },
   "source": [
    "###  MapReduce AND LIST COMPREHENSION"
   ]
  },
  {
   "cell_type": "markdown",
   "metadata": {
    "id": "b3S9oygtOOoz"
   },
   "source": [
    "####  `map()`"
   ]
  },
  {
   "cell_type": "code",
   "execution_count": 60,
   "metadata": {
    "colab": {
     "base_uri": "https://localhost:8080/"
    },
    "id": "Qi1yCsNrTLpl",
    "outputId": "6b6dcc71-4cae-4afb-9616-7b108e9918d1"
   },
   "outputs": [
    {
     "name": "stdout",
     "output_type": "stream",
     "text": [
      "[4, 6, 9, 11, 12, 13]\n"
     ]
    }
   ],
   "source": [
    "# map()\n",
    "new_lst = [1, 3, 6, 8, 9, 10]\n",
    "print(list(map(lambda x: x + 3, new_lst)))"
   ]
  },
  {
   "cell_type": "markdown",
   "metadata": {
    "id": "VLWowtOOORbb"
   },
   "source": [
    "####  `reduce()`"
   ]
  },
  {
   "cell_type": "code",
   "execution_count": 61,
   "metadata": {
    "colab": {
     "base_uri": "https://localhost:8080/"
    },
    "id": "wJpahO3zT6jM",
    "outputId": "fb2b2e64-18b2-4fa9-e388-9b474952d665"
   },
   "outputs": [
    {
     "name": "stdout",
     "output_type": "stream",
     "text": [
      "11\n",
      "3011\n"
     ]
    }
   ],
   "source": [
    "# reduce()\n",
    "from functools import reduce\n",
    "new_lst = [1, 3, 6, 1]\n",
    "print(reduce(lambda x, y: x + y, new_lst))\n",
    "print(reduce(lambda x, y: x + y, new_lst, 3000))\n",
    "#                                         initializer"
   ]
  },
  {
   "cell_type": "markdown",
   "metadata": {
    "id": "sfNplQ-POVmn"
   },
   "source": [
    "####  MapReduce APPLICATION: COUNT NUMBER OF A WORD"
   ]
  },
  {
   "cell_type": "code",
   "execution_count": 62,
   "metadata": {
    "colab": {
     "base_uri": "https://localhost:8080/"
    },
    "id": "E7pLf0-SUoh8",
    "outputId": "fab2d5e7-1830-4147-8211-fda24d0f7f76"
   },
   "outputs": [
    {
     "name": "stdout",
     "output_type": "stream",
     "text": [
      "[1, 0, 0, 0, 0, 0, 0, 0, 1, 0, 0, 0, 0, 0, 1, 0, 0, 0, 0, 0, 0, 0, 0, 0, 0, 0, 0, 0, 0, 0, 0, 1, 0, 0, 1, 0, 0, 0, 0, 0, 0, 0, 0, 0, 0, 0, 0, 0, 0, 0, 0, 0, 0, 0, 0, 0, 1, 0, 0, 1, 0, 0, 0, 0, 1, 0, 0, 0, 1, 0, 0, 0, 0, 0, 0, 0, 1, 0, 0, 0, 0, 0, 0, 0, 0, 0, 0, 0, 0, 0, 0, 0, 0, 0, 0, 0, 0, 0, 1, 0, 0, 0, 0, 0, 0, 0, 0, 0, 0, 0, 0, 0, 0, 0, 0, 0, 0, 0, 0, 0, 0, 0, 0, 0, 0, 0, 0, 0, 0, 0, 0, 0, 0, 0, 0, 0, 0, 0, 0, 0, 0, 0, 1, 0, 0, 0, 0, 0, 0, 0, 0, 0, 0, 0, 0, 0, 0, 0, 1, 0, 0, 0, 0, 1, 0, 0, 0, 0, 0, 0, 0, 0, 0, 0, 0, 0, 0, 0, 0, 0, 0, 0, 0, 0, 0, 0, 1, 0, 0]\n",
      "15\n"
     ]
    }
   ],
   "source": [
    "# MapReduce APPLICATION: COUNT NUMBER OF A WORD\n",
    "# count the number of the word \"the\"/\"The\" in a sentence\n",
    "text = 'The word \"deep\" in \"deep learning\" refers to the number of layers through which the data is transformed. More precisely, deep learning systems have a substantial credit assignment path (CAP) depth. The CAP is the chain of transformations from input to output. CAPs describe potentially causal connections between input and output. For a feedforward neural network, the depth of the CAPs is that of the network and is the number of hidden layers plus one (as the output layer is also parameterized). For recurrent neural networks, in which a signal may propagate through a layer more than once, the CAP depth is potentially unlimited.[2] No universally agreed-upon threshold of depth divides shallow learning from deep learning, but most researchers agree that deep learning involves CAP depth higher than 2. CAP of depth 2 has been shown to be a universal approximator in the sense that it can emulate any function.[15] Beyond that, more layers do not add to the function approximator ability of the network. Deep models (CAP > 2) are able to extract better features than shallow models and hence, extra layers help in learning the features effectively.'\n",
    "ifThe = lambda word: 1 if word in ['the', 'The'] else 0\n",
    "sumof2 = lambda x, y: x + y\n",
    "print(list(map(ifThe, text.split())))\n",
    "print(reduce(sumof2, list(map(ifThe, text.split()))))"
   ]
  },
  {
   "cell_type": "markdown",
   "metadata": {
    "id": "00fWxiSKfYsa"
   },
   "source": [
    "#### LIST COMPREHENSION"
   ]
  },
  {
   "cell_type": "code",
   "execution_count": 63,
   "metadata": {
    "colab": {
     "base_uri": "https://localhost:8080/"
    },
    "id": "8kXXAbPxW5iH",
    "outputId": "7f75d168-5149-4970-a3b0-4bf394831381"
   },
   "outputs": [
    {
     "name": "stdout",
     "output_type": "stream",
     "text": [
      "['h', 'e', 'l', 'l', 'o', ' ', 't', 'h', 'e', 'r', 'e'] \n",
      "\n",
      "['The', 'the', 'the', 'The', 'the', 'the', 'the', 'the', 'the', 'the', 'the', 'the', 'the', 'the', 'the']\n",
      "15\n",
      "[1, 0, 0, 0, 0, 0, 0, 0, 1, 0, 0, 0, 0, 0, 1, 0, 0, 0, 0, 0, 0, 0, 0, 0, 0, 0, 0, 0, 0, 0, 0, 1, 0, 0, 1, 0, 0, 0, 0, 0, 0, 0, 0, 0, 0, 0, 0, 0, 0, 0, 0, 0, 0, 0, 0, 0, 1, 0, 0, 1, 0, 0, 0, 0, 1, 0, 0, 0, 1, 0, 0, 0, 0, 0, 0, 0, 1, 0, 0, 0, 0, 0, 0, 0, 0, 0, 0, 0, 0, 0, 0, 0, 0, 0, 0, 0, 0, 0, 1, 0, 0, 0, 0, 0, 0, 0, 0, 0, 0, 0, 0, 0, 0, 0, 0, 0, 0, 0, 0, 0, 0, 0, 0, 0, 0, 0, 0, 0, 0, 0, 0, 0, 0, 0, 0, 0, 0, 0, 0, 0, 0, 0, 1, 0, 0, 0, 0, 0, 0, 0, 0, 0, 0, 0, 0, 0, 0, 0, 1, 0, 0, 0, 0, 1, 0, 0, 0, 0, 0, 0, 0, 0, 0, 0, 0, 0, 0, 0, 0, 0, 0, 0, 0, 0, 0, 0, 1, 0, 0]\n"
     ]
    }
   ],
   "source": [
    "# LIST COMPREHENSION\n",
    "print([c for c in 'hello there'], '\\n')\n",
    "\n",
    "cnt_lst = [ word for word in text.split() if word in ['the', 'The'] ]\n",
    "print(cnt_lst)\n",
    "print(len(cnt_lst))\n",
    "\n",
    "cnt_lst_2 = [ 1 if word in ['the', 'The'] else 0 for word in text.split() ]\n",
    "print(cnt_lst_2)"
   ]
  },
  {
   "cell_type": "markdown",
   "metadata": {
    "id": "M0qqA1FXbDom"
   },
   "source": [
    "##  SETS"
   ]
  },
  {
   "cell_type": "markdown",
   "metadata": {
    "id": "_Cjyv5eKOekj"
   },
   "source": [
    "###  SET EXAMPLES"
   ]
  },
  {
   "cell_type": "code",
   "execution_count": 64,
   "metadata": {
    "colab": {
     "base_uri": "https://localhost:8080/"
    },
    "id": "OXx5ZzCAbLWx",
    "outputId": "61da3089-136e-4057-ff35-7b897ac82f7a"
   },
   "outputs": [
    {
     "name": "stdout",
     "output_type": "stream",
     "text": [
      "{8, 3, 4}\n",
      "{'l', 'e', 'h', 'o'}\n"
     ]
    }
   ],
   "source": [
    "# SET EXAMPLES\n",
    "print({3, 4, 8})\n",
    "print(set('hello'))"
   ]
  },
  {
   "cell_type": "markdown",
   "metadata": {
    "id": "ES_WNaXEOgNT"
   },
   "source": [
    "###  SET OPERATIONS"
   ]
  },
  {
   "cell_type": "code",
   "execution_count": 65,
   "metadata": {
    "colab": {
     "base_uri": "https://localhost:8080/"
    },
    "id": "jNmqPjt4bdW5",
    "outputId": "a608f790-23dd-4193-fa95-a836fc00dba6"
   },
   "outputs": [
    {
     "name": "stdout",
     "output_type": "stream",
     "text": [
      "{0, 1}\n",
      "{0, 1, 2, 3, 4, 5}\n",
      "{2, 3}\n",
      "{0, 1, 4, 5}\n"
     ]
    }
   ],
   "source": [
    "# SET OPERATIONS\n",
    "A = {0, 1, 2, 3}\n",
    "B = {2, 3, 4, 5}\n",
    "print(A - B) # in A, not in B\n",
    "print(A | B) # in any of A or B (bitwise or)\n",
    "print(A & B) # in both A and B (bitwise and)\n",
    "print(A ^ B) # in A or B, not both (bitwise xor)"
   ]
  },
  {
   "cell_type": "markdown",
   "metadata": {
    "id": "sfkOnQ5bOhfr"
   },
   "source": [
    "###  SET COMPREHENSION"
   ]
  },
  {
   "cell_type": "code",
   "execution_count": 66,
   "metadata": {
    "colab": {
     "base_uri": "https://localhost:8080/"
    },
    "id": "-6WYC5jicoob",
    "outputId": "c4b2b787-007a-4f6d-9f59-737bf1314b95"
   },
   "outputs": [
    {
     "name": "stdout",
     "output_type": "stream",
     "text": [
      "{'parameterized).', 'network.', 'transformed.', 'effectively.', '2.', 'output.', 'depth.'}\n"
     ]
    }
   ],
   "source": [
    "# SET COMPREHENSION\n",
    "# set of all end-of-sentence words\n",
    "print( {word for word in text.split() if word.endswith('.')} )"
   ]
  },
  {
   "cell_type": "markdown",
   "metadata": {
    "id": "if_6BKRJdwkS"
   },
   "source": [
    "##  DICTIONARIES\n"
   ]
  },
  {
   "cell_type": "markdown",
   "metadata": {
    "id": "KGmW8aAxOjE1"
   },
   "source": [
    "###  DICTIONARY EXAMPLES"
   ]
  },
  {
   "cell_type": "code",
   "execution_count": 67,
   "metadata": {
    "colab": {
     "base_uri": "https://localhost:8080/"
    },
    "id": "WboP3NCjdzIn",
    "outputId": "78a4ebeb-092f-47b0-ede1-32ee87917351"
   },
   "outputs": [
    {
     "name": "stdout",
     "output_type": "stream",
     "text": [
      "{8: 'b', '?': 'a'}\n",
      "b\n",
      "a\n",
      "{8: 'b', '?': 'a', '!?': 'mnpq'}\n"
     ]
    }
   ],
   "source": [
    "# DICTIONARY EXAMPLES\n",
    "d = {8: 'b', '?': 'a'}\n",
    "print(d)\n",
    "print(d[8])\n",
    "print(d['?'])\n",
    "d['!?'] = 'mnpq'\n",
    "print(d)"
   ]
  },
  {
   "cell_type": "markdown",
   "metadata": {
    "id": "gPTQ2UWVOk97"
   },
   "source": [
    "###  in OPERATOR"
   ]
  },
  {
   "cell_type": "code",
   "execution_count": 68,
   "metadata": {
    "colab": {
     "base_uri": "https://localhost:8080/"
    },
    "id": "vQyRrL4aeK_v",
    "outputId": "7c5c439d-fd02-45a1-e551-f04305c7f830"
   },
   "outputs": [
    {
     "name": "stdout",
     "output_type": "stream",
     "text": [
      "{8: 'b', '?': 'a'}\n",
      "True\n",
      "False\n"
     ]
    }
   ],
   "source": [
    "# in OPERATOR\n",
    "d = {8: 'b', '?': 'a'}\n",
    "print(d)\n",
    "print('?' in d)\n",
    "print('b' in d)"
   ]
  },
  {
   "cell_type": "markdown",
   "metadata": {
    "id": "GMSREpmiOnTz"
   },
   "source": [
    "### `get()` METHOD"
   ]
  },
  {
   "cell_type": "code",
   "execution_count": 69,
   "metadata": {
    "colab": {
     "base_uri": "https://localhost:8080/"
    },
    "id": "gIElw8BFfWSQ",
    "outputId": "dfb8f60d-1592-461a-be3d-6ffb73eb8172"
   },
   "outputs": [
    {
     "name": "stdout",
     "output_type": "stream",
     "text": [
      "{8: 'b', '?': 'a'}\n",
      "b\n",
      "None\n",
      "5\n",
      "{8: 'b', '?': 'a'}\n"
     ]
    }
   ],
   "source": [
    "# get() METHOD\n",
    "d = {8: 'b', '?': 'a'}\n",
    "print(d)\n",
    "print(d.get(8))\n",
    "print(d.get('a'))\n",
    "print(d.get('m', 5)) # not equivalent to d['m'] = 5\n",
    "print(d)"
   ]
  },
  {
   "cell_type": "markdown",
   "metadata": {
    "id": "ewEdxWmKOqTa"
   },
   "source": [
    "###  APPLICATION: COUNTING WORDS"
   ]
  },
  {
   "cell_type": "code",
   "execution_count": 70,
   "metadata": {
    "colab": {
     "base_uri": "https://localhost:8080/"
    },
    "id": "5KBd2kubfpuv",
    "outputId": "81356358-b73d-4216-d303-a8406d351076"
   },
   "outputs": [
    {
     "name": "stdout",
     "output_type": "stream",
     "text": [
      "{'The': 2, 'word': 1, '\"deep\"': 1, 'in': 4, '\"deep': 1, 'learning\"': 1, 'refers': 1, 'to': 5, 'the': 13, 'number': 2, 'of': 8, 'layers': 4, 'through': 2, 'which': 2, 'data': 1, 'is': 6, 'transformed.': 1, 'More': 1, 'precisely,': 1, 'deep': 3, 'learning': 4, 'systems': 1, 'have': 1, 'a': 5, 'substantial': 1, 'credit': 1, 'assignment': 1, 'path': 1, '(CAP)': 1, 'depth.': 1, 'CAP': 4, 'chain': 1, 'transformations': 1, 'from': 2, 'input': 2, 'output.': 2, 'CAPs': 2, 'describe': 1, 'potentially': 2, 'causal': 1, 'connections': 1, 'between': 1, 'and': 3, 'For': 2, 'feedforward': 1, 'neural': 2, 'network,': 1, 'depth': 5, 'that': 3, 'network': 1, 'hidden': 1, 'plus': 1, 'one': 1, '(as': 1, 'output': 1, 'layer': 2, 'also': 1, 'parameterized).': 1, 'recurrent': 1, 'networks,': 1, 'signal': 1, 'may': 1, 'propagate': 1, 'more': 2, 'than': 3, 'once,': 1, 'unlimited.[2]': 1, 'No': 1, 'universally': 1, 'agreed-upon': 1, 'threshold': 1, 'divides': 1, 'shallow': 2, 'learning,': 1, 'but': 1, 'most': 1, 'researchers': 1, 'agree': 1, 'involves': 1, 'higher': 1, '2.': 1, '2': 1, 'has': 1, 'been': 1, 'shown': 1, 'be': 1, 'universal': 1, 'approximator': 2, 'sense': 1, 'it': 1, 'can': 1, 'emulate': 1, 'any': 1, 'function.[15]': 1, 'Beyond': 1, 'that,': 1, 'do': 1, 'not': 1, 'add': 1, 'function': 1, 'ability': 1, 'network.': 1, 'Deep': 1, 'models': 2, '(CAP': 1, '>': 1, '2)': 1, 'are': 1, 'able': 1, 'extract': 1, 'better': 1, 'features': 2, 'hence,': 1, 'extra': 1, 'help': 1, 'effectively.': 1}\n"
     ]
    }
   ],
   "source": [
    "# APPLICATION: COUNTING WORDS\n",
    "counted = dict()\n",
    "for word in text.split():\n",
    "    counted[word] = counted.get(word, 0) + 1\n",
    "print(counted)"
   ]
  },
  {
   "cell_type": "markdown",
   "metadata": {
    "id": "n6zrl00-Os5J"
   },
   "source": [
    "###  LOOP OVER A DICTIONARY"
   ]
  },
  {
   "cell_type": "code",
   "execution_count": 71,
   "metadata": {
    "colab": {
     "base_uri": "https://localhost:8080/"
    },
    "id": "9crCG0g1hKq-",
    "outputId": "ea6f4303-42cc-48cf-ddd5-16c2b61c2d41"
   },
   "outputs": [
    {
     "name": "stdout",
     "output_type": "stream",
     "text": [
      "8 b\n",
      "? a\n",
      "! b\n",
      "10 15\n"
     ]
    }
   ],
   "source": [
    "# LOOP OVER A DICTIONARY\n",
    "d = {8: 'b', '?': 'a', '!': 'b', 10: 15}\n",
    "for key in d:\n",
    "    print(key, d[key])"
   ]
  },
  {
   "cell_type": "markdown",
   "metadata": {
    "id": "qsMXZyPhOxKC"
   },
   "source": [
    "###  LISTS OF KEYS AND VALUES"
   ]
  },
  {
   "cell_type": "code",
   "execution_count": 72,
   "metadata": {
    "colab": {
     "base_uri": "https://localhost:8080/"
    },
    "id": "Ntj76QvDh699",
    "outputId": "32d3c836-3d61-4019-ee71-71c7f6183d5f"
   },
   "outputs": [
    {
     "name": "stdout",
     "output_type": "stream",
     "text": [
      "[8, '?', '!', 10]\n",
      "['b', 'a', 'b', 15]\n",
      "[(8, 'b'), ('?', 'a'), ('!', 'b'), (10, 15)]\n"
     ]
    }
   ],
   "source": [
    "# LISTS OF KEYS AND VALUES\n",
    "print(list(d.keys()))\n",
    "print(list(d.values()))\n",
    "print(list(d.items()))"
   ]
  },
  {
   "cell_type": "markdown",
   "metadata": {
    "id": "CDtb1NyJOy9i"
   },
   "source": [
    "### TWO ITERATION VARIABLES"
   ]
  },
  {
   "cell_type": "code",
   "execution_count": 73,
   "metadata": {
    "colab": {
     "base_uri": "https://localhost:8080/"
    },
    "id": "OODrc3XGiYOI",
    "outputId": "33844366-ec1c-4d37-cf55-3bac76d781d4"
   },
   "outputs": [
    {
     "name": "stdout",
     "output_type": "stream",
     "text": [
      "8 b\n",
      "? a\n",
      "! b\n",
      "10 15\n"
     ]
    }
   ],
   "source": [
    "# TWO ITERATION VARIABLES\n",
    "for key, value in d.items():\n",
    "    print(key, value)"
   ]
  },
  {
   "cell_type": "markdown",
   "metadata": {
    "id": "1jf75LBiO0YU"
   },
   "source": [
    "### DICTIONARY COMPREHENSION"
   ]
  },
  {
   "cell_type": "code",
   "execution_count": 74,
   "metadata": {
    "colab": {
     "base_uri": "https://localhost:8080/"
    },
    "id": "Qfq5PNlXin--",
    "outputId": "b67a61f7-2f6a-4627-a133-3dd0ca87baa2"
   },
   "outputs": [
    {
     "name": "stdout",
     "output_type": "stream",
     "text": [
      "{2: 16, 3: 24, 4: 32, 5: 40, 6: 48, 7: 56}\n"
     ]
    }
   ],
   "source": [
    "# DICTIONARY COMPREHENSION\n",
    "print({x: x * 8 for x in range(2, 8)})"
   ]
  },
  {
   "cell_type": "markdown",
   "metadata": {
    "id": "DpXLEMaOO19W"
   },
   "source": [
    "### MEMOIZED RECURSION: FIBONACCI EXAMPLE"
   ]
  },
  {
   "cell_type": "code",
   "execution_count": 75,
   "metadata": {
    "colab": {
     "base_uri": "https://localhost:8080/"
    },
    "id": "yvWyYhGWi-jN",
    "outputId": "58356e56-2ad0-444b-c8fd-de17d6aa7680"
   },
   "outputs": [
    {
     "name": "stdout",
     "output_type": "stream",
     "text": [
      "377\n"
     ]
    }
   ],
   "source": [
    "# MEMOIZED RECURSION: FIBONACCI EXAMPLE\n",
    "res = {0: 0, 1: 1}\n",
    "def fib(n):\n",
    "    if n in res:\n",
    "        return res[n]\n",
    "    res[n] = fib(n - 1) + fib(n - 2)\n",
    "    return res[n]\n",
    "print(fib(14))"
   ]
  },
  {
   "cell_type": "markdown",
   "metadata": {
    "id": "smBc4ScQO7Jj"
   },
   "source": [
    "####  MEMOIZED RECURSION: LONGEST INCREASING SUBSEQUENCE EXAMPLE"
   ]
  },
  {
   "cell_type": "code",
   "execution_count": 76,
   "metadata": {
    "colab": {
     "base_uri": "https://localhost:8080/"
    },
    "id": "xhYDWDLdkRdl",
    "outputId": "994c1136-8269-4ad6-ed34-5ee2e934882d"
   },
   "outputs": [
    {
     "name": "stdout",
     "output_type": "stream",
     "text": [
      "  i   num_list[i]    lis_including(i)\n",
      "  0           18                   1\n",
      "  1           12                   1\n",
      "  2           29                   2\n",
      "  3           82                   3\n",
      "  4           66                   3\n",
      "  5           90                   4\n",
      "  6           43                   3\n",
      "  7            6                   1\n",
      "  8          100                   5\n",
      "  9            0                   1\n",
      " 10           31                   3\n",
      " 11           97                   5\n",
      " 12           84                   4\n",
      " 13           89                   5\n",
      " 14            9                   2\n",
      "Result = 5\n"
     ]
    }
   ],
   "source": [
    "# MEMOIZED RECURSION: LONGEST INCREASING SUBSEQUENCE EXAMPLE\n",
    "from random import randint\n",
    "num_list = [randint(0, 100) for i in range(15)]\n",
    " \n",
    "res = {0: 1}\n",
    "def lis_including(i):\n",
    "    if i in res:\n",
    "        return res[i]\n",
    "    max_lis = 1\n",
    "    for j in range(i):\n",
    "        if num_list[j] < num_list[i]:\n",
    "            max_lis = max(max_lis, 1 + lis_including(j))\n",
    "    res[i] = max_lis\n",
    "    return max_lis\n",
    " \n",
    "print('  i   num_list[i]    lis_including(i)')\n",
    "for i in range(15):\n",
    "    print('%3i%13i%20i' % (i, num_list[i], lis_including(i)))\n",
    "print('Result =', max([lis_including(i) for i in range(15)]))"
   ]
  },
  {
   "cell_type": "markdown",
   "metadata": {
    "id": "Vcz1ReWNpEDP"
   },
   "source": [
    "##  TUPLES"
   ]
  },
  {
   "cell_type": "markdown",
   "metadata": {
    "id": "UlXQaHPFPCBb"
   },
   "source": [
    "###  TUPLE EXAMPLES"
   ]
  },
  {
   "cell_type": "code",
   "execution_count": 77,
   "metadata": {
    "colab": {
     "base_uri": "https://localhost:8080/"
    },
    "id": "Ssb12F_GpGD7",
    "outputId": "bdc91e4f-6636-4847-91e2-9b5088e54dc3"
   },
   "outputs": [
    {
     "name": "stdout",
     "output_type": "stream",
     "text": [
      "(3, 5, 7)\n",
      "(1,)\n",
      "1\n"
     ]
    }
   ],
   "source": [
    "# TUPLE EXAMPLES\n",
    "print((3, 5, 7))\n",
    "print((1, ))\n",
    "# Warning: Tuple of 1 element must have a comma\n",
    "print((1))"
   ]
  },
  {
   "cell_type": "markdown",
   "metadata": {
    "id": "9QFunwFoPFek"
   },
   "source": [
    "###  TUPLES ARE IMMUTABLE"
   ]
  },
  {
   "cell_type": "code",
   "execution_count": 78,
   "metadata": {
    "colab": {
     "base_uri": "https://localhost:8080/"
    },
    "id": "f1R2iDE8pYTr",
    "outputId": "3d1dd8c6-3b8e-4011-88f0-5a5ad2447d4e"
   },
   "outputs": [
    {
     "name": "stdout",
     "output_type": "stream",
     "text": [
      "(3, 4, 7)\n"
     ]
    }
   ],
   "source": [
    "# TUPLES ARE IMMUTABLE\n",
    "tup = (3, 4, 7)\n",
    "# tup[0] = 0\n",
    "# TypeError: 'tuple' object does not support item assignment\n",
    "print(tup)"
   ]
  },
  {
   "cell_type": "markdown",
   "metadata": {
    "id": "ga6bR8tdPHFT"
   },
   "source": [
    "###  TUPLE DIRECTORIES"
   ]
  },
  {
   "cell_type": "code",
   "execution_count": 79,
   "metadata": {
    "colab": {
     "base_uri": "https://localhost:8080/"
    },
    "id": "K-X3jW_Epur-",
    "outputId": "f25138b2-fcf4-4b9b-a6fa-fb5a338c5e80"
   },
   "outputs": [
    {
     "name": "stdout",
     "output_type": "stream",
     "text": [
      "['__subclasshook__', 'count', 'index']\n"
     ]
    }
   ],
   "source": [
    "# TUPLE DIRECTORIES\n",
    "print(dir(tuple)[-3:])"
   ]
  },
  {
   "cell_type": "markdown",
   "metadata": {
    "id": "EfaL_HwbPIVr"
   },
   "source": [
    "###  TUPLES AND ASSIGNMENT"
   ]
  },
  {
   "cell_type": "code",
   "execution_count": 80,
   "metadata": {
    "colab": {
     "base_uri": "https://localhost:8080/"
    },
    "id": "P2wH8yi2qHDi",
    "outputId": "7c1c3929-0ebd-42fa-a048-06e83b75d50a"
   },
   "outputs": [
    {
     "name": "stdout",
     "output_type": "stream",
     "text": [
      "a = 3\n",
      "b = 5\n",
      "x = 6\n",
      "y = 9\n"
     ]
    }
   ],
   "source": [
    "# TUPLES AND ASSIGNMENT\n",
    "a, b = (3, 5)\n",
    "print('a = %i\\nb = %i' % (a, b))\n",
    "x, y = 6, 9\n",
    "print('x = %i\\ny = %i' % (x, y))"
   ]
  },
  {
   "cell_type": "markdown",
   "metadata": {
    "id": "7mt2OP-FPJWs"
   },
   "source": [
    "###  TUPLE AS RETURN VALUES"
   ]
  },
  {
   "cell_type": "code",
   "execution_count": 81,
   "metadata": {
    "colab": {
     "base_uri": "https://localhost:8080/"
    },
    "id": "jU5ydGElquiF",
    "outputId": "49e0fe84-6be8-452c-a7ef-0b891fb68e96"
   },
   "outputs": [
    {
     "name": "stdout",
     "output_type": "stream",
     "text": [
      "(3, 4)\n",
      "[32, 41, 63, 45, 88, 90, 79, 35, 31, 100, 86, 38, 72, 11, 83]\n",
      "(100, 9)\n"
     ]
    }
   ],
   "source": [
    "# TUPLE AS RETURN VALUES\n",
    "print(divmod(100, 32))\n",
    "\n",
    "def max_and_index(lst):\n",
    "    index = 0\n",
    "    for i in range(1, 15):\n",
    "        if lst[i] > lst[index]:\n",
    "            index = i\n",
    "    return lst[index], index\n",
    "\n",
    "\n",
    "from random import randint\n",
    "num_list = [randint(0, 100) for i in range(15)]\n",
    "print(num_list)\n",
    "print(max_and_index(num_list))"
   ]
  },
  {
   "cell_type": "markdown",
   "metadata": {
    "id": "WPJvpRpvPKof"
   },
   "source": [
    "###  LISTS AND TUPLES"
   ]
  },
  {
   "cell_type": "code",
   "execution_count": 82,
   "metadata": {
    "colab": {
     "base_uri": "https://localhost:8080/"
    },
    "id": "YhKOF7UjsnNJ",
    "outputId": "a895c5c4-cbd2-4732-be58-b59cd203e66d"
   },
   "outputs": [
    {
     "name": "stdout",
     "output_type": "stream",
     "text": [
      "<zip object at 0x7fb9ea6a24b0>\n",
      "[('a', 3), ('b', 4), ('c', 5), ('d', 6), ('e', 7)]\n",
      "('a', 3)\n",
      "('b', 4)\n",
      "('c', 5)\n",
      "('d', 6)\n",
      "('e', 7)\n"
     ]
    }
   ],
   "source": [
    "# LISTS AND TUPLES\n",
    "z = zip('abcde', [3, 4, 5, 6, 7, 8, 9, 10])\n",
    "print(z)\n",
    "z = zip('abcde', [3, 4, 5, 6, 7, 8, 9, 10])\n",
    "print(list(z))\n",
    "z = zip('abcde', [3, 4, 5, 6, 7, 8, 9, 10])\n",
    "for pair in z:\n",
    "    print(pair)\n"
   ]
  },
  {
   "cell_type": "markdown",
   "metadata": {
    "id": "D-6uh_7nPMA3"
   },
   "source": [
    "####  `enumerate()`"
   ]
  },
  {
   "cell_type": "code",
   "execution_count": 83,
   "metadata": {
    "colab": {
     "base_uri": "https://localhost:8080/"
    },
    "id": "rX3yV_N8t1qI",
    "outputId": "0e75c0a8-bf9e-440a-c488-718ce85fb818"
   },
   "outputs": [
    {
     "name": "stdout",
     "output_type": "stream",
     "text": [
      "0 c\n",
      "1 d\n",
      "2 e\n",
      "3 f\n"
     ]
    }
   ],
   "source": [
    "# enumerate()\n",
    "for ind, c in enumerate('cdef'):\n",
    "    print(ind, c)"
   ]
  },
  {
   "cell_type": "markdown",
   "metadata": {
    "id": "PCN_XczaPSXM"
   },
   "source": [
    "### DICTIONARIES AND TUPLES"
   ]
  },
  {
   "cell_type": "code",
   "execution_count": 84,
   "metadata": {
    "colab": {
     "base_uri": "https://localhost:8080/"
    },
    "id": "UGd9eln_uRTZ",
    "outputId": "fa562f04-191a-44fa-d9f1-f7b7b0facab0"
   },
   "outputs": [
    {
     "name": "stdout",
     "output_type": "stream",
     "text": [
      "dict_items([('h', 4), ('t', 5), ('n', 6), ('m', 7)])\n",
      "{8: 'h', 7: 't', 6: 'n', 5: 'm'}\n"
     ]
    }
   ],
   "source": [
    "# DICTIONARIES AND TUPLES\n",
    "d = {'h': 4, 't': 5, 'n': 6, 'm': 7}\n",
    "print(d.items())\n",
    "l = [(8, 'h'), (7, 't'), (6, 'n'), (5, 'm')]\n",
    "print(dict(l))"
   ]
  },
  {
   "cell_type": "markdown",
   "metadata": {
    "id": "ceFq37eYPUFN"
   },
   "source": [
    "### TUPLE COMPARISON"
   ]
  },
  {
   "cell_type": "code",
   "execution_count": 85,
   "metadata": {
    "colab": {
     "base_uri": "https://localhost:8080/"
    },
    "id": "vl7a8bztvRFQ",
    "outputId": "7bd23f41-dc09-45f2-dc1b-0176ef4171aa"
   },
   "outputs": [
    {
     "name": "stdout",
     "output_type": "stream",
     "text": [
      "True\n",
      "True\n",
      "False\n",
      "\n",
      "True\n",
      "False\n"
     ]
    }
   ],
   "source": [
    "# TUPLE COMPARISON\n",
    "print((3, ) < (5, ))\n",
    "print((3, 6) < (5, 1))\n",
    "print((3, 6) < (3, 2))\n",
    "print()\n",
    "print(('Alpha', 0) < ('Beta', 8))\n",
    "print(('Alpha', 0) < ('Alpha', -2))"
   ]
  },
  {
   "cell_type": "markdown",
   "metadata": {
    "id": "AJWg2B10PWG7"
   },
   "source": [
    "###  SORTING EXAMPLE: SORT BY VALUE, NOT KEY"
   ]
  },
  {
   "cell_type": "code",
   "execution_count": 86,
   "metadata": {
    "colab": {
     "base_uri": "https://localhost:8080/"
    },
    "id": "aDaBq89dwD2p",
    "outputId": "3cc2cb1f-178d-4968-bc00-3fe0b6f59f29"
   },
   "outputs": [
    {
     "name": "stdout",
     "output_type": "stream",
     "text": [
      "Sort by key:           ('h', 4) ('m', 7) ('n', 6) ('t', 5)\n",
      "Sort by value, #1 way: ('h', 4) ('t', 5) ('n', 6) ('m', 7)\n",
      "Sort by value, #2 way: ('h', 4) ('t', 5) ('n', 6) ('m', 7)\n"
     ]
    }
   ],
   "source": [
    "# SORTING EXAMPLE: SORT BY VALUE, NOT KEY\n",
    "d = {'h': 4, 't': 5, 'n': 6, 'm': 7}\n",
    "print('Sort by key:          ', *sorted(list(d.items())))\n",
    "\n",
    "print('Sort by value, #1 way:', *sorted(list(d.items()), key = lambda x: x[1]))\n",
    "\n",
    "value_key_list = sorted([(value, key) for key, value in d.items()])\n",
    "sorted_value_list = [(key, value) for value, key in value_key_list]\n",
    "print('Sort by value, #2 way:', *sorted_value_list) "
   ]
  },
  {
   "cell_type": "markdown",
   "metadata": {
    "id": "_gy1XztRySyM"
   },
   "source": [
    "# CHAPTER 6: MODULES"
   ]
  },
  {
   "cell_type": "markdown",
   "metadata": {
    "id": "uK3QpdrhQToS"
   },
   "source": [
    "##  `import` EXAMPLE"
   ]
  },
  {
   "cell_type": "code",
   "execution_count": 87,
   "metadata": {
    "colab": {
     "base_uri": "https://localhost:8080/"
    },
    "id": "bKWGkCfRycQY",
    "outputId": "82ec42da-6ce2-41b3-e052-11d7937b63ec"
   },
   "outputs": [
    {
     "name": "stdout",
     "output_type": "stream",
     "text": [
      "2.8284271247461903\n",
      "2.8284271247461903\n",
      "4\n"
     ]
    }
   ],
   "source": [
    "# import EXAMPLE\n",
    "import math\n",
    "print(math.sqrt(8))\n",
    "from math import sqrt\n",
    "print(sqrt(8))\n",
    "from random import *\n",
    "print(randint(3,6))"
   ]
  },
  {
   "cell_type": "markdown",
   "metadata": {
    "id": "oN3GBb_NQXKD"
   },
   "source": [
    "## (preparation)"
   ]
  },
  {
   "cell_type": "markdown",
   "metadata": {
    "id": "uJFEbC1FDDyI"
   },
   "source": [
    "### (preparation) mount"
   ]
  },
  {
   "cell_type": "code",
   "execution_count": 88,
   "metadata": {
    "colab": {
     "base_uri": "https://localhost:8080/"
    },
    "id": "1Tmu1K9y3P4M",
    "outputId": "e8caf28d-66b8-4fda-8137-359f387e2049"
   },
   "outputs": [
    {
     "name": "stdout",
     "output_type": "stream",
     "text": [
      "Mounted at /content/gdrive\n"
     ]
    }
   ],
   "source": [
    "# (preparation) mount\n",
    "from google.colab import drive\n",
    "drive.mount('/content/gdrive')"
   ]
  },
  {
   "cell_type": "markdown",
   "metadata": {
    "id": "vfVHGDjRQeLs"
   },
   "source": [
    "###  (preparation) append path"
   ]
  },
  {
   "cell_type": "code",
   "execution_count": 89,
   "metadata": {
    "colab": {
     "base_uri": "https://localhost:8080/"
    },
    "id": "D7sRoSbR3jqF",
    "outputId": "e56cc396-40d6-4141-c526-1cf2a9502270"
   },
   "outputs": [
    {
     "name": "stdout",
     "output_type": "stream",
     "text": [
      "'/content/gdrive/MyDrive/Colab Notebooks/hello.py'\n",
      "if __name__ == '__main__':\n",
      "    print('Hello?')"
     ]
    }
   ],
   "source": [
    "# (preparation) append path\n",
    "!ls /content/gdrive/MyDrive/Colab\\ Notebooks/hello.py\n",
    "!cat /content/gdrive/MyDrive/Colab\\ Notebooks/hello.py\n",
    "import sys\n",
    "sys.path.append('/content/gdrive/MyDrive/Colab Notebooks')"
   ]
  },
  {
   "cell_type": "markdown",
   "metadata": {
    "id": "v0EX7DvCQnwp"
   },
   "source": [
    "##  MODULES AS SCRIPTS"
   ]
  },
  {
   "cell_type": "code",
   "execution_count": 90,
   "metadata": {
    "colab": {
     "base_uri": "https://localhost:8080/"
    },
    "id": "ArGm5mcsyymm",
    "outputId": "50b2b9a6-4bb2-4e1e-fcaa-8964a595f5b6"
   },
   "outputs": [
    {
     "name": "stdout",
     "output_type": "stream",
     "text": [
      "Script in \"hello.py\":\n",
      "---------------------------------\n",
      "if __name__ == '__main__':\n",
      "    print('Hello?') \n",
      "---------------------------------\n",
      "Hello?\n"
     ]
    }
   ],
   "source": [
    "# MODULES AS SCRIPTS\n",
    "hello_path = '/content/gdrive/MyDrive/Colab Notebooks/hello.py'\n",
    "\n",
    "print('Script in \"hello.py\":\\n---------------------------------')\n",
    "f = open(hello_path, 'r')\n",
    "print(f.read(), '\\n---------------------------------')\n",
    "f.close()\n",
    "\n",
    "! python '/content/gdrive/MyDrive/Colab Notebooks/hello.py'"
   ]
  },
  {
   "cell_type": "markdown",
   "metadata": {
    "id": "sBLQBbLuQsaB"
   },
   "source": [
    "##  `__name__`"
   ]
  },
  {
   "cell_type": "code",
   "execution_count": 91,
   "metadata": {
    "colab": {
     "base_uri": "https://localhost:8080/"
    },
    "id": "wic3G-se0QQl",
    "outputId": "4e002039-d241-49aa-a8fa-808b76c04239"
   },
   "outputs": [
    {
     "name": "stdout",
     "output_type": "stream",
     "text": [
      "before import\n",
      "after import\n",
      "hello\n"
     ]
    }
   ],
   "source": [
    "# __name__\n",
    "print('before import')\n",
    "import hello\n",
    "print('after import')\n",
    "print(hello.__name__)"
   ]
  },
  {
   "cell_type": "markdown",
   "metadata": {
    "id": "sdZTUVNmQ9nC"
   },
   "source": [
    "## `sys.argv[]`"
   ]
  },
  {
   "cell_type": "code",
   "execution_count": 92,
   "metadata": {
    "colab": {
     "base_uri": "https://localhost:8080/"
    },
    "id": "9D8jW7Cg7B6z",
    "outputId": "57203b01-fab9-426d-f95e-5107030619db"
   },
   "outputs": [
    {
     "name": "stdout",
     "output_type": "stream",
     "text": [
      "Script in \"sumof2module.py\":\n",
      "---------------------------------\n",
      "if __name__ == '__main__':\n",
      "    import sys\n",
      "    print(int(sys.argv[1]) + int(sys.argv[2])) \n",
      "---------------------------------\n",
      "17\n"
     ]
    }
   ],
   "source": [
    "# sys.argv[]\n",
    "sum_path = '/content/gdrive/MyDrive/Colab Notebooks/sumof2module.py'\n",
    "print('Script in \"sumof2module.py\":\\n---------------------------------')\n",
    "f = open(sum_path, 'r')\n",
    "print(f.read(), '\\n---------------------------------')\n",
    "f.close()\n",
    "! python '/content/gdrive/MyDrive/Colab Notebooks/sumof2module.py' 8 9"
   ]
  },
  {
   "cell_type": "markdown",
   "metadata": {
    "id": "u6WccnB8RFjK"
   },
   "source": [
    "##  USEFUL MODULES: BASIC EXAMPLES"
   ]
  },
  {
   "cell_type": "code",
   "execution_count": 93,
   "metadata": {
    "colab": {
     "base_uri": "https://localhost:8080/"
    },
    "id": "1fqSnOh97xZD",
    "outputId": "6ec4b8b5-cf94-43ba-a067-2d63ce111c6e"
   },
   "outputs": [
    {
     "name": "stdout",
     "output_type": "stream",
     "text": [
      "2021-08-08 15:43:29.936725\n",
      "40320\n",
      "[1.33882977 2.52062707 2.35784056 0.37683892 2.41519137 2.01498214]\n",
      "[2.52062707 2.35784056 2.41519137 2.01498214]\n"
     ]
    }
   ],
   "source": [
    "# USEFUL MODULES: BASIC EXAMPLES\n",
    "# See a lot more in-depth examples in the APPENDIX\n",
    "''' Find out more in: (ctrl + click to open)\n",
    "https://docs.python.org/3/library/random.html\n",
    "https://docs.python.org/3/library/datetime.html\n",
    "https://docs.python.org/3/library/math.html\n",
    "https://numpy.org/doc/\n",
    "'''\n",
    "\n",
    "import random \n",
    "import datetime \n",
    "import math\n",
    "import numpy\n",
    "\n",
    "print(datetime.datetime.now())\n",
    "print(math.factorial(8))\n",
    "\n",
    "np_arr = numpy.array([random.uniform(0, 3) for i in range(6)])\n",
    "print(np_arr)\n",
    "# print values which are > 1.5\n",
    "print(np_arr[np_arr > 1.5])"
   ]
  },
  {
   "cell_type": "markdown",
   "metadata": {
    "id": "pxdrGDJtFp5Y"
   },
   "source": [
    "##  `pickle` MODULE"
   ]
  },
  {
   "cell_type": "markdown",
   "metadata": {
    "id": "iWziCX12F3Cv"
   },
   "source": [
    "###  IMPORT `pickle`"
   ]
  },
  {
   "cell_type": "code",
   "execution_count": 94,
   "metadata": {
    "id": "cQfmrtg7Ft0Z"
   },
   "outputs": [],
   "source": [
    "# IMPORT pickle\n",
    "import pickle as pkl"
   ]
  },
  {
   "cell_type": "markdown",
   "metadata": {
    "id": "-8pEiHsWHZzs"
   },
   "source": [
    "###  `dump()`"
   ]
  },
  {
   "cell_type": "code",
   "execution_count": 95,
   "metadata": {
    "id": "SmRRS3ZsG0gl"
   },
   "outputs": [],
   "source": [
    "# dump()\n",
    "sample_pkl_path = '/content/gdrive/MyDrive/Colab Notebooks/sample_pkl.pkl'\n",
    "lst = [3, 5, 0, 8]\n",
    "with open(sample_pkl_path, 'wb') as f:\n",
    "    # 'wb' = write byte, see more below, in Chapter 7: FILES\n",
    "    pkl.dump(lst, f)"
   ]
  },
  {
   "cell_type": "markdown",
   "metadata": {
    "id": "V4Ct1dnOHmN0"
   },
   "source": [
    "###  `load()`"
   ]
  },
  {
   "cell_type": "code",
   "execution_count": 96,
   "metadata": {
    "colab": {
     "base_uri": "https://localhost:8080/"
    },
    "id": "VoGofxBLHl7n",
    "outputId": "d44feec8-d395-4d33-b2bd-f3f1fb0ceba9"
   },
   "outputs": [
    {
     "name": "stdout",
     "output_type": "stream",
     "text": [
      "[3, 5, 0, 8]\n"
     ]
    }
   ],
   "source": [
    "# load()\n",
    "with open(sample_pkl_path, 'rb') as f:\n",
    "    # 'rb' = read byte, see more below, in Chapter 7: FILES\n",
    "    loaded_content = pkl.load(f)\n",
    "print(loaded_content)"
   ]
  },
  {
   "cell_type": "markdown",
   "metadata": {
    "id": "otO3nGbmD_48"
   },
   "source": [
    "# CHAPTER 7: FILES"
   ]
  },
  {
   "cell_type": "markdown",
   "metadata": {
    "id": "jkYH1QrORN7R"
   },
   "source": [
    "##  OPENING A FILE"
   ]
  },
  {
   "cell_type": "code",
   "execution_count": 97,
   "metadata": {
    "id": "JO79ScMqECuw"
   },
   "outputs": [],
   "source": [
    "# OPENING A FILE\n",
    "f = open(hello_path, 'r')\n",
    "# 'r' reading | 'w' writing | 'a' appending | 'r+' both reading and writing"
   ]
  },
  {
   "cell_type": "markdown",
   "metadata": {
    "id": "yXD0beCqRPw5"
   },
   "source": [
    "## LOOP OVER A FILE"
   ]
  },
  {
   "cell_type": "code",
   "execution_count": 98,
   "metadata": {
    "colab": {
     "base_uri": "https://localhost:8080/"
    },
    "id": "B6Q-lIldEY6O",
    "outputId": "ca2b0fb4-7ba7-4e39-b8f4-39850a0ad422"
   },
   "outputs": [
    {
     "name": "stdout",
     "output_type": "stream",
     "text": [
      "if __name__ == '__main__':\n",
      "    print('Hello?')"
     ]
    }
   ],
   "source": [
    "# LOOP OVER A FILE\n",
    "for line in f:\n",
    "    print(line, end = '')\n",
    "f.close()"
   ]
  },
  {
   "cell_type": "markdown",
   "metadata": {
    "id": "PwDE86sKRRu5"
   },
   "source": [
    "##  READ WHOLE FILE"
   ]
  },
  {
   "cell_type": "code",
   "execution_count": 99,
   "metadata": {
    "colab": {
     "base_uri": "https://localhost:8080/"
    },
    "id": "6dRvpQWLEmhW",
    "outputId": "d26538a2-0fc1-4bd9-dc23-61d07b741037"
   },
   "outputs": [
    {
     "name": "stdout",
     "output_type": "stream",
     "text": [
      "if __name__ == '__main__':\n",
      "    print('Hello?')\n"
     ]
    }
   ],
   "source": [
    "# READ WHOLE FILE\n",
    "f = open(hello_path, 'r')\n",
    "print(f.read())\n",
    "f.close()"
   ]
  },
  {
   "cell_type": "markdown",
   "metadata": {
    "id": "nUBZaBHART5C"
   },
   "source": [
    "##  `with` BLOCK"
   ]
  },
  {
   "cell_type": "code",
   "execution_count": 100,
   "metadata": {
    "colab": {
     "base_uri": "https://localhost:8080/"
    },
    "id": "rhvf2_QvFQa-",
    "outputId": "fb4dfddd-1a4f-45c6-c404-7ae540edec55"
   },
   "outputs": [
    {
     "name": "stdout",
     "output_type": "stream",
     "text": [
      "if __name__ == '__main__':\n",
      "    print('Hello?')\n",
      "True\n"
     ]
    }
   ],
   "source": [
    "# with BLOCK\n",
    "with open(hello_path, 'r') as f:\n",
    "    print(f.read())\n",
    "print(f.closed)"
   ]
  },
  {
   "cell_type": "markdown",
   "metadata": {
    "id": "KJJDC7DhRVQS"
   },
   "source": [
    "##  WRITING FILES"
   ]
  },
  {
   "cell_type": "code",
   "execution_count": 101,
   "metadata": {
    "colab": {
     "base_uri": "https://localhost:8080/"
    },
    "id": "OOIvt78TGnOe",
    "outputId": "7d3dc50b-00e2-4a4c-df56-f7b2a48e60ed"
   },
   "outputs": [
    {
     "name": "stdout",
     "output_type": "stream",
     "text": [
      "Write this line to the file\n"
     ]
    }
   ],
   "source": [
    "# WRITING FILES\n",
    "write_path = '/content/gdrive/MyDrive/Colab Notebooks/writeout.txt'\n",
    "with open(write_path, 'w') as f:\n",
    "    f.write('Write this line to the file')\n",
    "with open(write_path, 'r') as f:\n",
    "    print(f.read())"
   ]
  },
  {
   "cell_type": "markdown",
   "metadata": {
    "id": "g52YkYkoRW9V"
   },
   "source": [
    "##  CURRENT POSITION"
   ]
  },
  {
   "cell_type": "code",
   "execution_count": 102,
   "metadata": {
    "colab": {
     "base_uri": "https://localhost:8080/"
    },
    "id": "1F0lxpcRHRj9",
    "outputId": "bb42a373-8b02-4b0e-afa6-8cd2c706e2be"
   },
   "outputs": [
    {
     "name": "stdout",
     "output_type": "stream",
     "text": [
      "0\n",
      "Write this line to the file\n",
      "27\n"
     ]
    }
   ],
   "source": [
    "# CURRENT POSITION\n",
    "with open(write_path, 'r') as f:\n",
    "    print(f.tell())\n",
    "    print(f.read())\n",
    "    print(f.tell())"
   ]
  },
  {
   "cell_type": "markdown",
   "metadata": {
    "id": "o1rvUY9URYRJ"
   },
   "source": [
    "## CHANGE POSITION"
   ]
  },
  {
   "cell_type": "code",
   "execution_count": 103,
   "metadata": {
    "colab": {
     "base_uri": "https://localhost:8080/"
    },
    "id": "16PL70QPHoyM",
    "outputId": "1edca648-59bd-4fdb-a0ff-a0f6de118b43"
   },
   "outputs": [
    {
     "name": "stdout",
     "output_type": "stream",
     "text": [
      "0\n",
      "13\n",
      "ne to the file\n",
      "27\n"
     ]
    }
   ],
   "source": [
    "# CHANGE POSITION\n",
    "# https://www.tutorialspoint.com/python/file_seek.htm\n",
    "with open(write_path, 'r') as f:\n",
    "    print(f.tell())\n",
    "    f.seek(13)\n",
    "    print(f.tell())\n",
    "    print(f.read())\n",
    "    print(f.tell())"
   ]
  },
  {
   "cell_type": "markdown",
   "metadata": {
    "id": "OhIfThxnLDwn"
   },
   "source": [
    "# CHAPTER 8: OBJECT-ORIENTED PROGRAMMING (OOP)"
   ]
  },
  {
   "cell_type": "markdown",
   "metadata": {
    "id": "puFbl-asLi1t"
   },
   "source": [
    "##  CREATE A NEW OBJECT EXAMPLE"
   ]
  },
  {
   "cell_type": "code",
   "execution_count": 104,
   "metadata": {
    "id": "yRXsyuvqLYlu"
   },
   "outputs": [],
   "source": [
    "# CREATE A NEW OBJECT EXAMPLE\n",
    "#     name of class (parent class(es))\n",
    "class Complex_number(object):\n",
    "    # __init__ always run right after calling the class\n",
    "    def __init__(self, a, b):\n",
    "        # real and imaginary are attributes\n",
    "        self.real = a\n",
    "        self.imaginary = b\n",
    "\n",
    "    # a method is a function of the class\n",
    "    def modulus(self):\n",
    "        from math import sqrt\n",
    "        return sqrt(self.real ** 2 + self.imaginary ** 2)\n",
    "\n",
    "    # __str__ is a method which returns (str(an instance))\n",
    "    def __str__(self):\n",
    "        return 'Complex number (%s + %si)' % (self.real, self.imaginary)\n",
    "\n",
    "    # __add__ is a method which returns (an instance + another instance)\n",
    "    def __add__(self, other):\n",
    "        return Complex_number(self.real + other.real, self.imaginary + other.imaginary)\n",
    "\n",
    "    # __sub__ is a method which returns (an instance - another instance)\n",
    "    def __sub__(self, other):\n",
    "        return Complex_number(self.real - other.real, self.imaginary - other.imaginary)\n",
    "\n",
    "    # __eq__ is a method which returns (an instance == another instance)\n",
    "    def __eq__(self, other):\n",
    "        return self.real == other.real and self.imaginary == other.imaginary\n"
   ]
  },
  {
   "cell_type": "markdown",
   "metadata": {
    "id": "eIL-_mQEW-mR"
   },
   "source": [
    "The most common used methods for a class, in short:\n",
    "```\n",
    "__doc__: docstring  |  __name__: name  |  __del__: delete\n",
    "__lt__: \"<\"  |  __le__: \"<=\"  |  __ne__: \"!=\"\n",
    "__gt__: \">\"  |  __ge__: \">=\"\n",
    "__dir__: dir(an object or an instance)\n",
    "```\n",
    "```\n",
    "object.__add__(self, other)\n",
    "object.__sub__(self, other)\n",
    "object.__mul__(self, other)\n",
    "object.__matmul__(self, other)\n",
    "object.__truediv__(self, other)\n",
    "object.__floordiv__(self, other)\n",
    "object.__mod__(self, other)\n",
    "object.__divmod__(self, other)\n",
    "object.__pow__(self, other[, modulo])\n",
    "object.__lshift__(self, other)\n",
    "object.__rshift__(self, other)\n",
    "object.__and__(self, other)¶\n",
    "object.__xor__(self, other)\n",
    "object.__or__(self, other)\n",
    "```\n",
    "There are so many more methods for a class that you should find them out yourself, this is the documentation of data model in Python:\n",
    "\n",
    "[https://docs.python.org/3/reference/datamodel.html](https://docs.python.org/3/reference/datamodel.html)\n",
    "    \n",
    "I found that the @abstractmethod decorator is not really important for the final exam, since we didn't learn any thing about decorator in Python, so if you are curious enough, this is the documentation of abc:\n",
    "\n",
    "[https://docs.python.org/3/library/abc.html](https://docs.python.org/3/library/abc.html)"
   ]
  },
  {
   "cell_type": "markdown",
   "metadata": {
    "id": "CPml-CnZNBPO"
   },
   "source": [
    "###  USING THE OBJECT EXAMPLES"
   ]
  },
  {
   "cell_type": "code",
   "execution_count": 105,
   "metadata": {
    "colab": {
     "base_uri": "https://localhost:8080/"
    },
    "id": "lC1_gumWNABP",
    "outputId": "93f582ae-06fa-4849-bd3f-f24629c5561b"
   },
   "outputs": [
    {
     "name": "stdout",
     "output_type": "stream",
     "text": [
      "6 9\n",
      "10.816653826391969\n",
      "Complex number (6 + 9i)\n"
     ]
    }
   ],
   "source": [
    "# USING THE OBJECT EXAMPLES\n",
    "z1 = Complex_number(6, 9)\n",
    "print(z1.real, z1.imaginary)\n",
    "print(z1.modulus())\n",
    "print(z1)"
   ]
  },
  {
   "cell_type": "code",
   "execution_count": 106,
   "metadata": {
    "colab": {
     "base_uri": "https://localhost:8080/"
    },
    "id": "8F5_8nUIOUDM",
    "outputId": "ef1f343a-80ac-43d6-de92-f6ad3367b82d"
   },
   "outputs": [
    {
     "name": "stdout",
     "output_type": "stream",
     "text": [
      "2.8 9.2\n",
      "9.616652224137045\n",
      "Complex number (2.8 + 9.2i)\n"
     ]
    }
   ],
   "source": [
    "# USING THE OBJECT EXAMPLES\n",
    "z2 = Complex_number(2.8, 9.2)\n",
    "print(z2.real, z2.imaginary)\n",
    "print(z2.modulus())\n",
    "print(z2)"
   ]
  },
  {
   "cell_type": "code",
   "execution_count": 107,
   "metadata": {
    "colab": {
     "base_uri": "https://localhost:8080/"
    },
    "id": "hA-x9fBuPS_c",
    "outputId": "954aecc4-c4e0-410c-bd9a-6c930c3813da"
   },
   "outputs": [
    {
     "name": "stdout",
     "output_type": "stream",
     "text": [
      "Complex number (8.8 + 18.2i)\n",
      "Complex number (3.2 + -0.1999999999999993i)\n"
     ]
    }
   ],
   "source": [
    "# USING THE OBJECT EXAMPLES\n",
    "print(z1 + z2)\n",
    "print(z1 - z2)\n",
    "# What? Why it is -0.1999999999999993? Find out at:\n",
    "# https://stackoverflow.com/questions/588004/is-floating-point-math-broken"
   ]
  },
  {
   "cell_type": "code",
   "execution_count": 108,
   "metadata": {
    "colab": {
     "base_uri": "https://localhost:8080/"
    },
    "id": "jDjUV69ERpEz",
    "outputId": "b2116006-4ada-45fa-9014-5d9c13cc4e7c"
   },
   "outputs": [
    {
     "name": "stdout",
     "output_type": "stream",
     "text": [
      "False\n",
      "True\n"
     ]
    }
   ],
   "source": [
    "# USING THE OBJECT EXAMPLES\n",
    "print(z1 == z2)\n",
    "z3 = Complex_number(6, 9) \n",
    "print(z1 == z3)"
   ]
  },
  {
   "cell_type": "markdown",
   "metadata": {
    "id": "2qlPhYcJTgNf"
   },
   "source": [
    "##  SUBCLASS"
   ]
  },
  {
   "cell_type": "code",
   "execution_count": 109,
   "metadata": {
    "id": "824WM-DmTYuk"
   },
   "outputs": [],
   "source": [
    "# SUBCLASS\n",
    "# You can re-define any method of Complex_number, or\n",
    "# add new methods, new attributes in Imaginary_number\n",
    "class Imaginary_number(Complex_number):\n",
    "    def __init__(self, *args): \n",
    "        if len(args) == 1:\n",
    "            self.removed_real_part = None\n",
    "            imaginary_part = args[0]\n",
    "        else: # len(args) == 2\n",
    "            self.removed_real_part = args[0]\n",
    "            imaginary_part = args[1]\n",
    "\n",
    "        # 2 ways to initialize:\n",
    "        # super().__init__(0, imaginary_part)\n",
    "        Complex_number.__init__(self, 0, imaginary_part)\n",
    "\n",
    "    def __str__(self):\n",
    "        return 'Imaginary number (%si)' % (self.imaginary)"
   ]
  },
  {
   "cell_type": "markdown",
   "metadata": {
    "id": "jwEp33k-V0J-"
   },
   "source": [
    "###  USING THE SUBCLASS EXAMPLES"
   ]
  },
  {
   "cell_type": "code",
   "execution_count": 110,
   "metadata": {
    "colab": {
     "base_uri": "https://localhost:8080/"
    },
    "id": "A6SuRRkiUxGW",
    "outputId": "1aa2ab4f-d2ce-4add-9e47-616b16b951a4"
   },
   "outputs": [
    {
     "name": "stdout",
     "output_type": "stream",
     "text": [
      "Imaginary number (8i)\n",
      "Removed real part: 3\n",
      "Modulus: 8.0\n"
     ]
    }
   ],
   "source": [
    "# USING THE SUBCLASS EXAMPLES\n",
    "img1 = Imaginary_number(3, 8)\n",
    "print(img1)\n",
    "print('Removed real part:', img1.removed_real_part)\n",
    "print('Modulus:', img1.modulus())"
   ]
  },
  {
   "cell_type": "code",
   "execution_count": 111,
   "metadata": {
    "colab": {
     "base_uri": "https://localhost:8080/"
    },
    "id": "lYgKRZpme7SQ",
    "outputId": "d30c3a9e-ce7a-4edc-c638-507ed1e7c562"
   },
   "outputs": [
    {
     "name": "stdout",
     "output_type": "stream",
     "text": [
      "Imaginary number (4i)\n",
      "Removed real part: None\n",
      "Modulus: 4.0\n"
     ]
    }
   ],
   "source": [
    "# USING THE SUBCLASS EXAMPLES\n",
    "img2 = Imaginary_number(4)\n",
    "print(img2)\n",
    "print('Removed real part:', img2.removed_real_part)\n",
    "print('Modulus:', img2.modulus())"
   ]
  },
  {
   "cell_type": "markdown",
   "metadata": {
    "id": "pzePduBEai0n"
   },
   "source": [
    "# CHAPTER 9: TESTING, DEBUGGING, EXCEPTIONS AND ASSERTIONS"
   ]
  },
  {
   "cell_type": "markdown",
   "metadata": {
    "id": "gh7rBDPJo9h5"
   },
   "source": [
    "## TESTING AND DEBUGGING"
   ]
  },
  {
   "cell_type": "markdown",
   "metadata": {
    "id": "WrNJzEemX4WM"
   },
   "source": [
    "By now, you have done this every time an error occurs in your code, so this is pretty both too easy and too hard to be explained in this notebook. Therefore, I will not explain about it here."
   ]
  },
  {
   "cell_type": "markdown",
   "metadata": {
    "id": "ECirOaQHtI9r"
   },
   "source": [
    "##  EXCEPTIONS"
   ]
  },
  {
   "cell_type": "markdown",
   "metadata": {
    "id": "enePJtg6wBKT"
   },
   "source": [
    "###  COMMON BUILT-IN EXCEPTIONS"
   ]
  },
  {
   "cell_type": "code",
   "execution_count": 112,
   "metadata": {
    "id": "dULr-V98tHy7"
   },
   "outputs": [],
   "source": [
    "# COMMON BUILT-IN EXCEPTIONS\n",
    "lst = [0, 1, 2]"
   ]
  },
  {
   "cell_type": "markdown",
   "metadata": {
    "id": "D9dZJ4_JYFS4"
   },
   "source": [
    "```\n",
    "print(lst[4])\n",
    "IndexError: list index out of range\n",
    "\n",
    "print(int(lst))\n",
    "TypeError: int() argument must be a string, a bytes-like object or a number, not 'list'\n",
    "\n",
    "print(an_undefined_a_variable)\n",
    "NameError: name 'an_undefined_a_variable' is not defined\n",
    "\n",
    "print(a\n",
    "\n",
    "    print(a\n",
    "           ^\n",
    "SyntaxError: unexpected EOF while parsing\n",
    "\n",
    "print(lst.mnpq)\n",
    "AttributeError: 'list' object has no attribute 'mnpq'\n",
    "\n",
    "print(6 / 0)\n",
    "ZeroDivisionError: division by zero\n",
    "\n",
    "print(int('?'))\n",
    "ValueError: invalid literal for int() with base 10: '?'\n",
    "\n",
    "f = open('????')\n",
    "FileNotFoundError: [Errno 2] No such file or directory: '????'\n",
    "```"
   ]
  },
  {
   "cell_type": "markdown",
   "metadata": {
    "id": "tdwpchw7wUat"
   },
   "source": [
    "###  (INPUT) HANDLING SPECIFIC EXCEPTIONS"
   ]
  },
  {
   "cell_type": "code",
   "execution_count": 113,
   "metadata": {
    "colab": {
     "base_uri": "https://localhost:8080/"
    },
    "id": "6cV5a13auGqQ",
    "outputId": "0ffe05f5-8d80-4bc5-fa23-f8bc05451aa3"
   },
   "outputs": [
    {
     "name": "stdout",
     "output_type": "stream",
     "text": [
      "a = 4\n",
      "b = 8\n",
      "0.5\n",
      "Done\n"
     ]
    }
   ],
   "source": [
    "# HANDLING SPECIFIC EXCEPTIONS\n",
    "try:\n",
    "    a = float(input('a = '))\n",
    "    b = float(input('b = '))\n",
    "    res = a / b\n",
    "\n",
    "except ValueError: # Handling a specific exception in try clause\n",
    "    print('Unable to convert to number')\n",
    "except ZeroDivisionError:\n",
    "    print('Unable to divide by 0')\n",
    "\n",
    "except: # Handling any other exception in try clause\n",
    "    print('Another error')\n",
    "\n",
    "else: # Only execute if the try clause does not raise any exception\n",
    "    print(res)\n",
    "\n",
    "finally: # Always execute\n",
    "    print('Done')\n"
   ]
  },
  {
   "cell_type": "markdown",
   "metadata": {
    "id": "Lry28xIgYVD2"
   },
   "source": [
    "```\n",
    "a = sfgopsgspg\n",
    "Unable to convert to number\n",
    "Done\n",
    "\n",
    "a = 4\n",
    "b = 0\n",
    "Unable to divide by 0\n",
    "Done\n",
    "\n",
    "a = 4\n",
    "b = 8\n",
    "0.5\n",
    "Done\n",
    "```"
   ]
  },
  {
   "cell_type": "markdown",
   "metadata": {
    "id": "ncafXK_M_c7I"
   },
   "source": [
    "###  `raise` AN EXCEPTION"
   ]
  },
  {
   "cell_type": "markdown",
   "metadata": {
    "id": "LtasWxpcYbOQ"
   },
   "source": [
    "```\n",
    "raise ValueError('This is a value exception')\n",
    "\n",
    "---------------------------------------------------------------------------\n",
    "ValueError                                Traceback (most recent call last)\n",
    "<ipython-input-116-d1990690242c> in <module>()\n",
    "----> 1 raise ValueError('This is a value exception')\n",
    "\n",
    "ValueError: This is a value exception\n",
    "```"
   ]
  },
  {
   "cell_type": "markdown",
   "metadata": {
    "id": "knSTsU4GACDK"
   },
   "source": [
    "###  (INPUT) DEFINE AN EXCEPTION"
   ]
  },
  {
   "cell_type": "code",
   "execution_count": 114,
   "metadata": {
    "colab": {
     "base_uri": "https://localhost:8080/"
    },
    "id": "hriWIBoxAAB8",
    "outputId": "5369d9ba-4095-4d0e-a004-6b21853da07a"
   },
   "outputs": [
    {
     "name": "stdout",
     "output_type": "stream",
     "text": [
      "Date = 66-99-6969\n",
      "The date is: 66-99-6969\n"
     ]
    }
   ],
   "source": [
    "# DEFINE AN EXCEPTION\n",
    "class DateFormatError(Exception):\n",
    "    pass\n",
    "\n",
    "# Raise the exception if the string is not of the format '??-??-????'\n",
    "# ? is a number, from 0-9\n",
    "\n",
    "def num_args_check(date):\n",
    "    dmy_lst = date.split('-')\n",
    "    if len(dmy_lst) == 3:\n",
    "        return True\n",
    "    return False\n",
    "\n",
    "def numeric_check(date):\n",
    "    dmy_lst = date.split('-')\n",
    "    for arg in dmy_lst:\n",
    "        if not arg.isnumeric():\n",
    "            return False\n",
    "    return True\n",
    "\n",
    "def args_len_check(date):\n",
    "    dmy_lst = date.split('-')\n",
    "    len_lst = [len(dmy_lst[i]) for i in range(3)]\n",
    "    if tuple(len_lst) == (2, 2, 4):\n",
    "        return True\n",
    "    return False\n",
    "\n",
    "date = input('Date = ')\n",
    "\n",
    "if not num_args_check(date):\n",
    "    raise DateFormatError(\n",
    "            'There must be 3 arguments for day-month-year, respectively')\n",
    "if not numeric_check(date):\n",
    "    raise DateFormatError(\n",
    "            'At least one of 3 arguments is not numeric')\n",
    "if not args_len_check(date):\n",
    "    raise DateFormatError(\n",
    "            'len() of 3 arguments must be 2, 2, 4, respectively')\n",
    "    \n",
    "print('The date is: %s' % date)"
   ]
  },
  {
   "cell_type": "markdown",
   "metadata": {
    "id": "QqzVewBOYqAU"
   },
   "source": [
    "```\n",
    "Date = 41-14-6161-3\n",
    "DateFormatError: There must be 3 arguments for day-month-year, respectively\n",
    "\n",
    "Date = 1-12-4251\n",
    "DateFormatError: len() of 3 arguments must be 2, 2, 4, respectively\n",
    "\n",
    "Date = 30-12-200x\n",
    "DateFormatError: At least one of 3 arguments is not numeric\n",
    "\n",
    "Date = 66-99-6969\n",
    "The date is: 66-99-6969\n",
    "```"
   ]
  },
  {
   "cell_type": "markdown",
   "metadata": {
    "id": "ZfcZuNtaG282"
   },
   "source": [
    "###  `unittest` MODULE"
   ]
  },
  {
   "cell_type": "markdown",
   "metadata": {
    "id": "aI79dfV8Yv79"
   },
   "source": [
    "A module to test your program (in a big project).\n",
    "\n",
    "(I believe) this one will not appear in the final test, this is the documentation, though:\n",
    "\n",
    "[https://docs.python.org/3/library/unittest.html](https://docs.python.org/3/library/unittest.html)"
   ]
  },
  {
   "cell_type": "markdown",
   "metadata": {
    "id": "O14Q7Mf5y6EP"
   },
   "source": [
    "# APPENDIX: SOME IMPORTANT MODULES FOR MATHEMATICS, DATA SCIENCE AND MACHINE LEARNING"
   ]
  },
  {
   "cell_type": "markdown",
   "metadata": {
    "id": "yN6nyMGHzqTF"
   },
   "source": [
    "## `random`\n",
    "\n"
   ]
  },
  {
   "cell_type": "code",
   "execution_count": 115,
   "metadata": {
    "id": "NtTlZPIS5T_4"
   },
   "outputs": [],
   "source": [
    "# Documentation: https://docs.python.org/3/library/random.html\n",
    "import random"
   ]
  },
  {
   "cell_type": "markdown",
   "metadata": {
    "id": "1LEHUF7r47xN"
   },
   "source": [
    "### INTEGERS"
   ]
  },
  {
   "cell_type": "code",
   "execution_count": 116,
   "metadata": {
    "colab": {
     "base_uri": "https://localhost:8080/"
    },
    "id": "6DZkYt0iy5jd",
    "outputId": "f8131bbf-4471-429d-ec0e-2cca2fe282dc"
   },
   "outputs": [
    {
     "name": "stdout",
     "output_type": "stream",
     "text": [
      "0\n",
      "24\n"
     ]
    }
   ],
   "source": [
    "# INTEGERS\n",
    "print(random.randrange(10))\n",
    "# a random number in range(10)\n",
    "print(random.randrange(22, 29, 2))\n",
    "# a random number in range(22, 29, 2), which are 22, 24, 26 and 28"
   ]
  },
  {
   "cell_type": "markdown",
   "metadata": {
    "id": "N2R2-A0N4_qt"
   },
   "source": [
    "### SEQUENCE"
   ]
  },
  {
   "cell_type": "code",
   "execution_count": 117,
   "metadata": {
    "colab": {
     "base_uri": "https://localhost:8080/"
    },
    "id": "tt_EoJSZ1S7B",
    "outputId": "cc293b5c-99aa-4cc7-978b-64b144abdeb4"
   },
   "outputs": [
    {
     "name": "stdout",
     "output_type": "stream",
     "text": [
      "5\n",
      "[0, 3]\n"
     ]
    }
   ],
   "source": [
    "# SEQUENCE\n",
    "seq = [3, 5, 0, 8]\n",
    "print(random.choice(seq))\n",
    "# choose a random element in a sequence\n",
    "print(random.choices(seq, k = 2))\n",
    "# choose a random element twice in a sequence"
   ]
  },
  {
   "cell_type": "code",
   "execution_count": 118,
   "metadata": {
    "colab": {
     "base_uri": "https://localhost:8080/"
    },
    "id": "0xLQjMyQ1ba0",
    "outputId": "e8cc9782-b2cf-422e-bb96-2db29907104a"
   },
   "outputs": [
    {
     "name": "stdout",
     "output_type": "stream",
     "text": [
      "[5, 0]\n",
      "[3, 0, 5, 8]\n"
     ]
    }
   ],
   "source": [
    "# random\n",
    "print(random.sample(seq, 2))\n",
    "# choose two random elements in a sequence\n",
    "print(random.sample(seq, len(seq)))\n",
    "# alias of random.shuffle, since it is...\n",
    "# Deprecated since version 3.9, will be removed in version 3.11"
   ]
  },
  {
   "cell_type": "markdown",
   "metadata": {
    "id": "ycG0CKls5E77"
   },
   "source": [
    "### REAL NUMBERS"
   ]
  },
  {
   "cell_type": "code",
   "execution_count": 119,
   "metadata": {
    "colab": {
     "base_uri": "https://localhost:8080/"
    },
    "id": "RfuJUHMN3aSy",
    "outputId": "912ea071-92d6-443d-f60a-c76858cfa39f"
   },
   "outputs": [
    {
     "name": "stdout",
     "output_type": "stream",
     "text": [
      "0.609703227592042\n",
      "3.717343439662672\n"
     ]
    }
   ],
   "source": [
    "# REAL NUMBERS\n",
    "print(random.random())\n",
    "# a random number in the interval [0.0, 1.0)\n",
    "print(random.uniform(3.0, 5.0))\n",
    "# a random number between 3.0 and 5.0\n",
    "# the end-point might or might not be included,\n",
    "# read more in documentation"
   ]
  },
  {
   "cell_type": "markdown",
   "metadata": {
    "id": "vrYHBNQP5bBy"
   },
   "source": [
    "## `time`"
   ]
  },
  {
   "cell_type": "code",
   "execution_count": 120,
   "metadata": {
    "id": "N-3LmDWH5hFt"
   },
   "outputs": [],
   "source": [
    "# time\n",
    "# Documentation: https://docs.python.org/3/library/time.html\n",
    "import time"
   ]
  },
  {
   "cell_type": "code",
   "execution_count": 121,
   "metadata": {
    "colab": {
     "base_uri": "https://localhost:8080/"
    },
    "id": "fLXKXv0155uB",
    "outputId": "2b8d8cd1-1460-46b5-b613-4708c8967560"
   },
   "outputs": [
    {
     "name": "stdout",
     "output_type": "stream",
     "text": [
      "before\n",
      "after\n"
     ]
    }
   ],
   "source": [
    "# time\n",
    "print('before')\n",
    "time.sleep(0.5)\n",
    "# suspend execution for the given number of seconds\n",
    "print('after')"
   ]
  },
  {
   "cell_type": "code",
   "execution_count": 122,
   "metadata": {
    "colab": {
     "base_uri": "https://localhost:8080/"
    },
    "id": "0WP7MN3J6TGG",
    "outputId": "65a4e89c-a8d8-4220-f6b2-1c14940d5581"
   },
   "outputs": [
    {
     "name": "stdout",
     "output_type": "stream",
     "text": [
      "1628437430.4016688\n"
     ]
    }
   ],
   "source": [
    "# time \n",
    "print(time.time())\n",
    "# Return the time in seconds since the epoch as a floating point number"
   ]
  },
  {
   "cell_type": "code",
   "execution_count": 123,
   "metadata": {
    "colab": {
     "base_uri": "https://localhost:8080/"
    },
    "id": "Jn6B3Dze60ly",
    "outputId": "66c54759-fc7e-4738-91e0-446b44e13ac0"
   },
   "outputs": [
    {
     "name": "stdout",
     "output_type": "stream",
     "text": [
      "1628437430.4206786\n",
      "0 1 2 3 4 \n",
      "1628437430.421016\n",
      "0.00033736228942871094\n"
     ]
    }
   ],
   "source": [
    "# time\n",
    "# measure execution time\n",
    "time_before = time.time()\n",
    "print(time_before)\n",
    "\n",
    "for i in range(5):\n",
    "    print(i, end = ' ')\n",
    "time_after = time.time()\n",
    "\n",
    "print('\\n%s' % time_after)\n",
    "\n",
    "print(time_after - time_before)"
   ]
  },
  {
   "cell_type": "markdown",
   "metadata": {
    "id": "1COm96U_7xyp"
   },
   "source": [
    "## `math`"
   ]
  },
  {
   "cell_type": "code",
   "execution_count": 124,
   "metadata": {
    "id": "42emHj7R7xgq"
   },
   "outputs": [],
   "source": [
    "# math\n",
    "# Documentation: https://docs.python.org/3/library/math.html\n",
    "import math"
   ]
  },
  {
   "cell_type": "markdown",
   "metadata": {
    "id": "g39zYr1x79-H"
   },
   "source": [
    "### CONSTANTS"
   ]
  },
  {
   "cell_type": "code",
   "execution_count": 125,
   "metadata": {
    "colab": {
     "base_uri": "https://localhost:8080/"
    },
    "id": "Nxmqy66Y78I9",
    "outputId": "3c69297d-5654-4fa9-b6bc-b5e3d9f3e35d"
   },
   "outputs": [
    {
     "name": "stdout",
     "output_type": "stream",
     "text": [
      "3.141592653589793\n",
      "2.718281828459045\n",
      "inf\n",
      "nan\n"
     ]
    }
   ],
   "source": [
    "# CONSTANTS\n",
    "print(math.pi)\n",
    "print(math.e)\n",
    "print(math.inf)\n",
    "print(math.nan)"
   ]
  },
  {
   "cell_type": "markdown",
   "metadata": {
    "id": "OO6YP9Mz8bQB"
   },
   "source": [
    "### NUMBER-THEORETIC AND REPRESENTATION FUNCTIONS"
   ]
  },
  {
   "cell_type": "code",
   "execution_count": 126,
   "metadata": {
    "colab": {
     "base_uri": "https://localhost:8080/"
    },
    "id": "PMnAepSj8ajN",
    "outputId": "f4731763-3558-4151-8145-3769bde4d1ff"
   },
   "outputs": [
    {
     "name": "stdout",
     "output_type": "stream",
     "text": [
      "4\n",
      "8\n"
     ]
    }
   ],
   "source": [
    "# NUMBER-THEORETIC AND REPRESENTATION FUNCTIONS\n",
    "print(math.ceil(3.01))\n",
    "# the smallest integer greater than or equal to given number\n",
    "print(math.floor(8.99))\n",
    "# the largest integer less than or equal to given number"
   ]
  },
  {
   "cell_type": "code",
   "execution_count": 127,
   "metadata": {
    "colab": {
     "base_uri": "https://localhost:8080/"
    },
    "id": "x9O329kY9_4O",
    "outputId": "3685a42b-479e-48ca-d4ae-cef2acc51feb"
   },
   "outputs": [
    {
     "name": "stdout",
     "output_type": "stream",
     "text": [
      "5\n"
     ]
    }
   ],
   "source": [
    "# NUMBER-THEORETIC AND REPRESENTATION FUNCTIONS\n",
    "print(math.gcd(15, 20))"
   ]
  },
  {
   "cell_type": "code",
   "execution_count": 128,
   "metadata": {
    "colab": {
     "base_uri": "https://localhost:8080/"
    },
    "id": "9MiE5zlf-hQf",
    "outputId": "17296528-89e9-4fbf-a66a-71fc01f07008"
   },
   "outputs": [
    {
     "name": "stdout",
     "output_type": "stream",
     "text": [
      "0.30000000000000004\n",
      "False\n"
     ]
    },
    {
     "data": {
      "text/plain": [
       "True"
      ]
     },
     "execution_count": 128,
     "metadata": {
      "tags": []
     },
     "output_type": "execute_result"
    }
   ],
   "source": [
    "# NUMBER-THEORETIC AND REPRESENTATION FUNCTIONS\n",
    "print(.1 + .2)\n",
    "print(.1 + .2 == .3)\n",
    "math.isclose(.1 + .2, .3)"
   ]
  },
  {
   "cell_type": "code",
   "execution_count": 129,
   "metadata": {
    "colab": {
     "base_uri": "https://localhost:8080/"
    },
    "id": "M6djw4lI-wnm",
    "outputId": "b598b31c-d697-4668-c2ac-65291e7b0441"
   },
   "outputs": [
    {
     "name": "stdout",
     "output_type": "stream",
     "text": [
      "True\n",
      "False\n",
      "False\n",
      "\n",
      "False\n",
      "True\n",
      "False\n",
      "\n",
      "False\n",
      "False\n",
      "True\n"
     ]
    }
   ],
   "source": [
    "# NUMBER-THEORETIC AND REPRESENTATION FUNCTIONS\n",
    "print(math.isfinite(999999999999999))\n",
    "print(math.isfinite(math.inf))\n",
    "print(math.isfinite(math.nan))\n",
    "# nan is not finite\n",
    "print()\n",
    "\n",
    "print(math.isinf(999999999999999))\n",
    "print(math.isinf(math.inf))\n",
    "print(math.isinf(math.nan))\n",
    "# nan is not infinite\n",
    "print()\n",
    "\n",
    "print(math.isnan(999999999999999))\n",
    "print(math.isnan(math.inf))\n",
    "print(math.isnan(math.nan))"
   ]
  },
  {
   "cell_type": "code",
   "execution_count": 130,
   "metadata": {
    "colab": {
     "base_uri": "https://localhost:8080/"
    },
    "id": "y_vzTWIY_1bH",
    "outputId": "c25f7dd6-5414-4c36-ec0b-17e37b62d5d4"
   },
   "outputs": [
    {
     "name": "stdout",
     "output_type": "stream",
     "text": [
      "3\n",
      "3\n"
     ]
    }
   ],
   "source": [
    "# NUMBER-THEORETIC AND REPRESENTATION FUNCTIONS\n",
    "print(math.trunc(3.9))\n",
    "print(math.trunc(3.1))\n",
    "# truncated to an integral"
   ]
  },
  {
   "cell_type": "markdown",
   "metadata": {
    "id": "vFASdvLDAwS_"
   },
   "source": [
    "### POWER AND LOGARITHMIC FUNCTIONS"
   ]
  },
  {
   "cell_type": "code",
   "execution_count": 131,
   "metadata": {
    "colab": {
     "base_uri": "https://localhost:8080/"
    },
    "id": "gYiknK3bAvgW",
    "outputId": "ebd93b84-270f-4f7b-8304-03ceb71f3daf"
   },
   "outputs": [
    {
     "name": "stdout",
     "output_type": "stream",
     "text": [
      "20.085536923187668\n",
      "20.085536923187664\n"
     ]
    }
   ],
   "source": [
    "# POWER AND LOGARITHMIC FUNCTIONS\n",
    "print(math.exp(3)) # e^3\n",
    "print(math.e ** 3)\n",
    "# more accurate"
   ]
  },
  {
   "cell_type": "code",
   "execution_count": 132,
   "metadata": {
    "colab": {
     "base_uri": "https://localhost:8080/"
    },
    "id": "SAemd5ssBSz-",
    "outputId": "ebf07ad6-6af6-4c13-fe49-3279ed2f43ad"
   },
   "outputs": [
    {
     "name": "stdout",
     "output_type": "stream",
     "text": [
      "1.0986122886681098\n",
      "\n",
      "2.321928094887362\n",
      "2.321928094887362\n",
      "\n",
      "2.0043213737826426\n"
     ]
    }
   ],
   "source": [
    "# POWER AND LOGARITHMIC FUNCTIONS\n",
    "print(math.log(3))\n",
    "# natural logarithm of 3\n",
    "print()\n",
    "\n",
    "print(math.log(5, 2))\n",
    "# logarithm of 5 to the base 2\n",
    "print(math.log2(5))\n",
    "# more accurate\n",
    "print()\n",
    "\n",
    "print(math.log10(101))"
   ]
  },
  {
   "cell_type": "code",
   "execution_count": 133,
   "metadata": {
    "colab": {
     "base_uri": "https://localhost:8080/"
    },
    "id": "Od93V0BrCPEs",
    "outputId": "56076fd4-0928-4b6b-e036-9c7b9dfe6743"
   },
   "outputs": [
    {
     "name": "stdout",
     "output_type": "stream",
     "text": [
      "40.84101000000001\n",
      "40.84101000000001\n",
      "\n",
      "2.3664319132398464\n",
      "2.3664319132398464\n"
     ]
    }
   ],
   "source": [
    "# POWER AND LOGARITHMIC FUNCTIONS\n",
    "print(math.pow(2.1, 5.0))\n",
    "print(2.1 ** 5.0)\n",
    "# more accurate\n",
    "print()\n",
    "\n",
    "print(math.sqrt(5.6))\n",
    "print(5.6 ** 0.5)\n",
    "# more accurate"
   ]
  },
  {
   "cell_type": "markdown",
   "metadata": {
    "id": "-t2Q_GHRC74c"
   },
   "source": [
    "### TRIGONOMETRIC FUNCTIONS"
   ]
  },
  {
   "cell_type": "code",
   "execution_count": 134,
   "metadata": {
    "colab": {
     "base_uri": "https://localhost:8080/"
    },
    "id": "TZh6K5HsC-v5",
    "outputId": "5e93f992-1360-4b54-8e3c-a674560515c8"
   },
   "outputs": [
    {
     "name": "stdout",
     "output_type": "stream",
     "text": [
      "1.0\n",
      "6.123233995736766e-17\n",
      "1.633123935319537e+16\n",
      "\n",
      "0.0\n",
      "1.5707963267948966\n",
      "0.7853981633974483\n"
     ]
    }
   ],
   "source": [
    "# TRIGONOMETRIC FUNCTIONS\n",
    "# all angle units are radians\n",
    "print(math.sin(math.pi / 2))\n",
    "print(math.cos(math.pi / 2))\n",
    "print(math.tan(math.pi / 2))\n",
    "print()\n",
    "\n",
    "print(math.acos(1.0))\n",
    "# arc cosine\n",
    "print(math.asin(1.0))\n",
    "print(math.atan(1.0))\n"
   ]
  },
  {
   "cell_type": "markdown",
   "metadata": {
    "id": "DvCtPpitENa-"
   },
   "source": [
    "### ANGULAR CONVERSION"
   ]
  },
  {
   "cell_type": "code",
   "execution_count": 135,
   "metadata": {
    "colab": {
     "base_uri": "https://localhost:8080/"
    },
    "id": "TFIeZ3IwEO3T",
    "outputId": "d74fb08c-192b-4a09-b2a2-6881b993fb34"
   },
   "outputs": [
    {
     "name": "stdout",
     "output_type": "stream",
     "text": [
      "90.0\n",
      "1.5707963267948966\n"
     ]
    }
   ],
   "source": [
    "# ANGULAR CONVERSION\n",
    "print(math.degrees(math.pi / 2))\n",
    "print(math.radians(90))"
   ]
  },
  {
   "cell_type": "markdown",
   "metadata": {
    "id": "joMoeBga4qZK"
   },
   "source": [
    "## `numpy`"
   ]
  },
  {
   "cell_type": "code",
   "execution_count": 136,
   "metadata": {
    "id": "ZvVip1Ba4qGJ"
   },
   "outputs": [],
   "source": [
    "# numpy\n",
    "# Documentation: https://numpy.org/doc/\n",
    "import numpy as np"
   ]
  },
  {
   "cell_type": "markdown",
   "metadata": {
    "id": "fKaFg-yM69Ou"
   },
   "source": [
    "### ARRAY CREATION"
   ]
  },
  {
   "cell_type": "code",
   "execution_count": 137,
   "metadata": {
    "colab": {
     "base_uri": "https://localhost:8080/"
    },
    "id": "Z2OQKnAA6yJ2",
    "outputId": "4d45ab82-365d-409b-9e92-7af6f1f33b05"
   },
   "outputs": [
    {
     "name": "stdout",
     "output_type": "stream",
     "text": [
      "[1 4 6 9]\n",
      "[[1 3]\n",
      " [6 9]]\n",
      "[[3.2 2.1]\n",
      " [6.  1.3]]\n",
      "\n",
      "[6. 9. 3. 0.]\n",
      "[[3 2]\n",
      " [6 1]]\n"
     ]
    }
   ],
   "source": [
    "# ARRAY CREATION\n",
    "print(np.array( [1, 4, 6, 9] ))\n",
    "print(np.array( ((1, 3), (6, 9)) ))\n",
    "print(np.array( [(3.2, 2.1), (6.0, 1.3)] ))\n",
    "# a list/tuple of lists/tuples of... is allowed\n",
    "print()\n",
    "\n",
    "print(np.array( [6, 9, 3, 0], dtype = float ))\n",
    "print(np.array( [(3.2, 2.1), (6.7, 1.3)], dtype = np.int8 ))\n",
    "# there are a lot of data types available,\n",
    "# check it out in the documentation"
   ]
  },
  {
   "cell_type": "code",
   "execution_count": 138,
   "metadata": {
    "colab": {
     "base_uri": "https://localhost:8080/"
    },
    "id": "5ANUPnyy7Crt",
    "outputId": "2b559911-a5b1-4ee0-ad73-eb39f2328525"
   },
   "outputs": [
    {
     "name": "stdout",
     "output_type": "stream",
     "text": [
      "[0 1 2 3 4 5 6 7 8 9]\n",
      "[21.2 18.7 16.2 13.7 11.2  8.7]\n",
      "\n",
      "[2.3   2.925 3.55  4.175 4.8  ]\n"
     ]
    }
   ],
   "source": [
    "# ARRAY CREATION\n",
    "print(np.arange(10))\n",
    "print(np.arange(21.2, 8.1, -2.5))\n",
    "# floats can be passed to arange \n",
    "print()\n",
    "\n",
    "print(np.linspace(2.3, 4.8, 5))\n",
    "# arrays with a specified number of elements, \n",
    "# and spaced equally between the specified beginning and end values"
   ]
  },
  {
   "cell_type": "code",
   "execution_count": 139,
   "metadata": {
    "colab": {
     "base_uri": "https://localhost:8080/"
    },
    "id": "IVrXwxrOAVF0",
    "outputId": "9bf75b21-9ca8-43b9-fb20-cddcbb1994aa"
   },
   "outputs": [
    {
     "name": "stdout",
     "output_type": "stream",
     "text": [
      "[[1. 0. 0.]\n",
      " [0. 1. 0.]\n",
      " [0. 0. 1.]]\n",
      "[[3 0 0]\n",
      " [0 4 0]\n",
      " [0 0 5]]\n"
     ]
    }
   ],
   "source": [
    "# ARRAY CREATION\n",
    "# most types of special two-dimensional matrices in linear algebra\n",
    "# can be created using np functions, find out more in the documentation\n",
    "print(np.eye(3))\n",
    "print(np.diag([3, 4, 5]))"
   ]
  },
  {
   "cell_type": "code",
   "execution_count": 140,
   "metadata": {
    "colab": {
     "base_uri": "https://localhost:8080/"
    },
    "id": "bOwz6noC7C2y",
    "outputId": "ff040167-caa9-4bdd-c46e-ae5f16423654"
   },
   "outputs": [
    {
     "name": "stdout",
     "output_type": "stream",
     "text": [
      "[[0. 0. 0.]\n",
      " [0. 0. 0.]]\n",
      "\n",
      "[[[1. 1. 1. 1.]\n",
      "  [1. 1. 1. 1.]]\n",
      "\n",
      " [[1. 1. 1. 1.]\n",
      "  [1. 1. 1. 1.]]\n",
      "\n",
      " [[1. 1. 1. 1.]\n",
      "  [1. 1. 1. 1.]]]\n"
     ]
    }
   ],
   "source": [
    "# ARRAY CREATION\n",
    "print(np.zeros((2, 3)))\n",
    "print()\n",
    "print(np.ones((3, 2, 4)))"
   ]
  },
  {
   "cell_type": "markdown",
   "metadata": {
    "id": "0fgkN750AtRd"
   },
   "source": [
    "### INDEXING"
   ]
  },
  {
   "cell_type": "code",
   "execution_count": 141,
   "metadata": {
    "colab": {
     "base_uri": "https://localhost:8080/"
    },
    "id": "YJv8x6xzApWe",
    "outputId": "b863cb9e-2391-4888-a895-09625a33f32f"
   },
   "outputs": [
    {
     "name": "stdout",
     "output_type": "stream",
     "text": [
      "[ 3.3  4.4  5.5  6.6  7.7  8.8  9.9 11. ]\n",
      "9.900000000000002\n",
      "[ 9.9 11. ]\n"
     ]
    }
   ],
   "source": [
    "# INDEXING\n",
    "np_arr = np.arange(3.3, 12, 1.1)\n",
    "print(np_arr)\n",
    "print(np_arr[-2])\n",
    "print(np_arr[-2:])\n",
    "# slicing np array is exactly the same as slicing python list "
   ]
  },
  {
   "cell_type": "code",
   "execution_count": 142,
   "metadata": {
    "colab": {
     "base_uri": "https://localhost:8080/"
    },
    "id": "a8fdtztQAyxL",
    "outputId": "a479af53-fbb8-44c0-a5bc-25699e23e1b6"
   },
   "outputs": [
    {
     "name": "stdout",
     "output_type": "stream",
     "text": [
      "(8,)\n",
      "(2, 4)\n",
      "[[ 3.3  4.4  5.5  6.6]\n",
      " [ 7.7  8.8  9.9 11. ]]\n"
     ]
    }
   ],
   "source": [
    "# INDEXING\n",
    "print(np_arr.shape)\n",
    "np_arr.shape = (2, 4)\n",
    "print(np_arr.shape)\n",
    "print(np_arr)"
   ]
  },
  {
   "cell_type": "code",
   "execution_count": 143,
   "metadata": {
    "colab": {
     "base_uri": "https://localhost:8080/"
    },
    "id": "brVp9FEKAy4T",
    "outputId": "80f5b5ec-7348-487d-d4b7-3f7632e592f8"
   },
   "outputs": [
    {
     "name": "stdout",
     "output_type": "stream",
     "text": [
      "[ 7.7  8.8  9.9 11. ]\n",
      "9.900000000000002\n"
     ]
    }
   ],
   "source": [
    "# INDEXING\n",
    "print(np_arr[1])\n",
    "print(np_arr[1, 2])"
   ]
  },
  {
   "cell_type": "code",
   "execution_count": 144,
   "metadata": {
    "colab": {
     "base_uri": "https://localhost:8080/"
    },
    "id": "0CUdq3AlAy-q",
    "outputId": "7976977e-68cd-4191-a56b-c129fdc1975c"
   },
   "outputs": [
    {
     "name": "stdout",
     "output_type": "stream",
     "text": [
      "[0 1 2 3]\n",
      "[1 3 5 7]\n",
      "\n",
      "[ 1 -1  3]\n",
      "[3 7 7]\n",
      "\n",
      "[[1 0]\n",
      " [3 2]]\n",
      "[[3 1]\n",
      " [7 5]]\n",
      "\n"
     ]
    }
   ],
   "source": [
    "# INDEXING\n",
    "print(np.arange(4))\n",
    "np_arr_2 = np.arange(1, 8, 2)\n",
    "print(np_arr_2)\n",
    "print()\n",
    "\n",
    "index_arr = np.array([1, -1, 3])\n",
    "print(index_arr)\n",
    "print(np_arr_2[index_arr])\n",
    "# a np array can be used to select element\n",
    "print()\n",
    "\n",
    "index_arr_2 = np.array( [[1, 0], [3, 2]] )\n",
    "print(index_arr_2)\n",
    "print(np_arr_2[index_arr_2])\n",
    "print()\n",
    "# indexing np arrays which have more dimensions is more complicated,\n",
    "# read more in documentation"
   ]
  },
  {
   "cell_type": "code",
   "execution_count": 145,
   "metadata": {
    "colab": {
     "base_uri": "https://localhost:8080/"
    },
    "id": "UA1I5cY2FFa2",
    "outputId": "73e35f12-1e77-4f4d-cb9f-c29b61c5f097"
   },
   "outputs": [
    {
     "name": "stdout",
     "output_type": "stream",
     "text": [
      "[0 1 2 3 4 5 6 7 8]\n",
      "[ True False  True False  True False  True False  True]\n",
      "[0 2 4 6 8]\n"
     ]
    }
   ],
   "source": [
    "# INDEXING\n",
    "np_arr_3 = np.arange(9)\n",
    "print(np_arr_3)\n",
    "index_arr_3 = np_arr_3 % 2 == 0\n",
    "print(index_arr_3)\n",
    "print(np_arr_3[index_arr_3])\n",
    "# in data science, filtering data is very important,\n",
    "# so this is a must-have tool"
   ]
  },
  {
   "cell_type": "markdown",
   "metadata": {
    "id": "cLHCrvUtGbiA"
   },
   "source": [
    "### BROADCASTING"
   ]
  },
  {
   "cell_type": "code",
   "execution_count": 146,
   "metadata": {
    "colab": {
     "base_uri": "https://localhost:8080/"
    },
    "id": "YQ48LGyfGbQx",
    "outputId": "25a66dbc-bd9e-4351-9309-a46d0a7adfd9"
   },
   "outputs": [
    {
     "name": "stdout",
     "output_type": "stream",
     "text": [
      "[6 8 9]\n",
      "[1 1 1]\n",
      "[ 7  9 10]\n"
     ]
    }
   ],
   "source": [
    "# BROADCASTING\n",
    "# the term broadcasting describes how np treats arrays \n",
    "# with different shapes during arithmetic operations\n",
    "np_arr_a = np.array([6, 8, 9])\n",
    "print(np_arr_a)\n",
    "np_arr_b = np.ones(3, dtype = np.int8)\n",
    "print(np_arr_b)\n",
    "print(np_arr_a + np_arr_b)"
   ]
  },
  {
   "cell_type": "code",
   "execution_count": 147,
   "metadata": {
    "colab": {
     "base_uri": "https://localhost:8080/"
    },
    "id": "ilpYzVx-GeuH",
    "outputId": "126c3273-2f27-4caf-b769-69ad82278c4e"
   },
   "outputs": [
    {
     "name": "stdout",
     "output_type": "stream",
     "text": [
      "[ 7  9 10]\n"
     ]
    }
   ],
   "source": [
    "# BROADCASTING\n",
    "print(np_arr_a + 1)\n",
    "# read more about general broadcasting rules for \n",
    "# more-dimensional-arrays in the documentation"
   ]
  },
  {
   "cell_type": "markdown",
   "metadata": {
    "id": "Ine92GJFIT9S"
   },
   "source": [
    "### STRUCTURED ARRAYS"
   ]
  },
  {
   "cell_type": "code",
   "execution_count": 148,
   "metadata": {
    "colab": {
     "base_uri": "https://localhost:8080/"
    },
    "id": "f3k8T2d4ITln",
    "outputId": "48320473-ac4e-432f-ef26-f501b777e0de"
   },
   "outputs": [
    {
     "name": "stdout",
     "output_type": "stream",
     "text": [
      "[('Alan', 19, 169.2) ('Paul', 21, 172.3)]\n"
     ]
    }
   ],
   "source": [
    "# STRUCTURED ARRAYS\n",
    "# there are a lot of concepts for this type of array,\n",
    "# the following is only a simple example\n",
    "struct_arr = np.array([('Alan', 19, 169.2), ('Paul', 21, 172.3)],\n",
    "                      dtype = [('name', 'U10'), ('age', 'i4'), ('height', 'f4')]\n",
    "                      )\n",
    "print(struct_arr)"
   ]
  },
  {
   "cell_type": "markdown",
   "metadata": {
    "id": "7LEpeuaHK1RP"
   },
   "source": [
    "## MOST USED MODULES FOR MATHEMATICS, DATA SCIENCE AND MACHINE LEARNING"
   ]
  },
  {
   "cell_type": "markdown",
   "metadata": {
    "id": "WrwG6sS_LHNy"
   },
   "source": [
    "* TensorFlow: [https://www.tensorflow.org/](https://www.tensorflow.org/)\n",
    "* SciPy: [https://www.scipy.org/](https://www.scipy.org/)\n",
    "* Matplotlib: [https://matplotlib.org/](https://matplotlib.org/)\n",
    "* Pandas: [https://pandas.pydata.org/](https://pandas.pydata.org/)\n",
    "* Keras: [https://keras.io/](https://keras.io/)\n",
    "* scikit-learn: [https://scikit-learn.org/](https://scikit-learn.org/)\n",
    "* statsmodels: [https://www.statsmodels.org/](https://www.statsmodels.org/)\n",
    "* Plotly: [https://plotly.com/](https://plotly.com/)\n",
    "* Seaborn: [https://seaborn.pydata.org/](https://seaborn.pydata.org/)\n",
    "\n",
    "Fun fact: If you know how to use about half of the modules above and understand their mathematical foundations, you can quit college, right now."
   ]
  }
 ],
 "metadata": {
  "colab": {
   "collapsed_sections": [],
   "name": "@htnm PYTHON LAST REVIEW.ipynb",
   "provenance": [],
   "toc_visible": true
  },
  "kernelspec": {
   "display_name": "Python 3",
   "language": "python",
   "name": "python3"
  },
  "language_info": {
   "codemirror_mode": {
    "name": "ipython",
    "version": 3
   },
   "file_extension": ".py",
   "mimetype": "text/x-python",
   "name": "python",
   "nbconvert_exporter": "python",
   "pygments_lexer": "ipython3",
   "version": "3.9.4"
  }
 },
 "nbformat": 4,
 "nbformat_minor": 1
}
