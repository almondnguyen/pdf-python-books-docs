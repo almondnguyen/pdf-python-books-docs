{
  "nbformat": 4,
  "nbformat_minor": 0,
  "metadata": {
    "colab": {
      "name": "@htnm PYTHON LAST REVIEW.ipynb",
      "provenance": [],
      "collapsed_sections": [],
      "toc_visible": true
    },
    "kernelspec": {
      "name": "python3",
      "display_name": "Python 3"
    },
    "language_info": {
      "name": "python"
    }
  },
  "cells": [
    {
      "cell_type": "markdown",
      "metadata": {
        "id": "yHHAn28X7TPx"
      },
      "source": [
        "# **INTRODUCTION TO PROGRAMMING REVIEW**\n",
        "***Written by Hoang Tran Nhat Minh,***\n",
        "\n",
        "Hanoi University of Science and Technology,\n",
        "\n",
        "Data Science and Artificial Intelligence - K65.\n",
        "\n",
        "**Guided by Dr. Dinh Viet Sang.**"
      ]
    },
    {
      "cell_type": "markdown",
      "metadata": {
        "id": "51bJZ42gNjOY"
      },
      "source": [
        "## PREFACE"
      ]
    },
    {
      "cell_type": "markdown",
      "metadata": {
        "id": "1GRT5C67N4dv"
      },
      "source": [
        "**Thank you, my teacher, Dr. Dinh Viet Sang, I cannot learn programming in Python that much without you. This notebook uses a huge part your lectures as a guidance.**\n",
        "\n",
        "*Dear Data Science & AI - K65,*\n",
        "\n",
        "This is my last notebook in order to prepare for the final exam on Introduction to Programming. If you find this notebook helpful, thanks for reading it. Some might find this one not that helpful, I highly appreciate every line of text you read, including this one.\n",
        "\n",
        "If you find any mistake, feedback and I will try to fix it as soon as possible.\n",
        "\n",
        "Thank y'all for supporting me all the time, good luck on all of your exams.\n",
        "\n",
        "Best wishes,\n",
        "\n",
        "*Hoang Tran Nhat Minh.*\n",
        "\n"
      ]
    },
    {
      "cell_type": "markdown",
      "metadata": {
        "id": "PVb9I_8fKP1O"
      },
      "source": [
        "## CODES FOR ALL EXERCISES AND SOURCES"
      ]
    },
    {
      "cell_type": "markdown",
      "metadata": {
        "id": "w0aNIZrANosW"
      },
      "source": [
        "SOME OF THE FOLLOWING CONTENTS MIGHT BE ADJUSTED OVER TIME.\n",
        "\n",
        "Code for all exercises:\n",
        "\n",
        "[https://github.com/htnminh/python-ex-intro-to-prog](https://github.com/htnminh/python-ex-intro-to-prog)\n",
        "\n",
        "Source of this documentation:\n",
        "\n",
        "[https://github.com/htnminh/pdf-python-books-docs/tree/main/PYTHON%20LAST%20REVIEW](https://github.com/htnminh/pdf-python-books-docs/tree/main/PYTHON%20LAST%20REVIEW)\n",
        "\n",
        "Source of this Colab Notebook:\n",
        "\n",
        "[https://colab.research.google.com/drive/1mjtoDbqNHKB2bAb6rTUU8hiJRfUX3Ryt?usp=sharing](https://colab.research.google.com/drive/1mjtoDbqNHKB2bAb6rTUU8hiJRfUX3Ryt?usp=sharing)"
      ]
    },
    {
      "cell_type": "markdown",
      "metadata": {
        "id": "2BBi9dSe7Zx1"
      },
      "source": [
        "# CHAPTER 1: INTRODUCTION"
      ]
    },
    {
      "cell_type": "markdown",
      "metadata": {
        "id": "DHF53f3hKZnr"
      },
      "source": [
        "## CONSTANTS"
      ]
    },
    {
      "cell_type": "code",
      "metadata": {
        "colab": {
          "base_uri": "https://localhost:8080/"
        },
        "id": "WE_EM8mVGXmo",
        "outputId": "1d0f87de-c04a-4117-ca32-898d38e9bf1d"
      },
      "source": [
        "# CONSTANTS\n",
        "print('Hello World')\n",
        "print(12.3)"
      ],
      "execution_count": null,
      "outputs": [
        {
          "output_type": "stream",
          "text": [
            "Hello World\n",
            "12.3\n"
          ],
          "name": "stdout"
        }
      ]
    },
    {
      "cell_type": "markdown",
      "metadata": {
        "id": "oHieA5AuKcul"
      },
      "source": [
        "## VARIABLES"
      ]
    },
    {
      "cell_type": "code",
      "metadata": {
        "colab": {
          "base_uri": "https://localhost:8080/"
        },
        "id": "7GtXuE7qIJX_",
        "outputId": "8b677a0b-1be0-40ff-9d5f-2a6b46516324"
      },
      "source": [
        "# VARIABLES\n",
        "x = 13.4\n",
        "y = 4.3\n",
        "x = 'Hello'\n",
        "print(x)\n",
        "print(y)"
      ],
      "execution_count": null,
      "outputs": [
        {
          "output_type": "stream",
          "text": [
            "Hello\n",
            "4.3\n"
          ],
          "name": "stdout"
        }
      ]
    },
    {
      "cell_type": "markdown",
      "metadata": {
        "id": "JDnVJrVqKiM1"
      },
      "source": [
        "## NUMERIC OPERATORS"
      ]
    },
    {
      "cell_type": "code",
      "metadata": {
        "colab": {
          "base_uri": "https://localhost:8080/"
        },
        "id": "sGfQ8qzTIX0w",
        "outputId": "6512fd4a-dcf7-43af-d4d1-37cfcd6b2611"
      },
      "source": [
        "# NUMERIC OPERATORS\n",
        "print(5 ** 3.5)\n",
        "print(19 / 5)\n",
        "print(19 // 5)\n",
        "print(19 % 5)"
      ],
      "execution_count": null,
      "outputs": [
        {
          "output_type": "stream",
          "text": [
            "279.5084971874737\n",
            "3.8\n",
            "3\n",
            "4\n"
          ],
          "name": "stdout"
        }
      ]
    },
    {
      "cell_type": "markdown",
      "metadata": {
        "id": "3pd-Nv4bKl1O"
      },
      "source": [
        "## SCIENTIFIC NOTATION"
      ]
    },
    {
      "cell_type": "code",
      "metadata": {
        "colab": {
          "base_uri": "https://localhost:8080/"
        },
        "id": "iX0OuOZ6JDVA",
        "outputId": "0abfd872-002e-4f06-f12f-5ea827935281"
      },
      "source": [
        "# SCIENTIFIC NOTATION\n",
        "print(1.234e2)\n",
        "print(1.234E+2)\n",
        "print(1.234e-3)"
      ],
      "execution_count": null,
      "outputs": [
        {
          "output_type": "stream",
          "text": [
            "123.4\n",
            "123.4\n",
            "0.001234\n"
          ],
          "name": "stdout"
        }
      ]
    },
    {
      "cell_type": "markdown",
      "metadata": {
        "id": "gpHNuVBtKpEF"
      },
      "source": [
        "## INT AND FLOAT"
      ]
    },
    {
      "cell_type": "code",
      "metadata": {
        "colab": {
          "base_uri": "https://localhost:8080/"
        },
        "id": "6yLoagkwJ_6o",
        "outputId": "c00f55da-8ef3-44cd-dc76-38d8ff154085"
      },
      "source": [
        "# INT AND FLOAT\n",
        "print(1 + 5.3)\n",
        "print(5 / 5)\n",
        "print(3 + 5)"
      ],
      "execution_count": null,
      "outputs": [
        {
          "output_type": "stream",
          "text": [
            "6.3\n",
            "1.0\n",
            "8\n"
          ],
          "name": "stdout"
        }
      ]
    },
    {
      "cell_type": "markdown",
      "metadata": {
        "id": "tOqRJATeKswH"
      },
      "source": [
        "## TYPES"
      ]
    },
    {
      "cell_type": "code",
      "metadata": {
        "colab": {
          "base_uri": "https://localhost:8080/"
        },
        "id": "1PVKKLLLKb_Q",
        "outputId": "a2ea8a58-65f1-44e5-e447-7b1147b904e3"
      },
      "source": [
        "# TYPES\n",
        "print(3 + 6)\n",
        "print('hello' + ' there')\n",
        "\n",
        "print(type(3.5))\n",
        "print(type('?'))\n",
        "\n",
        "print(float(3))\n",
        "print(str(4) + str(5))\n",
        "print(int('8'))"
      ],
      "execution_count": null,
      "outputs": [
        {
          "output_type": "stream",
          "text": [
            "9\n",
            "hello there\n",
            "<class 'float'>\n",
            "<class 'str'>\n",
            "3.0\n",
            "45\n",
            "8\n"
          ],
          "name": "stdout"
        }
      ]
    },
    {
      "cell_type": "markdown",
      "metadata": {
        "id": "gwodJRIHK6Ir"
      },
      "source": [
        "## (INPUT) TYPE DIFFERENCES"
      ]
    },
    {
      "cell_type": "code",
      "metadata": {
        "colab": {
          "base_uri": "https://localhost:8080/"
        },
        "id": "2ExwCiCpLWp3",
        "outputId": "743d46c2-72b3-41fe-e0f8-2dba7ec66b28"
      },
      "source": [
        "# TYPE DIFFERENCES\n",
        "a = input('a = ')\n",
        "print(a * 5)\n",
        "print(int(a) * 5)"
      ],
      "execution_count": null,
      "outputs": [
        {
          "output_type": "stream",
          "text": [
            "a = 8\n",
            "88888\n",
            "40\n"
          ],
          "name": "stdout"
        }
      ]
    },
    {
      "cell_type": "markdown",
      "metadata": {
        "id": "YFq4ThmwKwcO"
      },
      "source": [
        "## (INPUT) FILE NAME"
      ]
    },
    {
      "cell_type": "code",
      "metadata": {
        "id": "TsRV90fKLggo",
        "colab": {
          "base_uri": "https://localhost:8080/"
        },
        "outputId": "5e7ca902-8b06-421a-85cb-040cf58c94da"
      },
      "source": [
        "# FILE NAME\n",
        "name = input('Name = ')\n",
        "#/content/sample_data/README.md\n",
        "f = open(name, 'r')\n",
        "print(f.read())\n",
        "f.close()"
      ],
      "execution_count": null,
      "outputs": [
        {
          "output_type": "stream",
          "text": [
            "Name = /content/sample_data/README.md\n",
            "This directory includes a few sample datasets to get you started.\n",
            "\n",
            "*   `california_housing_data*.csv` is California housing data from the 1990 US\n",
            "    Census; more information is available at:\n",
            "    https://developers.google.com/machine-learning/crash-course/california-housing-data-description\n",
            "\n",
            "*   `mnist_*.csv` is a small sample of the\n",
            "    [MNIST database](https://en.wikipedia.org/wiki/MNIST_database), which is\n",
            "    described at: http://yann.lecun.com/exdb/mnist/\n",
            "\n",
            "*   `anscombe.json` contains a copy of\n",
            "    [Anscombe's quartet](https://en.wikipedia.org/wiki/Anscombe%27s_quartet); it\n",
            "    was originally described in\n",
            "\n",
            "    Anscombe, F. J. (1973). 'Graphs in Statistical Analysis'. American\n",
            "    Statistician. 27 (1): 17-21. JSTOR 2682899.\n",
            "\n",
            "    and our copy was prepared by the\n",
            "    [vega_datasets library](https://github.com/altair-viz/vega_datasets/blob/4f67bdaad10f45e3549984e17e1b3088c731503d/vega_datasets/_data/anscombe.json).\n",
            "\n"
          ],
          "name": "stdout"
        }
      ]
    },
    {
      "cell_type": "markdown",
      "metadata": {
        "id": "xTFbp-9eNm-p"
      },
      "source": [
        "# CHAPTER 2: CONTROL FLOW"
      ]
    },
    {
      "cell_type": "markdown",
      "metadata": {
        "id": "3_11s2BKLEDd"
      },
      "source": [
        "## COMPARISON OPERATORS"
      ]
    },
    {
      "cell_type": "code",
      "metadata": {
        "id": "jm80DA7LN2NB",
        "colab": {
          "base_uri": "https://localhost:8080/"
        },
        "outputId": "580966ad-c842-4674-9e07-305b14b08723"
      },
      "source": [
        "# COMPARISON OPERATORS\n",
        "print(3 == 4)\n",
        "print(3 != 4)\n",
        "print(3 < 4)\n",
        "print(3 >= 4)"
      ],
      "execution_count": null,
      "outputs": [
        {
          "output_type": "stream",
          "text": [
            "False\n",
            "True\n",
            "True\n",
            "False\n"
          ],
          "name": "stdout"
        }
      ]
    },
    {
      "cell_type": "markdown",
      "metadata": {
        "id": "mF9tfmVcLFzc"
      },
      "source": [
        "## LOGIC OPERATORS"
      ]
    },
    {
      "cell_type": "code",
      "metadata": {
        "id": "1IqaaB8YPdMo",
        "colab": {
          "base_uri": "https://localhost:8080/"
        },
        "outputId": "9c35fe26-5ce2-41cd-f86b-20ae02396ebf"
      },
      "source": [
        "# LOGIC OPERATORS\n",
        "print(not False)\n",
        "print(True and False)\n",
        "print(True or False)"
      ],
      "execution_count": null,
      "outputs": [
        {
          "output_type": "stream",
          "text": [
            "True\n",
            "False\n",
            "True\n"
          ],
          "name": "stdout"
        }
      ]
    },
    {
      "cell_type": "markdown",
      "metadata": {
        "id": "gMFHOZ47LH3M"
      },
      "source": [
        "## (INPUT) BRANCHING"
      ]
    },
    {
      "cell_type": "code",
      "metadata": {
        "id": "WDxV4e8bPtQQ",
        "colab": {
          "base_uri": "https://localhost:8080/"
        },
        "outputId": "488bddb3-ef46-4665-c48e-c19435c81c8e"
      },
      "source": [
        "# BRANCHING\n",
        "a = int(input('a = '))\n",
        "b = int(input('b = '))\n",
        "if a > b:\n",
        "    print('larger')\n",
        "elif a == b:\n",
        "    print('equal')\n",
        "else:\n",
        "    print('less')"
      ],
      "execution_count": null,
      "outputs": [
        {
          "output_type": "stream",
          "text": [
            "a = 3\n",
            "b = 5\n",
            "less\n"
          ],
          "name": "stdout"
        }
      ]
    },
    {
      "cell_type": "markdown",
      "metadata": {
        "id": "484ue29hSX9h"
      },
      "source": [
        "# CHAPTER 3: FUNCTIONS"
      ]
    },
    {
      "cell_type": "markdown",
      "metadata": {
        "id": "G1-Wx0mlLLvl"
      },
      "source": [
        "## FUNCTION EXAMPLE"
      ]
    },
    {
      "cell_type": "code",
      "metadata": {
        "id": "mUgVinH7Sjs4",
        "colab": {
          "base_uri": "https://localhost:8080/"
        },
        "outputId": "e5c03f82-4663-4798-ce92-bc8aa823560a"
      },
      "source": [
        "# FUNCTION EXAMPLE\n",
        "\n",
        "#   name    parameter(s)\n",
        "def two_time(number):\n",
        "    # docstring\n",
        "    '''\n",
        "    2 times a number\n",
        "    '''\n",
        "    # body\n",
        "    doubled = 2 * number\n",
        "    # returns (if not, it is a void function)\n",
        "    return doubled\n",
        "# function call, pass argument(s) to parameter(s)\n",
        "print(two_time(8))\n",
        "\n",
        "print(two_time.__doc__)"
      ],
      "execution_count": null,
      "outputs": [
        {
          "output_type": "stream",
          "text": [
            "16\n",
            "\n",
            "    2 times a number\n",
            "    \n"
          ],
          "name": "stdout"
        }
      ]
    },
    {
      "cell_type": "markdown",
      "metadata": {
        "id": "-eX6L98wLRQd"
      },
      "source": [
        "## COMMON BUILT-IN PYTHON FUNCTIONS"
      ]
    },
    {
      "cell_type": "code",
      "metadata": {
        "id": "P7KtieS1UlxB",
        "colab": {
          "base_uri": "https://localhost:8080/"
        },
        "outputId": "ed566736-718b-4bb5-b1c2-155dd68f9836"
      },
      "source": [
        "# COMMON BUILT-IN PYTHON FUNCTIONS\n",
        "# previous ones: input(), type(), float(),...\n",
        "print(max(6, 8, 5))\n",
        "print(min(3, 6, 7))"
      ],
      "execution_count": null,
      "outputs": [
        {
          "output_type": "stream",
          "text": [
            "8\n",
            "3\n"
          ],
          "name": "stdout"
        }
      ]
    },
    {
      "cell_type": "markdown",
      "metadata": {
        "id": "QdQL5KG6LVdU"
      },
      "source": [
        "## PASS-BY-OBJECT-REFERENCE"
      ]
    },
    {
      "cell_type": "code",
      "metadata": {
        "id": "YCG2_l88Vyep",
        "colab": {
          "base_uri": "https://localhost:8080/"
        },
        "outputId": "04fba0f8-a24d-437d-d05b-80874c03faa7"
      },
      "source": [
        "# PASS-BY-OBJECT-REFERENCE\n",
        "# Immutable objects: int, float, complex, string, tuple, frozen set, bytes\n",
        "# Mutable objects: list, dict, set, byte array\n",
        "\n",
        "def change_num(num):\n",
        "    num += 1\n",
        "a = 4\n",
        "print(a)\n",
        "change_num(a)\n",
        "print(a)\n",
        "\n",
        "def change_lst(lst):\n",
        "    lst.append('changed')\n",
        "l = ['original']\n",
        "print(l)\n",
        "change_lst(l)\n",
        "print(l)"
      ],
      "execution_count": null,
      "outputs": [
        {
          "output_type": "stream",
          "text": [
            "4\n",
            "4\n",
            "['original']\n",
            "['original', 'changed']\n"
          ],
          "name": "stdout"
        }
      ]
    },
    {
      "cell_type": "markdown",
      "metadata": {
        "id": "sYVR_M2QLXSV"
      },
      "source": [
        "## SCOPE"
      ]
    },
    {
      "cell_type": "code",
      "metadata": {
        "id": "-oYQNgGGdh1k",
        "colab": {
          "base_uri": "https://localhost:8080/"
        },
        "outputId": "5bcf6d3a-3dc7-4af6-e98a-05068797e510"
      },
      "source": [
        "# SCOPE\n",
        "def f(x):\n",
        "    x += 1\n",
        "    print('In f:    x =',x)\n",
        "x = 0\n",
        "print('First:   x =', x)\n",
        "f(x)\n",
        "print('After f: x =', x)"
      ],
      "execution_count": null,
      "outputs": [
        {
          "output_type": "stream",
          "text": [
            "First:   x = 0\n",
            "In f:    x = 1\n",
            "After f: x = 0\n"
          ],
          "name": "stdout"
        }
      ]
    },
    {
      "cell_type": "markdown",
      "metadata": {
        "id": "TaAgUlL6LY2M"
      },
      "source": [
        "## FUNCTIONS AS ARGUMENTS"
      ]
    },
    {
      "cell_type": "code",
      "metadata": {
        "id": "wYIGUnL0foMr",
        "colab": {
          "base_uri": "https://localhost:8080/"
        },
        "outputId": "5c026a6e-0d33-4ca1-b3d3-518801e2ee86"
      },
      "source": [
        "# FUNCTIONS AS ARGUMENTS\n",
        "def triple(num):\n",
        "    return 3 * num\n",
        "def square(num):\n",
        "    return num ** 2\n",
        "\n",
        "def fx_plus_gy(f, x, g, y):\n",
        "    return f(x) + g(y)\n",
        "\n",
        "print(fx_plus_gy(triple, 5, square, 8))\n",
        "print(3 * 5 + 8 ** 2)"
      ],
      "execution_count": null,
      "outputs": [
        {
          "output_type": "stream",
          "text": [
            "79\n",
            "79\n"
          ],
          "name": "stdout"
        }
      ]
    },
    {
      "cell_type": "markdown",
      "metadata": {
        "id": "uJA2eC52LaqM"
      },
      "source": [
        "##  DEFAULT PARAMETER VALUE"
      ]
    },
    {
      "cell_type": "code",
      "metadata": {
        "id": "C1VAds4Widl7",
        "colab": {
          "base_uri": "https://localhost:8080/"
        },
        "outputId": "a212ce34-ff35-4c7d-b689-ce2bdcf45c2c"
      },
      "source": [
        "# DEFAULT PARAMETER VALUE\n",
        "def tong(a, b = 2, c = 3):\n",
        "    return a + b + c\n",
        "\n",
        "print(tong(1))\n",
        "# 1 + 2 + 3\n",
        "print(tong(1, 4))\n",
        "# 1 + 4 + 3\n",
        "print(tong(0, 3, 6))\n",
        "# 0 + 3 + 6"
      ],
      "execution_count": null,
      "outputs": [
        {
          "output_type": "stream",
          "text": [
            "6\n",
            "8\n",
            "9\n"
          ],
          "name": "stdout"
        }
      ]
    },
    {
      "cell_type": "markdown",
      "metadata": {
        "id": "Miim09wtLcJ0"
      },
      "source": [
        "##  LAMBDA FUNCTION"
      ]
    },
    {
      "cell_type": "code",
      "metadata": {
        "id": "6XBjOWnAjPts",
        "colab": {
          "base_uri": "https://localhost:8080/"
        },
        "outputId": "8fd6f14d-2567-45fd-86f7-577f8d503d13"
      },
      "source": [
        "# LAMBDA FUNCTION\n",
        "tong = lambda x, y: x + y\n",
        "print(tong(3, 5))\n",
        "print((lambda x, y: x * y)(2, 9))"
      ],
      "execution_count": null,
      "outputs": [
        {
          "output_type": "stream",
          "text": [
            "8\n",
            "18\n"
          ],
          "name": "stdout"
        }
      ]
    },
    {
      "cell_type": "markdown",
      "metadata": {
        "id": "UuxNIR1fLeKs"
      },
      "source": [
        "###  LAMBDA EXAMPLE"
      ]
    },
    {
      "cell_type": "code",
      "metadata": {
        "id": "ar3ikJrYjseL",
        "colab": {
          "base_uri": "https://localhost:8080/"
        },
        "outputId": "96ebe4bc-c057-41c2-9da2-9cf9ebb12f2d"
      },
      "source": [
        "# LAMBDA EXAMPLE\n",
        "def multiply_by(n):\n",
        "    return lambda x: x * n\n",
        "\n",
        "double = multiply_by(2)\n",
        "# multiply_by(2) ->  lambda x: x * 2\n",
        "# -> a doubling function\n",
        "triple = multiply_by(3)\n",
        "\n",
        "print(double(16))\n",
        "print(triple(4))"
      ],
      "execution_count": null,
      "outputs": [
        {
          "output_type": "stream",
          "text": [
            "32\n",
            "12\n"
          ],
          "name": "stdout"
        }
      ]
    },
    {
      "cell_type": "markdown",
      "metadata": {
        "id": "TsHmDufFLg9E"
      },
      "source": [
        "###  TEST: WITHOUT LAMBDA"
      ]
    },
    {
      "cell_type": "code",
      "metadata": {
        "id": "xcpRd19ekNGU",
        "colab": {
          "base_uri": "https://localhost:8080/"
        },
        "outputId": "1531c9e6-7d34-433c-c023-262690ae664e"
      },
      "source": [
        "# TEST: WITHOUT LAMBDA\n",
        "def multiply_by(n):\n",
        "    def multi(x):\n",
        "        return x * n\n",
        "    return multi\n",
        "\n",
        "double = multiply_by(2)\n",
        "# multiply_by(2) -> function: multi, where multi return the doubled argument\n",
        "# -> a doubling function\n",
        "triple = multiply_by(3)\n",
        "\n",
        "print(double(16))\n",
        "print(triple(4))"
      ],
      "execution_count": null,
      "outputs": [
        {
          "output_type": "stream",
          "text": [
            "32\n",
            "12\n"
          ],
          "name": "stdout"
        }
      ]
    },
    {
      "cell_type": "markdown",
      "metadata": {
        "id": "kdjmVlTELie9"
      },
      "source": [
        "### LAMBDA EXAMPLE"
      ]
    },
    {
      "cell_type": "code",
      "metadata": {
        "id": "G7Uzfy6ynFeU",
        "colab": {
          "base_uri": "https://localhost:8080/"
        },
        "outputId": "55fb3315-ad44-40d8-a803-9e5102ad7e75"
      },
      "source": [
        "# LAMBDA EXAMPLE\n",
        "x_plus_fx = lambda x, f: x + f(x)\n",
        "\n",
        "print(x_plus_fx(3, lambda x: x ** 2))\n",
        "# x + f(x) = x + x ** 2\n",
        "# 3 + f(3) = 3 + 3 ** 2"
      ],
      "execution_count": null,
      "outputs": [
        {
          "output_type": "stream",
          "text": [
            "12\n"
          ],
          "name": "stdout"
        }
      ]
    },
    {
      "cell_type": "markdown",
      "metadata": {
        "id": "Oz0VdEQzLk6W"
      },
      "source": [
        "## RECURSION EXAMPLES"
      ]
    },
    {
      "cell_type": "code",
      "metadata": {
        "id": "VhVkrvzfoZc8",
        "colab": {
          "base_uri": "https://localhost:8080/"
        },
        "outputId": "4c81e0d6-8644-4762-ae5d-fd9931acfbec"
      },
      "source": [
        "# RECURSION EXAMPLES\n",
        "def pr(n):\n",
        "    print(str(n) + '! = ' + str(n - 1) + '! * ' + str(n))\n",
        "\n",
        "def factorial(n):\n",
        "    if n == 0:\n",
        "        print('0! = 1')\n",
        "        return 1\n",
        "    pr(n)\n",
        "    return factorial(n - 1) * n\n",
        "\n",
        "print(factorial(7))"
      ],
      "execution_count": null,
      "outputs": [
        {
          "output_type": "stream",
          "text": [
            "7! = 6! * 7\n",
            "6! = 5! * 6\n",
            "5! = 4! * 5\n",
            "4! = 3! * 4\n",
            "3! = 2! * 3\n",
            "2! = 1! * 2\n",
            "1! = 0! * 1\n",
            "0! = 1\n",
            "5040\n"
          ],
          "name": "stdout"
        }
      ]
    },
    {
      "cell_type": "markdown",
      "metadata": {
        "id": "hV_svzDALoVO"
      },
      "source": [
        "###  FACTORIAL RECURSION IN SHORT"
      ]
    },
    {
      "cell_type": "code",
      "metadata": {
        "id": "2yw72lgXqtvs",
        "colab": {
          "base_uri": "https://localhost:8080/"
        },
        "outputId": "dc8066bf-7734-4881-c656-11b00dd19c56"
      },
      "source": [
        "# FACTORIAL RECURSION IN SHORT\n",
        "factorial = lambda n: 1 if n == 0 else factorial(n - 1) * n\n",
        "print(factorial(7))"
      ],
      "execution_count": null,
      "outputs": [
        {
          "output_type": "stream",
          "text": [
            "5040\n"
          ],
          "name": "stdout"
        }
      ]
    },
    {
      "cell_type": "markdown",
      "metadata": {
        "id": "1R_WJFS8Lpx9"
      },
      "source": [
        "### FIBONACCI RECURSION IN SHORT"
      ]
    },
    {
      "cell_type": "code",
      "metadata": {
        "id": "_JXLedW4zlpK",
        "colab": {
          "base_uri": "https://localhost:8080/"
        },
        "outputId": "23f7dc88-d0ff-46d6-e760-caec393adb1c"
      },
      "source": [
        "# FIBONACCI RECURSION IN SHORT\n",
        "fib = lambda n: n if n <= 1 else fib(n - 1) + fib(n - 2)\n",
        "print(*[fib(i) for i in range(15)])"
      ],
      "execution_count": null,
      "outputs": [
        {
          "output_type": "stream",
          "text": [
            "0 1 1 2 3 5 8 13 21 34 55 89 144 233 377\n"
          ],
          "name": "stdout"
        }
      ]
    },
    {
      "cell_type": "markdown",
      "metadata": {
        "id": "6XYgaqc_1qOB"
      },
      "source": [
        "### (INPUT) (WARNING: WALL-OF-CODE) TOWER OF HANOI: TRADITIONAL RECURSION PROBLEM"
      ]
    },
    {
      "cell_type": "code",
      "metadata": {
        "id": "poyxAJR2w287",
        "colab": {
          "base_uri": "https://localhost:8080/"
        },
        "outputId": "fb006817-848a-4281-fbd1-55f0aa9b1852"
      },
      "source": [
        "# TOWER OF HANOI: TRADITIONAL RECURSION PROBLEM\n",
        "# EXPLICITLY VISUALIZED CODE\n",
        "def hanoi_tower(n):\n",
        "    '''run and return number of transfers as text'''\n",
        "    def transfer(n, start, end, mid):\n",
        "        if n == 1:\n",
        "            nonlocal count\n",
        "            count += 1\n",
        "            map_ind = ['A', 'B', 'C']\n",
        "            print(' '*18 + 'Step ' + str(count) + ': ' + map_ind[start] + ' -> ' + map_ind[end])\n",
        "            move(start, end)\n",
        "            print_board()\n",
        "        else:\n",
        "            transfer(n - 1, start, mid, end)\n",
        "            transfer(1, start, end, mid)\n",
        "            transfer(n - 1, mid, end, start)\n",
        "    count = 0\n",
        "    transfer(n, 0, 2, 1)\n",
        "    return count\n",
        "\n",
        "'''\n",
        "a =                     \n",
        "      0  1  2  3                    \n",
        "\n",
        "0     4  3  2  1                    \n",
        "1     0  0  0  0                    \n",
        "2     0  0  0  0\n",
        "\n",
        "printed :\n",
        "                A  B  C\n",
        "\n",
        "                1  .  .\n",
        "                2  .  .\n",
        "                3  .  .\n",
        "                4  .  .\n",
        "'''\n",
        "def print_board():\n",
        "    '''print current board'''\n",
        "    print('|  A  B  C  |')\n",
        "    \n",
        "    for col in range(n - 1, -1, -1):\n",
        "        print('|  ', end = '')\n",
        "        for row in range(3):\n",
        "            character = '.' if a[row][col] == 0 else a[row][col]\n",
        "            print(str(character) + '  ', end = '')\n",
        "        print('|')\n",
        "        \n",
        "\n",
        "def move(row_start, row_end):\n",
        "    '''make a move'''\n",
        "    def col_lastnonenull(row):\n",
        "        for col_ind in range(n - 1, -1, -1):\n",
        "            if a[row][col_ind] != 0:\n",
        "                return col_ind\n",
        "            # return n - 1\n",
        "    def col_firstnull(row):\n",
        "        for col_ind in range(n):\n",
        "            if a[row][col_ind] == 0:\n",
        "                return col_ind\n",
        "            # return 0\n",
        "    a[row_end][col_firstnull(row_end)] = a[row_start][col_lastnonenull(row_start)]\n",
        "    a[row_start][col_lastnonenull(row_start)] = 0\n",
        "\n",
        "# MAIN:\n",
        "\n",
        "# input n\n",
        "n = int(input('n = '))\n",
        "\n",
        "# initialize list of list, n = 4, \n",
        "'''\n",
        "a =\n",
        "      0  1  2  3\n",
        "      \n",
        "0     4  3  2  1\n",
        "1     0  0  0  0\n",
        "2     0  0  0  0\n",
        "'''\n",
        "a = [[n - i for i in range(n)]]\n",
        "for i in range(2):\n",
        "    a.append([0 for j in range(n)])\n",
        "    \n",
        "# print the initialized board\n",
        "print()\n",
        "print_board()\n",
        "\n",
        "# run, print the board every move and return the result\n",
        "print('\\nNumber of transfers: %i' % hanoi_tower(n))\n",
        "\n",
        "# n SHOULD BE LESS THAN 5"
      ],
      "execution_count": null,
      "outputs": [
        {
          "output_type": "stream",
          "text": [
            "n = 4\n",
            "\n",
            "|  A  B  C  |\n",
            "|  1  .  .  |\n",
            "|  2  .  .  |\n",
            "|  3  .  .  |\n",
            "|  4  .  .  |\n",
            "                  Step 1: A -> B\n",
            "|  A  B  C  |\n",
            "|  .  .  .  |\n",
            "|  2  .  .  |\n",
            "|  3  .  .  |\n",
            "|  4  1  .  |\n",
            "                  Step 2: A -> C\n",
            "|  A  B  C  |\n",
            "|  .  .  .  |\n",
            "|  .  .  .  |\n",
            "|  3  .  .  |\n",
            "|  4  1  2  |\n",
            "                  Step 3: B -> C\n",
            "|  A  B  C  |\n",
            "|  .  .  .  |\n",
            "|  .  .  .  |\n",
            "|  3  .  1  |\n",
            "|  4  .  2  |\n",
            "                  Step 4: A -> B\n",
            "|  A  B  C  |\n",
            "|  .  .  .  |\n",
            "|  .  .  .  |\n",
            "|  .  .  1  |\n",
            "|  4  3  2  |\n",
            "                  Step 5: C -> A\n",
            "|  A  B  C  |\n",
            "|  .  .  .  |\n",
            "|  .  .  .  |\n",
            "|  1  .  .  |\n",
            "|  4  3  2  |\n",
            "                  Step 6: C -> B\n",
            "|  A  B  C  |\n",
            "|  .  .  .  |\n",
            "|  .  .  .  |\n",
            "|  1  2  .  |\n",
            "|  4  3  .  |\n",
            "                  Step 7: A -> B\n",
            "|  A  B  C  |\n",
            "|  .  .  .  |\n",
            "|  .  1  .  |\n",
            "|  .  2  .  |\n",
            "|  4  3  .  |\n",
            "                  Step 8: A -> C\n",
            "|  A  B  C  |\n",
            "|  .  .  .  |\n",
            "|  .  1  .  |\n",
            "|  .  2  .  |\n",
            "|  .  3  4  |\n",
            "                  Step 9: B -> C\n",
            "|  A  B  C  |\n",
            "|  .  .  .  |\n",
            "|  .  .  .  |\n",
            "|  .  2  1  |\n",
            "|  .  3  4  |\n",
            "                  Step 10: B -> A\n",
            "|  A  B  C  |\n",
            "|  .  .  .  |\n",
            "|  .  .  .  |\n",
            "|  .  .  1  |\n",
            "|  2  3  4  |\n",
            "                  Step 11: C -> A\n",
            "|  A  B  C  |\n",
            "|  .  .  .  |\n",
            "|  .  .  .  |\n",
            "|  1  .  .  |\n",
            "|  2  3  4  |\n",
            "                  Step 12: B -> C\n",
            "|  A  B  C  |\n",
            "|  .  .  .  |\n",
            "|  .  .  .  |\n",
            "|  1  .  3  |\n",
            "|  2  .  4  |\n",
            "                  Step 13: A -> B\n",
            "|  A  B  C  |\n",
            "|  .  .  .  |\n",
            "|  .  .  .  |\n",
            "|  .  .  3  |\n",
            "|  2  1  4  |\n",
            "                  Step 14: A -> C\n",
            "|  A  B  C  |\n",
            "|  .  .  .  |\n",
            "|  .  .  2  |\n",
            "|  .  .  3  |\n",
            "|  .  1  4  |\n",
            "                  Step 15: B -> C\n",
            "|  A  B  C  |\n",
            "|  .  .  1  |\n",
            "|  .  .  2  |\n",
            "|  .  .  3  |\n",
            "|  .  .  4  |\n",
            "\n",
            "Number of transfers: 15\n"
          ],
          "name": "stdout"
        }
      ]
    },
    {
      "cell_type": "markdown",
      "metadata": {
        "id": "xt3pT21_1hvi"
      },
      "source": [
        "# CHAPTER 4: STRINGS"
      ]
    },
    {
      "cell_type": "markdown",
      "metadata": {
        "id": "wm6XN6ThL9_0"
      },
      "source": [
        "## STRING EXAMPLES"
      ]
    },
    {
      "cell_type": "code",
      "metadata": {
        "id": "z0GumIEO1nSD",
        "colab": {
          "base_uri": "https://localhost:8080/"
        },
        "outputId": "ed8ad735-cad2-4448-ad0a-470fd3766673"
      },
      "source": [
        "# STRING EXAMPLES\n",
        "print('abc')"
      ],
      "execution_count": null,
      "outputs": [
        {
          "output_type": "stream",
          "text": [
            "abc\n"
          ],
          "name": "stdout"
        }
      ]
    },
    {
      "cell_type": "markdown",
      "metadata": {
        "id": "MXaP5ypAL_JV"
      },
      "source": [
        "## `len()` OF A STRING"
      ]
    },
    {
      "cell_type": "code",
      "metadata": {
        "id": "ZW-nsEKe3NyR",
        "colab": {
          "base_uri": "https://localhost:8080/"
        },
        "outputId": "ff2ce972-2409-43ba-e940-409fd276f136"
      },
      "source": [
        "# LEN OF A STRING\n",
        "print(len('this is a string'))"
      ],
      "execution_count": null,
      "outputs": [
        {
          "output_type": "stream",
          "text": [
            "16\n"
          ],
          "name": "stdout"
        }
      ]
    },
    {
      "cell_type": "markdown",
      "metadata": {
        "id": "KmuJc-FcMBuU"
      },
      "source": [
        "## LOOP OVER A STRING"
      ]
    },
    {
      "cell_type": "code",
      "metadata": {
        "id": "dwvG48DQ3Veg",
        "colab": {
          "base_uri": "https://localhost:8080/"
        },
        "outputId": "4a54a156-5e95-4046-9155-d4b17ee0742a"
      },
      "source": [
        "# LOOP OVER A STRING\n",
        "for c in 'hi there?':\n",
        "    print(c)"
      ],
      "execution_count": null,
      "outputs": [
        {
          "output_type": "stream",
          "text": [
            "h\n",
            "i\n",
            " \n",
            "t\n",
            "h\n",
            "e\n",
            "r\n",
            "e\n",
            "?\n"
          ],
          "name": "stdout"
        }
      ]
    },
    {
      "cell_type": "markdown",
      "metadata": {
        "id": "EuZeCIV2MDkc"
      },
      "source": [
        "##  SLICING A STRING"
      ]
    },
    {
      "cell_type": "code",
      "metadata": {
        "id": "H2fir_Eb34Df",
        "colab": {
          "base_uri": "https://localhost:8080/"
        },
        "outputId": "577d7f7d-b9f2-445f-afb2-038c591049fc"
      },
      "source": [
        "# SLICING A STRING\n",
        "print('abcd'[2])\n",
        "print('mnpq'[1:])\n",
        "print('hello from the other side'[:5])"
      ],
      "execution_count": null,
      "outputs": [
        {
          "output_type": "stream",
          "text": [
            "c\n",
            "npq\n",
            "hello\n"
          ],
          "name": "stdout"
        }
      ]
    },
    {
      "cell_type": "markdown",
      "metadata": {
        "id": "PvTI8RLbMF0M"
      },
      "source": [
        "## STRING FORMATTING OPERATOR `%`"
      ]
    },
    {
      "cell_type": "code",
      "metadata": {
        "id": "YbdM3jFJ4Mow",
        "colab": {
          "base_uri": "https://localhost:8080/"
        },
        "outputId": "9c7583ac-6167-4575-8e17-5ca6fb487fdd"
      },
      "source": [
        "# STRING FORMATTING OPERATOR %\n",
        "print('%s is a metal' % 'gold')\n",
        "\n",
        "color = 'yellow'\n",
        "num = 7\n",
        "print( '%s is a color of %d main colors in a rainbow!' % (color, num) )\n",
        "\n",
        "# %s string | %c char | %d decimal | %i integer | %f float"
      ],
      "execution_count": null,
      "outputs": [
        {
          "output_type": "stream",
          "text": [
            "gold is a metal\n",
            "yellow is a color of 7 main colors in a rainbow!\n"
          ],
          "name": "stdout"
        }
      ]
    },
    {
      "cell_type": "markdown",
      "metadata": {
        "id": "Pm4-x9PQMNCE"
      },
      "source": [
        "###  STRING FORMATTING OPERATOR `%` EXAMPLE"
      ]
    },
    {
      "cell_type": "code",
      "metadata": {
        "id": "tYijrN6R4y-I",
        "colab": {
          "base_uri": "https://localhost:8080/"
        },
        "outputId": "3a9707ee-ac05-498c-9fe2-a66b30d56ef1"
      },
      "source": [
        "# STRING FORMATTING OPERATOR % EXAMPLE\n",
        "# https://docs.python.org/3/library/string.html\n",
        "print('%.2f' % 3.895)"
      ],
      "execution_count": null,
      "outputs": [
        {
          "output_type": "stream",
          "text": [
            "3.90\n"
          ],
          "name": "stdout"
        }
      ]
    },
    {
      "cell_type": "markdown",
      "metadata": {
        "id": "_nArhmD-MbRc"
      },
      "source": [
        "##  `in` OPERATOR"
      ]
    },
    {
      "cell_type": "code",
      "metadata": {
        "id": "HHLBEYn06OLH",
        "colab": {
          "base_uri": "https://localhost:8080/"
        },
        "outputId": "9016f6fa-b887-48c8-8325-7b7718b84a18"
      },
      "source": [
        "# in OPERATOR\n",
        "print('e' in 'hello')"
      ],
      "execution_count": null,
      "outputs": [
        {
          "output_type": "stream",
          "text": [
            "True\n"
          ],
          "name": "stdout"
        }
      ]
    },
    {
      "cell_type": "markdown",
      "metadata": {
        "id": "hEPMlQgdMek0"
      },
      "source": [
        "##  STRING COMPARISON"
      ]
    },
    {
      "cell_type": "code",
      "metadata": {
        "id": "HJ1lQgtX6ao5",
        "colab": {
          "base_uri": "https://localhost:8080/"
        },
        "outputId": "5e3254f3-281a-473b-e030-2b91481e2873"
      },
      "source": [
        "# STRING COMPARISON\n",
        "print('abc' > 'def')\n",
        "print('abc' > 'd')\n",
        "print('axyz' < 'bcde')"
      ],
      "execution_count": null,
      "outputs": [
        {
          "output_type": "stream",
          "text": [
            "False\n",
            "False\n",
            "True\n"
          ],
          "name": "stdout"
        }
      ]
    },
    {
      "cell_type": "markdown",
      "metadata": {
        "id": "t7tsFGUxMgpb"
      },
      "source": [
        "## THE DIRECTORY FUNCTION `dir()`"
      ]
    },
    {
      "cell_type": "code",
      "metadata": {
        "id": "zizudiBv6qSL",
        "colab": {
          "base_uri": "https://localhost:8080/"
        },
        "outputId": "610f30bf-7f42-48fd-b0cc-d13a04f8c0f7"
      },
      "source": [
        "# THE DIRECTORY FUNCTION dir()\n",
        "s = '????'\n",
        "print('...',*dir(s)[30:38], '...\\nand a lot more!')"
      ],
      "execution_count": null,
      "outputs": [
        {
          "output_type": "stream",
          "text": [
            "... __sizeof__ __str__ __subclasshook__ capitalize casefold center count encode ...\n",
            "and a lot more!\n"
          ],
          "name": "stdout"
        }
      ]
    },
    {
      "cell_type": "markdown",
      "metadata": {
        "id": "HVT10s3NMilc"
      },
      "source": [
        "## IMPORTANT FUNCTIONS AND METHODS"
      ]
    },
    {
      "cell_type": "markdown",
      "metadata": {
        "id": "ePbIFrYKMmrT"
      },
      "source": [
        "### `capitalize()`, `center()`"
      ]
    },
    {
      "cell_type": "code",
      "metadata": {
        "id": "moSBjKTj72A2",
        "colab": {
          "base_uri": "https://localhost:8080/"
        },
        "outputId": "3954ffb5-3f76-4f38-fc02-a004a601a68e"
      },
      "source": [
        "# capitalize(), center()\n",
        "print('hello'.capitalize())\n",
        "print('hello'.center(14))\n",
        "print('hello'.center(20, '*'))"
      ],
      "execution_count": null,
      "outputs": [
        {
          "output_type": "stream",
          "text": [
            "Hello\n",
            "    hello     \n",
            "*******hello********\n"
          ],
          "name": "stdout"
        }
      ]
    },
    {
      "cell_type": "markdown",
      "metadata": {
        "id": "vlEINpBNMrpc"
      },
      "source": [
        "###  `endswith()`, `startswith()`"
      ]
    },
    {
      "cell_type": "code",
      "metadata": {
        "id": "evOk61ou8qw-",
        "colab": {
          "base_uri": "https://localhost:8080/"
        },
        "outputId": "e9e81610-bdd6-429f-d02f-4548b310696e"
      },
      "source": [
        "# endswith(), startswith()\n",
        "print('hello'.endswith('o'))\n",
        "print('hello'.endswith('o', 1, 4))\n",
        "#      01234\n",
        "# search from 1 to 3 = 'ell'\n",
        "print()\n",
        "\n",
        "print('hello'.startswith('h'))\n",
        "print('hello'.startswith('e', 1, 4))\n",
        "#      01234\n",
        "# search from 1 to 3 = 'ell'"
      ],
      "execution_count": null,
      "outputs": [
        {
          "output_type": "stream",
          "text": [
            "True\n",
            "False\n",
            "\n",
            "True\n",
            "True\n"
          ],
          "name": "stdout"
        }
      ]
    },
    {
      "cell_type": "markdown",
      "metadata": {
        "id": "lJUst4ojMwpN"
      },
      "source": [
        "###  `find()`"
      ]
    },
    {
      "cell_type": "code",
      "metadata": {
        "id": "DAT9APUY9hUn",
        "colab": {
          "base_uri": "https://localhost:8080/"
        },
        "outputId": "ca7fd51c-a553-4748-8470-6b1f3e2ce253"
      },
      "source": [
        "# find()\n",
        "print('hello'.find('l'))\n",
        "print('hello'.find('l', 3, 5))\n",
        "#      01234"
      ],
      "execution_count": null,
      "outputs": [
        {
          "output_type": "stream",
          "text": [
            "2\n",
            "3\n"
          ],
          "name": "stdout"
        }
      ]
    },
    {
      "cell_type": "markdown",
      "metadata": {
        "id": "Q8SZXBQCMyzf"
      },
      "source": [
        "### `lstrip()`, `rstrip()`, `strip()`"
      ]
    },
    {
      "cell_type": "code",
      "metadata": {
        "id": "UbEFD_OO90JP",
        "colab": {
          "base_uri": "https://localhost:8080/"
        },
        "outputId": "8947d1d7-8d22-4fea-9181-c15af04af779"
      },
      "source": [
        "# lstrip(), rstrip(), strip()\n",
        "def pr(s):\n",
        "    print('\"%s\"' % s)\n",
        "\n",
        "pr('    hello        '.lstrip())\n",
        "pr('***__   hello __*****  '.lstrip('*'))\n",
        "print()\n",
        "\n",
        "pr('    hello        '.rstrip())\n",
        "pr('***__   hello __*****  '.rstrip('*'))\n",
        "print()\n",
        "\n",
        "pr('    hello        '.strip())\n",
        "pr('***__   hello __*****  '.strip('*'))\n",
        "print()"
      ],
      "execution_count": null,
      "outputs": [
        {
          "output_type": "stream",
          "text": [
            "\"hello        \"\n",
            "\"__   hello __*****  \"\n",
            "\n",
            "\"    hello\"\n",
            "\"***__   hello __*****  \"\n",
            "\n",
            "\"hello\"\n",
            "\"__   hello __*****  \"\n",
            "\n"
          ],
          "name": "stdout"
        }
      ]
    },
    {
      "cell_type": "markdown",
      "metadata": {
        "id": "4kH_xqeGM94M"
      },
      "source": [
        "###  `join()`"
      ]
    },
    {
      "cell_type": "code",
      "metadata": {
        "id": "zcih8LYQ_Oj0",
        "colab": {
          "base_uri": "https://localhost:8080/"
        },
        "outputId": "2b6fa521-689a-4096-9b30-b36336677ca4"
      },
      "source": [
        "# join()\n",
        "wrdlst = ['hello', 'from', 'the', 'other', 'side']\n",
        "print('_'.join(wrdlst))\n",
        "\n",
        "wrdset = {'hello', 'from', 'the', 'other', 'side'}\n",
        "print('-'.join(wrdset))"
      ],
      "execution_count": null,
      "outputs": [
        {
          "output_type": "stream",
          "text": [
            "hello_from_the_other_side\n",
            "hello-other-the-from-side\n"
          ],
          "name": "stdout"
        }
      ]
    },
    {
      "cell_type": "markdown",
      "metadata": {
        "id": "E4abd0FENB1t"
      },
      "source": [
        "### `replace()`"
      ]
    },
    {
      "cell_type": "code",
      "metadata": {
        "id": "g3rnKa7gAVed",
        "colab": {
          "base_uri": "https://localhost:8080/"
        },
        "outputId": "a84c3ef6-5fef-4040-a29f-1d02dd693343"
      },
      "source": [
        "# replace()\n",
        "print('hello, long time no see'.replace('l', '*'))\n",
        "print('hello, long time no see'.replace('l', '*', 2))\n",
        "# only the 2 first ones are replaced "
      ],
      "execution_count": null,
      "outputs": [
        {
          "output_type": "stream",
          "text": [
            "he**o, *ong time no see\n",
            "he**o, long time no see\n"
          ],
          "name": "stdout"
        }
      ]
    },
    {
      "cell_type": "markdown",
      "metadata": {
        "id": "K8SAeB0wNEa8"
      },
      "source": [
        "###  `lower()`, `upper()`"
      ]
    },
    {
      "cell_type": "code",
      "metadata": {
        "id": "tcwBsCoIA2gE",
        "colab": {
          "base_uri": "https://localhost:8080/"
        },
        "outputId": "ff98cf8a-e535-41ce-b05e-aabc740a997b"
      },
      "source": [
        "# lower(), upper()\n",
        "print('hELlO'.lower())\n",
        "print('hELlO'.upper())"
      ],
      "execution_count": null,
      "outputs": [
        {
          "output_type": "stream",
          "text": [
            "hello\n",
            "HELLO\n"
          ],
          "name": "stdout"
        }
      ]
    },
    {
      "cell_type": "markdown",
      "metadata": {
        "id": "qsEuxEZLCNHj"
      },
      "source": [
        "# CHAPTER 5: LISTS, SETS, DICTIONARIES AND TUPLES"
      ]
    },
    {
      "cell_type": "markdown",
      "metadata": {
        "id": "gGjGsB40PhVr"
      },
      "source": [
        "## LISTS"
      ]
    },
    {
      "cell_type": "markdown",
      "metadata": {
        "id": "1o6LTYKJQSjA"
      },
      "source": [
        "### LIST EXAMPLE"
      ]
    },
    {
      "cell_type": "code",
      "metadata": {
        "id": "v0Yx1WyXClUj",
        "colab": {
          "base_uri": "https://localhost:8080/"
        },
        "outputId": "fdce2e2a-824e-4ecb-e899-bfa9c53e0b4b"
      },
      "source": [
        "# LIST EXAMPLE\n",
        "lst = ['a', 8, 'bc', 'd', [15, 6]]\n",
        "print(lst)"
      ],
      "execution_count": null,
      "outputs": [
        {
          "output_type": "stream",
          "text": [
            "['a', 8, 'bc', 'd', [15, 6]]\n"
          ],
          "name": "stdout"
        }
      ]
    },
    {
      "cell_type": "markdown",
      "metadata": {
        "id": "FT38HktlNSKM"
      },
      "source": [
        "###  LOOP A LIST"
      ]
    },
    {
      "cell_type": "code",
      "metadata": {
        "id": "AiQZQOVaC4Jb",
        "colab": {
          "base_uri": "https://localhost:8080/"
        },
        "outputId": "7080573a-bfba-4676-ef66-bed34f22faa3"
      },
      "source": [
        "# LIST LOOPS\n",
        "for ele in lst:\n",
        "    print(ele)"
      ],
      "execution_count": null,
      "outputs": [
        {
          "output_type": "stream",
          "text": [
            "a\n",
            "8\n",
            "bc\n",
            "d\n",
            "[15, 6]\n"
          ],
          "name": "stdout"
        }
      ]
    },
    {
      "cell_type": "markdown",
      "metadata": {
        "id": "I56drTesNYKL"
      },
      "source": [
        "### LISTS ARE MUTABLE"
      ]
    },
    {
      "cell_type": "code",
      "metadata": {
        "id": "jZHcyaHXDHpD",
        "colab": {
          "base_uri": "https://localhost:8080/"
        },
        "outputId": "45cc6633-2746-43ba-8180-450ea4211ee5"
      },
      "source": [
        "# LISTS ARE MUTABLE\n",
        "lst[0] = '^_^'\n",
        "print(lst)"
      ],
      "execution_count": null,
      "outputs": [
        {
          "output_type": "stream",
          "text": [
            "['^_^', 8, 'bc', 'd', [15, 6]]\n"
          ],
          "name": "stdout"
        }
      ]
    },
    {
      "cell_type": "markdown",
      "metadata": {
        "id": "A7qn3sA9NZts"
      },
      "source": [
        "### `len()` OF A LIST"
      ]
    },
    {
      "cell_type": "code",
      "metadata": {
        "id": "nYRT595sDsEj",
        "colab": {
          "base_uri": "https://localhost:8080/"
        },
        "outputId": "9aa339d1-fe03-426d-e25a-fe6d7057ab21"
      },
      "source": [
        "# len OF A LIST\n",
        "print(len(lst))\n",
        "print(lst.__len__())"
      ],
      "execution_count": null,
      "outputs": [
        {
          "output_type": "stream",
          "text": [
            "5\n",
            "5\n"
          ],
          "name": "stdout"
        }
      ]
    },
    {
      "cell_type": "markdown",
      "metadata": {
        "id": "HOChjEPuNbyl"
      },
      "source": [
        "### THE `range()` FUNCTION"
      ]
    },
    {
      "cell_type": "code",
      "metadata": {
        "id": "xcqhLyjiD-qb",
        "colab": {
          "base_uri": "https://localhost:8080/"
        },
        "outputId": "7751d5b7-8df7-4b96-fab5-b6bd41c84a7f"
      },
      "source": [
        "# THE range() FUNCTION\n",
        "print(*range(8))\n",
        "print(*range(3, 8))\n",
        "print(*range(3, 8, 3))\n",
        "print(*range(8, 3, -2))"
      ],
      "execution_count": null,
      "outputs": [
        {
          "output_type": "stream",
          "text": [
            "0 1 2 3 4 5 6 7\n",
            "3 4 5 6 7\n",
            "3 6\n",
            "8 6 4\n"
          ],
          "name": "stdout"
        }
      ]
    },
    {
      "cell_type": "markdown",
      "metadata": {
        "id": "NgrngArVNkk2"
      },
      "source": [
        "### CONCATENATING LISTS USING `+`"
      ]
    },
    {
      "cell_type": "code",
      "metadata": {
        "id": "fOEcXDmvEeaD",
        "colab": {
          "base_uri": "https://localhost:8080/"
        },
        "outputId": "5b20c169-31be-4193-f924-243cd9d46137"
      },
      "source": [
        "# CONCATENATING LISTS USING +\n",
        "print(lst)\n",
        "print(lst + [7, 3, 'h'])"
      ],
      "execution_count": null,
      "outputs": [
        {
          "output_type": "stream",
          "text": [
            "['^_^', 8, 'bc', 'd', [15, 6]]\n",
            "['^_^', 8, 'bc', 'd', [15, 6], 7, 3, 'h']\n"
          ],
          "name": "stdout"
        }
      ]
    },
    {
      "cell_type": "markdown",
      "metadata": {
        "id": "4dvZJmbdNl28"
      },
      "source": [
        "### LIST SLICING"
      ]
    },
    {
      "cell_type": "code",
      "metadata": {
        "id": "L_moJPfdE2IL",
        "colab": {
          "base_uri": "https://localhost:8080/"
        },
        "outputId": "de2f7673-f5f1-4002-e849-f236572b7f04"
      },
      "source": [
        "# LIST SLICING\n",
        "print(lst)\n",
        "print(lst[:3])\n",
        "print(lst[-2])"
      ],
      "execution_count": null,
      "outputs": [
        {
          "output_type": "stream",
          "text": [
            "['^_^', 8, 'bc', 'd', [15, 6]]\n",
            "['^_^', 8, 'bc']\n",
            "d\n"
          ],
          "name": "stdout"
        }
      ]
    },
    {
      "cell_type": "markdown",
      "metadata": {
        "id": "0ypPykMoNnpc"
      },
      "source": [
        "### LIST METHODS AND FUNCTIONS"
      ]
    },
    {
      "cell_type": "code",
      "metadata": {
        "id": "OouG2k7RFFYD",
        "colab": {
          "base_uri": "https://localhost:8080/"
        },
        "outputId": "b8f573ab-248f-46f5-bb8e-81df1900e089"
      },
      "source": [
        "# LIST METHODS AND FUNCTIONS\n",
        "for met in dir(lst)[34:]:\n",
        "    print(met)"
      ],
      "execution_count": null,
      "outputs": [
        {
          "output_type": "stream",
          "text": [
            "__subclasshook__\n",
            "append\n",
            "clear\n",
            "copy\n",
            "count\n",
            "extend\n",
            "index\n",
            "insert\n",
            "pop\n",
            "remove\n",
            "reverse\n",
            "sort\n"
          ],
          "name": "stdout"
        }
      ]
    },
    {
      "cell_type": "markdown",
      "metadata": {
        "id": "uTzKA4A6NrkW"
      },
      "source": [
        "#### `append()`"
      ]
    },
    {
      "cell_type": "code",
      "metadata": {
        "id": "1D1x5TVWGHTi",
        "colab": {
          "base_uri": "https://localhost:8080/"
        },
        "outputId": "1e84fc87-d6db-4628-d2d1-3e61cce9a101"
      },
      "source": [
        "# append()\n",
        "new_lst = lst[:]\n",
        "new_lst.append('appended string')\n",
        "print(new_lst)"
      ],
      "execution_count": null,
      "outputs": [
        {
          "output_type": "stream",
          "text": [
            "['^_^', 8, 'bc', 'd', [15, 6], 'appended string']\n"
          ],
          "name": "stdout"
        }
      ]
    },
    {
      "cell_type": "markdown",
      "metadata": {
        "id": "QnCkmGGeNuib"
      },
      "source": [
        "#### `in` OPERATOR"
      ]
    },
    {
      "cell_type": "code",
      "metadata": {
        "id": "ML29qhZcGzPS",
        "colab": {
          "base_uri": "https://localhost:8080/"
        },
        "outputId": "a15c1109-a1df-41a9-b6f4-433f4c035371"
      },
      "source": [
        "# in OPERATOR\n",
        "print(8 in lst)\n",
        "print(9 in lst)\n",
        "print('^_^' in lst)\n",
        "print('^_^' not in lst)"
      ],
      "execution_count": null,
      "outputs": [
        {
          "output_type": "stream",
          "text": [
            "True\n",
            "False\n",
            "True\n",
            "False\n"
          ],
          "name": "stdout"
        }
      ]
    },
    {
      "cell_type": "markdown",
      "metadata": {
        "id": "gCz2b4AuNw58"
      },
      "source": [
        "#### `max()`, `min()`, `sum()`"
      ]
    },
    {
      "cell_type": "code",
      "metadata": {
        "id": "4bt41FYgHIMJ",
        "colab": {
          "base_uri": "https://localhost:8080/"
        },
        "outputId": "4df87453-cc39-40a7-b4c0-cb892a524169"
      },
      "source": [
        "# max(), min(), sum()\n",
        "new_lst = [6, 69, 9]\n",
        "print(max(new_lst))\n",
        "print(min(new_lst))\n",
        "print(sum(new_lst))"
      ],
      "execution_count": null,
      "outputs": [
        {
          "output_type": "stream",
          "text": [
            "69\n",
            "6\n",
            "84\n"
          ],
          "name": "stdout"
        }
      ]
    },
    {
      "cell_type": "markdown",
      "metadata": {
        "id": "Zh9yp0DBN1Oi"
      },
      "source": [
        "#### `sort()`, `sorted()`"
      ]
    },
    {
      "cell_type": "code",
      "metadata": {
        "id": "TDK_f1WIHjQJ",
        "colab": {
          "base_uri": "https://localhost:8080/"
        },
        "outputId": "027f6326-ae4c-4ebf-ab4d-195afbfcdb9a"
      },
      "source": [
        "# sort(), sorted()\n",
        "new_lst = [6, 69, 9]\n",
        "new_lst = sorted(new_lst)\n",
        "print(new_lst)\n",
        "new_lst.sort(reverse = True, key = lambda x: x % 8)\n",
        "'''\n",
        "6 % 8 = 6\n",
        "69 % 8 = 5\n",
        "9 % 8 = 1\n",
        "'''\n",
        "print(new_lst)"
      ],
      "execution_count": null,
      "outputs": [
        {
          "output_type": "stream",
          "text": [
            "[6, 9, 69]\n",
            "[6, 69, 9]\n"
          ],
          "name": "stdout"
        }
      ]
    },
    {
      "cell_type": "markdown",
      "metadata": {
        "id": "EWM4qSr1N6rD"
      },
      "source": [
        "####  `del`, `pop()`, `remove()`"
      ]
    },
    {
      "cell_type": "code",
      "metadata": {
        "id": "ge_g_iLBIPLI",
        "colab": {
          "base_uri": "https://localhost:8080/"
        },
        "outputId": "a2dc994d-b532-49f6-a41a-280ce57fb0b2"
      },
      "source": [
        "# del, pop(), remove()\n",
        "new_lst = lst[:]\n",
        "print(new_lst)\n",
        "\n",
        "del new_lst[4]\n",
        "print(new_lst)\n",
        "\n",
        "new_lst.pop()\n",
        "print(new_lst)\n",
        "\n",
        "new_lst.remove('bc')\n",
        "print(new_lst)"
      ],
      "execution_count": null,
      "outputs": [
        {
          "output_type": "stream",
          "text": [
            "['^_^', 8, 'bc', 'd', [15, 6]]\n",
            "['^_^', 8, 'bc', 'd']\n",
            "['^_^', 8, 'bc']\n",
            "['^_^', 8]\n"
          ],
          "name": "stdout"
        }
      ]
    },
    {
      "cell_type": "markdown",
      "metadata": {
        "id": "Yaxt8fDxOAZD"
      },
      "source": [
        "#### `reverse()`"
      ]
    },
    {
      "cell_type": "code",
      "metadata": {
        "id": "23Z7G-N2I4VA",
        "colab": {
          "base_uri": "https://localhost:8080/"
        },
        "outputId": "8a5b0ca2-cb88-4135-9e8a-404619bd0e14"
      },
      "source": [
        "# reverse()\n",
        "new_lst = lst[:]\n",
        "print(new_lst)\n",
        "\n",
        "new_lst.reverse()\n",
        "print(new_lst)\n"
      ],
      "execution_count": null,
      "outputs": [
        {
          "output_type": "stream",
          "text": [
            "['^_^', 8, 'bc', 'd', [15, 6]]\n",
            "[[15, 6], 'd', 'bc', 8, '^_^']\n"
          ],
          "name": "stdout"
        }
      ]
    },
    {
      "cell_type": "markdown",
      "metadata": {
        "id": "OM4f6n4hODSr"
      },
      "source": [
        "###  LISTS AND STRINGS"
      ]
    },
    {
      "cell_type": "code",
      "metadata": {
        "id": "cwy8BSATOcGu",
        "colab": {
          "base_uri": "https://localhost:8080/"
        },
        "outputId": "e61126d3-ac16-41b4-9d9e-5c34487eef09"
      },
      "source": [
        "# LISTS AND STRINGS\n",
        "s = 'this one! is a string'\n",
        "print(list(s))\n",
        "print(s.split())\n",
        "print(s.split('!'))\n",
        "\n",
        "new_lst = ['hi', 'there', '?']\n",
        "print('-'.join(new_lst))"
      ],
      "execution_count": null,
      "outputs": [
        {
          "output_type": "stream",
          "text": [
            "['t', 'h', 'i', 's', ' ', 'o', 'n', 'e', '!', ' ', 'i', 's', ' ', 'a', ' ', 's', 't', 'r', 'i', 'n', 'g']\n",
            "['this', 'one!', 'is', 'a', 'string']\n",
            "['this one', ' is a string']\n",
            "hi-there-?\n"
          ],
          "name": "stdout"
        }
      ]
    },
    {
      "cell_type": "markdown",
      "metadata": {
        "id": "wsjBbqllOHKj"
      },
      "source": [
        "###  ALIASES"
      ]
    },
    {
      "cell_type": "code",
      "metadata": {
        "id": "kR_K48-VOpWe",
        "colab": {
          "base_uri": "https://localhost:8080/"
        },
        "outputId": "20e0e5e5-2d70-4784-862f-7e629a13cc5e"
      },
      "source": [
        "# ALIASES\n",
        "lst_a = [1, 3, 4]\n",
        "lst_b = lst_a\n",
        "\n",
        "lst_b.append('?')\n",
        "print(lst_a)"
      ],
      "execution_count": null,
      "outputs": [
        {
          "output_type": "stream",
          "text": [
            "[1, 3, 4, '?']\n"
          ],
          "name": "stdout"
        }
      ]
    },
    {
      "cell_type": "markdown",
      "metadata": {
        "id": "9WpVgFR-OI57"
      },
      "source": [
        "###  MUTATION AND ITERATION"
      ]
    },
    {
      "cell_type": "code",
      "metadata": {
        "id": "46dhTpNWQP7-",
        "colab": {
          "base_uri": "https://localhost:8080/"
        },
        "outputId": "6eaf1715-66fb-4f36-ef1e-f1f96f9a0351"
      },
      "source": [
        "# MUTATION AND ITERATION\n",
        "lst_a = [1, 3, 4]\n",
        "lst_b = [4, 3, 9]\n",
        "# trying to remove values in lst_a which are already in lst_b \n",
        "for num in lst_a:\n",
        "    if num in lst_b:\n",
        "        lst_a.remove(num)\n",
        "print(lst_a)\n",
        "# avoid mutating the list while iterating over it"
      ],
      "execution_count": null,
      "outputs": [
        {
          "output_type": "stream",
          "text": [
            "[1, 4]\n"
          ],
          "name": "stdout"
        }
      ]
    },
    {
      "cell_type": "markdown",
      "metadata": {
        "id": "LYLpEEl1OLFj"
      },
      "source": [
        "###  LIST ARGUMENTS"
      ]
    },
    {
      "cell_type": "code",
      "metadata": {
        "id": "oYIXTvd6Rqe9",
        "colab": {
          "base_uri": "https://localhost:8080/"
        },
        "outputId": "02665b34-5e53-46b7-f6c1-ec2b5db8cdee"
      },
      "source": [
        "# LIST ARGUMENTS\n",
        "def delete_last(a_lst):\n",
        "    del a_lst[-1]\n",
        "    # this function mutates the global list\n",
        "\n",
        "def wrong_delete_last(a_lst):\n",
        "    a_lst = a_lst[:-1]\n",
        "    print('List in wrong one:', a_lst)\n",
        "    # this one doesn't, a_lst now becomes a local variable\n",
        "\n",
        "new_lst = [1, 3, 6, 9]\n",
        "delete_last(new_lst)\n",
        "print(new_lst)\n",
        "\n",
        "new_lst = [1, 3, 6, 9]\n",
        "wrong_delete_last(new_lst)\n",
        "print(new_lst)"
      ],
      "execution_count": null,
      "outputs": [
        {
          "output_type": "stream",
          "text": [
            "[1, 3, 6]\n",
            "List in wrong one: [1, 3, 6]\n",
            "[1, 3, 6, 9]\n"
          ],
          "name": "stdout"
        }
      ]
    },
    {
      "cell_type": "markdown",
      "metadata": {
        "id": "FSkufUenS9Hm"
      },
      "source": [
        "###  MapReduce AND LIST COMPREHENSION"
      ]
    },
    {
      "cell_type": "markdown",
      "metadata": {
        "id": "b3S9oygtOOoz"
      },
      "source": [
        "####  `map()`"
      ]
    },
    {
      "cell_type": "code",
      "metadata": {
        "id": "Qi1yCsNrTLpl",
        "colab": {
          "base_uri": "https://localhost:8080/"
        },
        "outputId": "1e15bf1d-9061-4978-8c12-738f560e8567"
      },
      "source": [
        "# map()\n",
        "new_lst = [1, 3, 6, 8, 9, 10]\n",
        "print(list(map(lambda x: x + 3, new_lst)))"
      ],
      "execution_count": null,
      "outputs": [
        {
          "output_type": "stream",
          "text": [
            "[4, 6, 9, 11, 12, 13]\n"
          ],
          "name": "stdout"
        }
      ]
    },
    {
      "cell_type": "markdown",
      "metadata": {
        "id": "VLWowtOOORbb"
      },
      "source": [
        "####  `reduce()`"
      ]
    },
    {
      "cell_type": "code",
      "metadata": {
        "id": "wJpahO3zT6jM",
        "colab": {
          "base_uri": "https://localhost:8080/"
        },
        "outputId": "34271cb8-2267-42ce-83f7-805f6b3abad9"
      },
      "source": [
        "# reduce()\n",
        "from functools import reduce\n",
        "new_lst = [1, 3, 6, 1]\n",
        "print(reduce(lambda x, y: x + y, new_lst))\n",
        "print(reduce(lambda x, y: x + y, new_lst, 3000))\n",
        "#                                         initializer"
      ],
      "execution_count": null,
      "outputs": [
        {
          "output_type": "stream",
          "text": [
            "11\n",
            "3011\n"
          ],
          "name": "stdout"
        }
      ]
    },
    {
      "cell_type": "markdown",
      "metadata": {
        "id": "sfNplQ-POVmn"
      },
      "source": [
        "####  MapReduce APPLICATION: COUNT NUMBER OF A WORD"
      ]
    },
    {
      "cell_type": "code",
      "metadata": {
        "id": "E7pLf0-SUoh8",
        "colab": {
          "base_uri": "https://localhost:8080/"
        },
        "outputId": "98ba4067-d7f1-4525-b2b4-e6af15e60bc1"
      },
      "source": [
        "# MapReduce APPLICATION: COUNT NUMBER OF A WORD\n",
        "# count the number of the word \"the\"/\"The\" in a sentence\n",
        "text = 'The word \"deep\" in \"deep learning\" refers to the number of layers through which the data is transformed. More precisely, deep learning systems have a substantial credit assignment path (CAP) depth. The CAP is the chain of transformations from input to output. CAPs describe potentially causal connections between input and output. For a feedforward neural network, the depth of the CAPs is that of the network and is the number of hidden layers plus one (as the output layer is also parameterized). For recurrent neural networks, in which a signal may propagate through a layer more than once, the CAP depth is potentially unlimited.[2] No universally agreed-upon threshold of depth divides shallow learning from deep learning, but most researchers agree that deep learning involves CAP depth higher than 2. CAP of depth 2 has been shown to be a universal approximator in the sense that it can emulate any function.[15] Beyond that, more layers do not add to the function approximator ability of the network. Deep models (CAP > 2) are able to extract better features than shallow models and hence, extra layers help in learning the features effectively.'\n",
        "ifThe = lambda word: 1 if word in ['the', 'The'] else 0\n",
        "sumof2 = lambda x, y: x + y\n",
        "print(list(map(ifThe, text.split())))\n",
        "print(reduce(sumof2, list(map(ifThe, text.split()))))"
      ],
      "execution_count": null,
      "outputs": [
        {
          "output_type": "stream",
          "text": [
            "[1, 0, 0, 0, 0, 0, 0, 0, 1, 0, 0, 0, 0, 0, 1, 0, 0, 0, 0, 0, 0, 0, 0, 0, 0, 0, 0, 0, 0, 0, 0, 1, 0, 0, 1, 0, 0, 0, 0, 0, 0, 0, 0, 0, 0, 0, 0, 0, 0, 0, 0, 0, 0, 0, 0, 0, 1, 0, 0, 1, 0, 0, 0, 0, 1, 0, 0, 0, 1, 0, 0, 0, 0, 0, 0, 0, 1, 0, 0, 0, 0, 0, 0, 0, 0, 0, 0, 0, 0, 0, 0, 0, 0, 0, 0, 0, 0, 0, 1, 0, 0, 0, 0, 0, 0, 0, 0, 0, 0, 0, 0, 0, 0, 0, 0, 0, 0, 0, 0, 0, 0, 0, 0, 0, 0, 0, 0, 0, 0, 0, 0, 0, 0, 0, 0, 0, 0, 0, 0, 0, 0, 0, 1, 0, 0, 0, 0, 0, 0, 0, 0, 0, 0, 0, 0, 0, 0, 0, 1, 0, 0, 0, 0, 1, 0, 0, 0, 0, 0, 0, 0, 0, 0, 0, 0, 0, 0, 0, 0, 0, 0, 0, 0, 0, 0, 0, 1, 0, 0]\n",
            "15\n"
          ],
          "name": "stdout"
        }
      ]
    },
    {
      "cell_type": "markdown",
      "metadata": {
        "id": "00fWxiSKfYsa"
      },
      "source": [
        "#### LIST COMPREHENSION"
      ]
    },
    {
      "cell_type": "code",
      "metadata": {
        "id": "8kXXAbPxW5iH",
        "colab": {
          "base_uri": "https://localhost:8080/"
        },
        "outputId": "8ead9808-9f96-4785-b45d-3af2ddfe0610"
      },
      "source": [
        "# LIST COMPREHENSION\n",
        "print([c for c in 'hello there'], '\\n')\n",
        "\n",
        "cnt_lst = [ word for word in text.split() if word in ['the', 'The'] ]\n",
        "print(cnt_lst)\n",
        "print(len(cnt_lst))\n",
        "\n",
        "cnt_lst_2 = [ 1 if word in ['the', 'The'] else 0 for word in text.split() ]\n",
        "print(cnt_lst_2)"
      ],
      "execution_count": null,
      "outputs": [
        {
          "output_type": "stream",
          "text": [
            "['h', 'e', 'l', 'l', 'o', ' ', 't', 'h', 'e', 'r', 'e'] \n",
            "\n",
            "['The', 'the', 'the', 'The', 'the', 'the', 'the', 'the', 'the', 'the', 'the', 'the', 'the', 'the', 'the']\n",
            "15\n",
            "[1, 0, 0, 0, 0, 0, 0, 0, 1, 0, 0, 0, 0, 0, 1, 0, 0, 0, 0, 0, 0, 0, 0, 0, 0, 0, 0, 0, 0, 0, 0, 1, 0, 0, 1, 0, 0, 0, 0, 0, 0, 0, 0, 0, 0, 0, 0, 0, 0, 0, 0, 0, 0, 0, 0, 0, 1, 0, 0, 1, 0, 0, 0, 0, 1, 0, 0, 0, 1, 0, 0, 0, 0, 0, 0, 0, 1, 0, 0, 0, 0, 0, 0, 0, 0, 0, 0, 0, 0, 0, 0, 0, 0, 0, 0, 0, 0, 0, 1, 0, 0, 0, 0, 0, 0, 0, 0, 0, 0, 0, 0, 0, 0, 0, 0, 0, 0, 0, 0, 0, 0, 0, 0, 0, 0, 0, 0, 0, 0, 0, 0, 0, 0, 0, 0, 0, 0, 0, 0, 0, 0, 0, 1, 0, 0, 0, 0, 0, 0, 0, 0, 0, 0, 0, 0, 0, 0, 0, 1, 0, 0, 0, 0, 1, 0, 0, 0, 0, 0, 0, 0, 0, 0, 0, 0, 0, 0, 0, 0, 0, 0, 0, 0, 0, 0, 0, 1, 0, 0]\n"
          ],
          "name": "stdout"
        }
      ]
    },
    {
      "cell_type": "markdown",
      "metadata": {
        "id": "M0qqA1FXbDom"
      },
      "source": [
        "##  SETS"
      ]
    },
    {
      "cell_type": "markdown",
      "metadata": {
        "id": "_Cjyv5eKOekj"
      },
      "source": [
        "###  SET EXAMPLES"
      ]
    },
    {
      "cell_type": "code",
      "metadata": {
        "id": "OXx5ZzCAbLWx",
        "colab": {
          "base_uri": "https://localhost:8080/"
        },
        "outputId": "9c5e1b9f-0fc2-4885-f390-7f9d2c8dfa51"
      },
      "source": [
        "# SET EXAMPLES\n",
        "print({3, 4, 8})\n",
        "print(set('hello'))"
      ],
      "execution_count": null,
      "outputs": [
        {
          "output_type": "stream",
          "text": [
            "{8, 3, 4}\n",
            "{'l', 'h', 'o', 'e'}\n"
          ],
          "name": "stdout"
        }
      ]
    },
    {
      "cell_type": "markdown",
      "metadata": {
        "id": "ES_WNaXEOgNT"
      },
      "source": [
        "###  SET OPERATIONS"
      ]
    },
    {
      "cell_type": "code",
      "metadata": {
        "id": "jNmqPjt4bdW5",
        "colab": {
          "base_uri": "https://localhost:8080/"
        },
        "outputId": "f8412719-5091-4abe-9ebb-ddfdebaf83a3"
      },
      "source": [
        "# SET OPERATIONS\n",
        "A = {0, 1, 2, 3}\n",
        "B = {2, 3, 4, 5}\n",
        "print(A - B) # in A, not in B\n",
        "print(A | B) # in any of A or B (bitwise or)\n",
        "print(A & B) # in both A and B (bitwise and)\n",
        "print(A ^ B) # in A or B, not both (bitwise xor)"
      ],
      "execution_count": null,
      "outputs": [
        {
          "output_type": "stream",
          "text": [
            "{0, 1}\n",
            "{0, 1, 2, 3, 4, 5}\n",
            "{2, 3}\n",
            "{0, 1, 4, 5}\n"
          ],
          "name": "stdout"
        }
      ]
    },
    {
      "cell_type": "markdown",
      "metadata": {
        "id": "sfkOnQ5bOhfr"
      },
      "source": [
        "###  SET COMPREHENSION"
      ]
    },
    {
      "cell_type": "code",
      "metadata": {
        "id": "-6WYC5jicoob",
        "colab": {
          "base_uri": "https://localhost:8080/"
        },
        "outputId": "a5e66afb-94b5-4855-cb8f-9c9fb56a7aa3"
      },
      "source": [
        "# SET COMPREHENSION\n",
        "# set of all end-of-sentence words\n",
        "print( {word for word in text.split() if word.endswith('.')} )"
      ],
      "execution_count": null,
      "outputs": [
        {
          "output_type": "stream",
          "text": [
            "{'depth.', 'network.', 'output.', 'parameterized).', '2.', 'transformed.', 'effectively.'}\n"
          ],
          "name": "stdout"
        }
      ]
    },
    {
      "cell_type": "markdown",
      "metadata": {
        "id": "if_6BKRJdwkS"
      },
      "source": [
        "##  DICTIONARIES\n"
      ]
    },
    {
      "cell_type": "markdown",
      "metadata": {
        "id": "KGmW8aAxOjE1"
      },
      "source": [
        "###  DICTIONARY EXAMPLES"
      ]
    },
    {
      "cell_type": "code",
      "metadata": {
        "id": "WboP3NCjdzIn",
        "colab": {
          "base_uri": "https://localhost:8080/"
        },
        "outputId": "a281bb7e-6a2a-4372-cb80-c5bbd80859ec"
      },
      "source": [
        "# DICTIONARY EXAMPLES\n",
        "d = {8: 'b', '?': 'a'}\n",
        "print(d)\n",
        "print(d[8])\n",
        "print(d['?'])\n",
        "d['!?'] = 'mnpq'\n",
        "print(d)"
      ],
      "execution_count": null,
      "outputs": [
        {
          "output_type": "stream",
          "text": [
            "{8: 'b', '?': 'a'}\n",
            "b\n",
            "a\n",
            "{8: 'b', '?': 'a', '!?': 'mnpq'}\n"
          ],
          "name": "stdout"
        }
      ]
    },
    {
      "cell_type": "markdown",
      "metadata": {
        "id": "gPTQ2UWVOk97"
      },
      "source": [
        "###  in OPERATOR"
      ]
    },
    {
      "cell_type": "code",
      "metadata": {
        "id": "vQyRrL4aeK_v",
        "colab": {
          "base_uri": "https://localhost:8080/"
        },
        "outputId": "8061590f-9328-4e12-a05a-021ad6172802"
      },
      "source": [
        "# in OPERATOR\n",
        "d = {8: 'b', '?': 'a'}\n",
        "print(d)\n",
        "print('?' in d)\n",
        "print('b' in d)"
      ],
      "execution_count": null,
      "outputs": [
        {
          "output_type": "stream",
          "text": [
            "{8: 'b', '?': 'a'}\n",
            "True\n",
            "False\n"
          ],
          "name": "stdout"
        }
      ]
    },
    {
      "cell_type": "markdown",
      "metadata": {
        "id": "GMSREpmiOnTz"
      },
      "source": [
        "### `get()` METHOD"
      ]
    },
    {
      "cell_type": "code",
      "metadata": {
        "id": "gIElw8BFfWSQ",
        "colab": {
          "base_uri": "https://localhost:8080/"
        },
        "outputId": "1ba6851d-1f45-4acb-c58a-959fef21e7c0"
      },
      "source": [
        "# get() METHOD\n",
        "d = {8: 'b', '?': 'a'}\n",
        "print(d)\n",
        "print(d.get(8))\n",
        "print(d.get('a'))\n",
        "print(d.get('m', 5)) # not equivalent to d['m'] = 5\n",
        "print(d)"
      ],
      "execution_count": null,
      "outputs": [
        {
          "output_type": "stream",
          "text": [
            "{8: 'b', '?': 'a'}\n",
            "b\n",
            "None\n",
            "5\n",
            "{8: 'b', '?': 'a'}\n"
          ],
          "name": "stdout"
        }
      ]
    },
    {
      "cell_type": "markdown",
      "metadata": {
        "id": "ewEdxWmKOqTa"
      },
      "source": [
        "###  APPLICATION: COUNTING WORDS"
      ]
    },
    {
      "cell_type": "code",
      "metadata": {
        "id": "5KBd2kubfpuv",
        "colab": {
          "base_uri": "https://localhost:8080/"
        },
        "outputId": "982cc7d3-8cb2-4130-f1b3-6240459991c1"
      },
      "source": [
        "# APPLICATION: COUNTING WORDS\n",
        "counted = dict()\n",
        "for word in text.split():\n",
        "    counted[word] = counted.get(word, 0) + 1\n",
        "print(counted)"
      ],
      "execution_count": null,
      "outputs": [
        {
          "output_type": "stream",
          "text": [
            "{'The': 2, 'word': 1, '\"deep\"': 1, 'in': 4, '\"deep': 1, 'learning\"': 1, 'refers': 1, 'to': 5, 'the': 13, 'number': 2, 'of': 8, 'layers': 4, 'through': 2, 'which': 2, 'data': 1, 'is': 6, 'transformed.': 1, 'More': 1, 'precisely,': 1, 'deep': 3, 'learning': 4, 'systems': 1, 'have': 1, 'a': 5, 'substantial': 1, 'credit': 1, 'assignment': 1, 'path': 1, '(CAP)': 1, 'depth.': 1, 'CAP': 4, 'chain': 1, 'transformations': 1, 'from': 2, 'input': 2, 'output.': 2, 'CAPs': 2, 'describe': 1, 'potentially': 2, 'causal': 1, 'connections': 1, 'between': 1, 'and': 3, 'For': 2, 'feedforward': 1, 'neural': 2, 'network,': 1, 'depth': 5, 'that': 3, 'network': 1, 'hidden': 1, 'plus': 1, 'one': 1, '(as': 1, 'output': 1, 'layer': 2, 'also': 1, 'parameterized).': 1, 'recurrent': 1, 'networks,': 1, 'signal': 1, 'may': 1, 'propagate': 1, 'more': 2, 'than': 3, 'once,': 1, 'unlimited.[2]': 1, 'No': 1, 'universally': 1, 'agreed-upon': 1, 'threshold': 1, 'divides': 1, 'shallow': 2, 'learning,': 1, 'but': 1, 'most': 1, 'researchers': 1, 'agree': 1, 'involves': 1, 'higher': 1, '2.': 1, '2': 1, 'has': 1, 'been': 1, 'shown': 1, 'be': 1, 'universal': 1, 'approximator': 2, 'sense': 1, 'it': 1, 'can': 1, 'emulate': 1, 'any': 1, 'function.[15]': 1, 'Beyond': 1, 'that,': 1, 'do': 1, 'not': 1, 'add': 1, 'function': 1, 'ability': 1, 'network.': 1, 'Deep': 1, 'models': 2, '(CAP': 1, '>': 1, '2)': 1, 'are': 1, 'able': 1, 'extract': 1, 'better': 1, 'features': 2, 'hence,': 1, 'extra': 1, 'help': 1, 'effectively.': 1}\n"
          ],
          "name": "stdout"
        }
      ]
    },
    {
      "cell_type": "markdown",
      "metadata": {
        "id": "n6zrl00-Os5J"
      },
      "source": [
        "###  LOOP OVER A DICTIONARY"
      ]
    },
    {
      "cell_type": "code",
      "metadata": {
        "id": "9crCG0g1hKq-",
        "colab": {
          "base_uri": "https://localhost:8080/"
        },
        "outputId": "f7fb49d5-307a-4a45-9c36-5aee1baaeda1"
      },
      "source": [
        "# LOOP OVER A DICTIONARY\n",
        "d = {8: 'b', '?': 'a', '!': 'b', 10: 15}\n",
        "for key in d:\n",
        "    print(key, d[key])"
      ],
      "execution_count": null,
      "outputs": [
        {
          "output_type": "stream",
          "text": [
            "8 b\n",
            "? a\n",
            "! b\n",
            "10 15\n"
          ],
          "name": "stdout"
        }
      ]
    },
    {
      "cell_type": "markdown",
      "metadata": {
        "id": "qsMXZyPhOxKC"
      },
      "source": [
        "###  LISTS OF KEYS AND VALUES"
      ]
    },
    {
      "cell_type": "code",
      "metadata": {
        "id": "Ntj76QvDh699",
        "colab": {
          "base_uri": "https://localhost:8080/"
        },
        "outputId": "0dda04cb-639f-4bc8-cfb7-6717d948837c"
      },
      "source": [
        "# LISTS OF KEYS AND VALUES\n",
        "print(list(d.keys()))\n",
        "print(list(d.values()))\n",
        "print(list(d.items()))"
      ],
      "execution_count": null,
      "outputs": [
        {
          "output_type": "stream",
          "text": [
            "[8, '?', '!', 10]\n",
            "['b', 'a', 'b', 15]\n",
            "[(8, 'b'), ('?', 'a'), ('!', 'b'), (10, 15)]\n"
          ],
          "name": "stdout"
        }
      ]
    },
    {
      "cell_type": "markdown",
      "metadata": {
        "id": "CDtb1NyJOy9i"
      },
      "source": [
        "### TWO ITERATION VARIABLES"
      ]
    },
    {
      "cell_type": "code",
      "metadata": {
        "id": "OODrc3XGiYOI",
        "colab": {
          "base_uri": "https://localhost:8080/"
        },
        "outputId": "82c84365-088a-4273-cb72-e89114246807"
      },
      "source": [
        "# TWO ITERATION VARIABLES\n",
        "for key, value in d.items():\n",
        "    print(key, value)"
      ],
      "execution_count": null,
      "outputs": [
        {
          "output_type": "stream",
          "text": [
            "8 b\n",
            "? a\n",
            "! b\n",
            "10 15\n"
          ],
          "name": "stdout"
        }
      ]
    },
    {
      "cell_type": "markdown",
      "metadata": {
        "id": "1jf75LBiO0YU"
      },
      "source": [
        "### DICTIONARY COMPREHENSION"
      ]
    },
    {
      "cell_type": "code",
      "metadata": {
        "id": "Qfq5PNlXin--",
        "colab": {
          "base_uri": "https://localhost:8080/"
        },
        "outputId": "81601e99-7d64-48ff-af2e-2ebc380807b1"
      },
      "source": [
        "# DICTIONARY COMPREHENSION\n",
        "print({x: x * 8 for x in range(2, 8)})"
      ],
      "execution_count": null,
      "outputs": [
        {
          "output_type": "stream",
          "text": [
            "{2: 16, 3: 24, 4: 32, 5: 40, 6: 48, 7: 56}\n"
          ],
          "name": "stdout"
        }
      ]
    },
    {
      "cell_type": "markdown",
      "metadata": {
        "id": "DpXLEMaOO19W"
      },
      "source": [
        "### MEMOIZED RECURSION: FIBONACCI EXAMPLE"
      ]
    },
    {
      "cell_type": "code",
      "metadata": {
        "id": "yvWyYhGWi-jN",
        "colab": {
          "base_uri": "https://localhost:8080/"
        },
        "outputId": "bbca74e9-11b1-4df8-aa74-4042e43f968d"
      },
      "source": [
        "# MEMOIZED RECURSION: FIBONACCI EXAMPLE\n",
        "res = {0: 0, 1: 1}\n",
        "def fib(n):\n",
        "    if n in res:\n",
        "        return res[n]\n",
        "    res[n] = fib(n - 1) + fib(n - 2)\n",
        "    return res[n]\n",
        "print(fib(14))"
      ],
      "execution_count": null,
      "outputs": [
        {
          "output_type": "stream",
          "text": [
            "377\n"
          ],
          "name": "stdout"
        }
      ]
    },
    {
      "cell_type": "markdown",
      "metadata": {
        "id": "smBc4ScQO7Jj"
      },
      "source": [
        "####  MEMOIZED RECURSION: LONGEST INCREASING SUBSEQUENCE EXAMPLE"
      ]
    },
    {
      "cell_type": "code",
      "metadata": {
        "id": "xhYDWDLdkRdl",
        "colab": {
          "base_uri": "https://localhost:8080/"
        },
        "outputId": "478f891b-6931-4327-b77d-864d87a6dab9"
      },
      "source": [
        "# MEMOIZED RECURSION: LONGEST INCREASING SUBSEQUENCE EXAMPLE\n",
        "from random import randint\n",
        "num_list = [randint(0, 100) for i in range(15)]\n",
        " \n",
        "res = {0: 1}\n",
        "def lis_including(i):\n",
        "    if i in res:\n",
        "        return res[i]\n",
        "    max_lis = 1\n",
        "    for j in range(i):\n",
        "        if num_list[j] < num_list[i]:\n",
        "            max_lis = max(max_lis, 1 + lis_including(j))\n",
        "    res[i] = max_lis\n",
        "    return max_lis\n",
        " \n",
        "print('  i   num_list[i]    lis_including(i)')\n",
        "for i in range(15):\n",
        "    print('%3i%13i%20i' % (i, num_list[i], lis_including(i)))\n",
        "print('Result =', max([lis_including(i) for i in range(15)]))"
      ],
      "execution_count": null,
      "outputs": [
        {
          "output_type": "stream",
          "text": [
            "  i   num_list[i]    lis_including(i)\n",
            "  0           78                   1\n",
            "  1           39                   1\n",
            "  2           30                   1\n",
            "  3           98                   2\n",
            "  4           57                   2\n",
            "  5           81                   3\n",
            "  6           72                   3\n",
            "  7           29                   1\n",
            "  8           48                   2\n",
            "  9           34                   2\n",
            " 10           11                   1\n",
            " 11            8                   1\n",
            " 12           80                   4\n",
            " 13           70                   3\n",
            " 14           10                   2\n",
            "Result = 4\n"
          ],
          "name": "stdout"
        }
      ]
    },
    {
      "cell_type": "markdown",
      "metadata": {
        "id": "Vcz1ReWNpEDP"
      },
      "source": [
        "##  TUPLES"
      ]
    },
    {
      "cell_type": "markdown",
      "metadata": {
        "id": "UlXQaHPFPCBb"
      },
      "source": [
        "###  TUPLE EXAMPLES"
      ]
    },
    {
      "cell_type": "code",
      "metadata": {
        "id": "Ssb12F_GpGD7",
        "colab": {
          "base_uri": "https://localhost:8080/"
        },
        "outputId": "9bd3ea33-9633-4702-eb40-17449467c8eb"
      },
      "source": [
        "# TUPLE EXAMPLES\n",
        "print((3, 5, 7))\n",
        "print((1, ))\n",
        "# Warning: Tuple of 1 element must have a comma\n",
        "print((1))"
      ],
      "execution_count": null,
      "outputs": [
        {
          "output_type": "stream",
          "text": [
            "(3, 5, 7)\n",
            "(1,)\n",
            "1\n"
          ],
          "name": "stdout"
        }
      ]
    },
    {
      "cell_type": "markdown",
      "metadata": {
        "id": "9QFunwFoPFek"
      },
      "source": [
        "###  TUPLES ARE IMMUTABLE"
      ]
    },
    {
      "cell_type": "code",
      "metadata": {
        "id": "f1R2iDE8pYTr",
        "colab": {
          "base_uri": "https://localhost:8080/"
        },
        "outputId": "49a33070-37c1-4d2d-b514-f660281247f5"
      },
      "source": [
        "# TUPLES ARE IMMUTABLE\n",
        "tup = (3, 4, 7)\n",
        "# tup[0] = 0\n",
        "# TypeError: 'tuple' object does not support item assignment\n",
        "print(tup)"
      ],
      "execution_count": null,
      "outputs": [
        {
          "output_type": "stream",
          "text": [
            "(3, 4, 7)\n"
          ],
          "name": "stdout"
        }
      ]
    },
    {
      "cell_type": "markdown",
      "metadata": {
        "id": "ga6bR8tdPHFT"
      },
      "source": [
        "###  TUPLE DIRECTORIES"
      ]
    },
    {
      "cell_type": "code",
      "metadata": {
        "id": "K-X3jW_Epur-",
        "colab": {
          "base_uri": "https://localhost:8080/"
        },
        "outputId": "cd87182c-decc-470f-8066-0d28f66effa4"
      },
      "source": [
        "# TUPLE DIRECTORIES\n",
        "print(dir(tuple)[-3:])"
      ],
      "execution_count": null,
      "outputs": [
        {
          "output_type": "stream",
          "text": [
            "['__subclasshook__', 'count', 'index']\n"
          ],
          "name": "stdout"
        }
      ]
    },
    {
      "cell_type": "markdown",
      "metadata": {
        "id": "EfaL_HwbPIVr"
      },
      "source": [
        "###  TUPLES AND ASSIGNMENT"
      ]
    },
    {
      "cell_type": "code",
      "metadata": {
        "id": "P2wH8yi2qHDi",
        "colab": {
          "base_uri": "https://localhost:8080/"
        },
        "outputId": "0651ebb3-8a76-4d28-9d0b-0e1ce918f1c5"
      },
      "source": [
        "# TUPLES AND ASSIGNMENT\n",
        "a, b = (3, 5)\n",
        "print('a = %i\\nb = %i' % (a, b))\n",
        "x, y = 6, 9\n",
        "print('x = %i\\ny = %i' % (x, y))"
      ],
      "execution_count": null,
      "outputs": [
        {
          "output_type": "stream",
          "text": [
            "a = 3\n",
            "b = 5\n",
            "x = 6\n",
            "y = 9\n"
          ],
          "name": "stdout"
        }
      ]
    },
    {
      "cell_type": "markdown",
      "metadata": {
        "id": "7mt2OP-FPJWs"
      },
      "source": [
        "###  TUPLE AS RETURN VALUES"
      ]
    },
    {
      "cell_type": "code",
      "metadata": {
        "id": "jU5ydGElquiF",
        "colab": {
          "base_uri": "https://localhost:8080/"
        },
        "outputId": "cf31f4d1-649d-4694-fac4-ef1c64536195"
      },
      "source": [
        "# TUPLE AS RETURN VALUES\n",
        "print(divmod(100, 32))\n",
        "\n",
        "def max_and_index(lst):\n",
        "    index = 0\n",
        "    for i in range(1, 15):\n",
        "        if lst[i] > lst[index]:\n",
        "            index = i\n",
        "    return lst[index], index\n",
        "\n",
        "\n",
        "from random import randint\n",
        "num_list = [randint(0, 100) for i in range(15)]\n",
        "print(num_list)\n",
        "print(max_and_index(num_list))"
      ],
      "execution_count": null,
      "outputs": [
        {
          "output_type": "stream",
          "text": [
            "(3, 4)\n",
            "[44, 95, 58, 48, 77, 69, 44, 86, 13, 63, 63, 40, 95, 54, 73]\n",
            "(95, 1)\n"
          ],
          "name": "stdout"
        }
      ]
    },
    {
      "cell_type": "markdown",
      "metadata": {
        "id": "WPJvpRpvPKof"
      },
      "source": [
        "###  LISTS AND TUPLES"
      ]
    },
    {
      "cell_type": "code",
      "metadata": {
        "id": "YhKOF7UjsnNJ",
        "colab": {
          "base_uri": "https://localhost:8080/"
        },
        "outputId": "11ded03f-89b1-4e8f-eef2-d7b83e25ff52"
      },
      "source": [
        "# LISTS AND TUPLES\n",
        "z = zip('abcde', [3, 4, 5, 6, 7, 8, 9, 10])\n",
        "print(z)\n",
        "z = zip('abcde', [3, 4, 5, 6, 7, 8, 9, 10])\n",
        "print(list(z))\n",
        "z = zip('abcde', [3, 4, 5, 6, 7, 8, 9, 10])\n",
        "for pair in z:\n",
        "    print(pair)\n"
      ],
      "execution_count": null,
      "outputs": [
        {
          "output_type": "stream",
          "text": [
            "<zip object at 0x7ff92474b3c0>\n",
            "[('a', 3), ('b', 4), ('c', 5), ('d', 6), ('e', 7)]\n",
            "('a', 3)\n",
            "('b', 4)\n",
            "('c', 5)\n",
            "('d', 6)\n",
            "('e', 7)\n"
          ],
          "name": "stdout"
        }
      ]
    },
    {
      "cell_type": "markdown",
      "metadata": {
        "id": "D-6uh_7nPMA3"
      },
      "source": [
        "####  `enumerate()`"
      ]
    },
    {
      "cell_type": "code",
      "metadata": {
        "id": "rX3yV_N8t1qI",
        "colab": {
          "base_uri": "https://localhost:8080/"
        },
        "outputId": "6ea5874c-cde6-4ddc-eaf3-f30bb7cae1b6"
      },
      "source": [
        "# enumerate()\n",
        "for ind, c in enumerate('cdef'):\n",
        "    print(ind, c)"
      ],
      "execution_count": null,
      "outputs": [
        {
          "output_type": "stream",
          "text": [
            "0 c\n",
            "1 d\n",
            "2 e\n",
            "3 f\n"
          ],
          "name": "stdout"
        }
      ]
    },
    {
      "cell_type": "markdown",
      "metadata": {
        "id": "PCN_XczaPSXM"
      },
      "source": [
        "### DICTIONARIES AND TUPLES"
      ]
    },
    {
      "cell_type": "code",
      "metadata": {
        "id": "UGd9eln_uRTZ",
        "colab": {
          "base_uri": "https://localhost:8080/"
        },
        "outputId": "76ace619-eaf2-489c-e32b-464e5b44623d"
      },
      "source": [
        "# DICTIONARIES AND TUPLES\n",
        "d = {'h': 4, 't': 5, 'n': 6, 'm': 7}\n",
        "print(d.items())\n",
        "l = [(8, 'h'), (7, 't'), (6, 'n'), (5, 'm')]\n",
        "print(dict(l))"
      ],
      "execution_count": null,
      "outputs": [
        {
          "output_type": "stream",
          "text": [
            "dict_items([('h', 4), ('t', 5), ('n', 6), ('m', 7)])\n",
            "{8: 'h', 7: 't', 6: 'n', 5: 'm'}\n"
          ],
          "name": "stdout"
        }
      ]
    },
    {
      "cell_type": "markdown",
      "metadata": {
        "id": "ceFq37eYPUFN"
      },
      "source": [
        "### TUPLE COMPARISON"
      ]
    },
    {
      "cell_type": "code",
      "metadata": {
        "id": "vl7a8bztvRFQ",
        "colab": {
          "base_uri": "https://localhost:8080/"
        },
        "outputId": "063d8dc6-f3a9-4a7e-ceda-606dfcb03b59"
      },
      "source": [
        "# TUPLE COMPARISON\n",
        "print((3, ) < (5, ))\n",
        "print((3, 6) < (5, 1))\n",
        "print((3, 6) < (3, 2))\n",
        "print()\n",
        "print(('Alpha', 0) < ('Beta', 8))\n",
        "print(('Alpha', 0) < ('Alpha', -2))"
      ],
      "execution_count": null,
      "outputs": [
        {
          "output_type": "stream",
          "text": [
            "True\n",
            "True\n",
            "False\n",
            "\n",
            "True\n",
            "False\n"
          ],
          "name": "stdout"
        }
      ]
    },
    {
      "cell_type": "markdown",
      "metadata": {
        "id": "AJWg2B10PWG7"
      },
      "source": [
        "###  SORTING EXAMPLE: SORT BY VALUE, NOT KEY"
      ]
    },
    {
      "cell_type": "code",
      "metadata": {
        "id": "aDaBq89dwD2p",
        "colab": {
          "base_uri": "https://localhost:8080/"
        },
        "outputId": "aae7fc64-bbd1-42e1-d15c-ed02f88df34d"
      },
      "source": [
        "# SORTING EXAMPLE: SORT BY VALUE, NOT KEY\n",
        "d = {'h': 4, 't': 5, 'n': 6, 'm': 7}\n",
        "print('Sort by key:          ', *sorted(list(d.items())))\n",
        "\n",
        "print('Sort by value, #1 way:', *sorted(list(d.items()), key = lambda x: x[1]))\n",
        "\n",
        "value_key_list = sorted([(value, key) for key, value in d.items()])\n",
        "sorted_value_list = [(key, value) for value, key in value_key_list]\n",
        "print('Sort by value, #2 way:', *sorted_value_list) "
      ],
      "execution_count": null,
      "outputs": [
        {
          "output_type": "stream",
          "text": [
            "Sort by key:           ('h', 4) ('m', 7) ('n', 6) ('t', 5)\n",
            "Sort by value, #1 way: ('h', 4) ('t', 5) ('n', 6) ('m', 7)\n",
            "Sort by value, #2 way: ('h', 4) ('t', 5) ('n', 6) ('m', 7)\n"
          ],
          "name": "stdout"
        }
      ]
    },
    {
      "cell_type": "markdown",
      "metadata": {
        "id": "_gy1XztRySyM"
      },
      "source": [
        "# CHAPTER 6: MODULES"
      ]
    },
    {
      "cell_type": "markdown",
      "metadata": {
        "id": "uK3QpdrhQToS"
      },
      "source": [
        "##  `import` EXAMPLE"
      ]
    },
    {
      "cell_type": "code",
      "metadata": {
        "id": "bKWGkCfRycQY",
        "colab": {
          "base_uri": "https://localhost:8080/"
        },
        "outputId": "96a0f20e-5cbf-42c2-bafd-796aaa7646f0"
      },
      "source": [
        "# import EXAMPLE\n",
        "import math\n",
        "print(math.sqrt(8))\n",
        "from math import sqrt\n",
        "print(sqrt(8))\n",
        "from random import *\n",
        "print(randint(3,6))"
      ],
      "execution_count": null,
      "outputs": [
        {
          "output_type": "stream",
          "text": [
            "2.8284271247461903\n",
            "2.8284271247461903\n",
            "4\n"
          ],
          "name": "stdout"
        }
      ]
    },
    {
      "cell_type": "markdown",
      "metadata": {
        "id": "oN3GBb_NQXKD"
      },
      "source": [
        "## (preparation)"
      ]
    },
    {
      "cell_type": "markdown",
      "metadata": {
        "id": "uJFEbC1FDDyI"
      },
      "source": [
        "### (preparation) mount"
      ]
    },
    {
      "cell_type": "code",
      "metadata": {
        "id": "1Tmu1K9y3P4M",
        "colab": {
          "base_uri": "https://localhost:8080/"
        },
        "outputId": "0e1e65ec-20df-47aa-ca42-fee0f5bae9bf"
      },
      "source": [
        "# (preparation) mount\n",
        "from google.colab import drive\n",
        "drive.mount('/content/gdrive')"
      ],
      "execution_count": null,
      "outputs": [
        {
          "output_type": "stream",
          "text": [
            "Mounted at /content/gdrive\n"
          ],
          "name": "stdout"
        }
      ]
    },
    {
      "cell_type": "markdown",
      "metadata": {
        "id": "vfVHGDjRQeLs"
      },
      "source": [
        "###  (preparation) append path"
      ]
    },
    {
      "cell_type": "code",
      "metadata": {
        "id": "D7sRoSbR3jqF",
        "colab": {
          "base_uri": "https://localhost:8080/"
        },
        "outputId": "3fea1fb5-f443-431e-a112-b42259d88464"
      },
      "source": [
        "# (preparation) append path\n",
        "!ls /content/gdrive/MyDrive/Colab\\ Notebooks/hello.py\n",
        "!cat /content/gdrive/MyDrive/Colab\\ Notebooks/hello.py\n",
        "import sys\n",
        "sys.path.append('/content/gdrive/MyDrive/Colab Notebooks')"
      ],
      "execution_count": null,
      "outputs": [
        {
          "output_type": "stream",
          "text": [
            "'/content/gdrive/MyDrive/Colab Notebooks/hello.py'\n",
            "if __name__ == '__main__':\n",
            "    print('Hello?')"
          ],
          "name": "stdout"
        }
      ]
    },
    {
      "cell_type": "markdown",
      "metadata": {
        "id": "v0EX7DvCQnwp"
      },
      "source": [
        "##  MODULES AS SCRIPTS"
      ]
    },
    {
      "cell_type": "code",
      "metadata": {
        "id": "ArGm5mcsyymm",
        "colab": {
          "base_uri": "https://localhost:8080/"
        },
        "outputId": "9472582a-569c-4086-d452-69dfd218b68e"
      },
      "source": [
        "# MODULES AS SCRIPTS\n",
        "hello_path = '/content/gdrive/MyDrive/Colab Notebooks/hello.py'\n",
        "\n",
        "print('Script in \"hello.py\":\\n---------------------------------')\n",
        "f = open(hello_path, 'r')\n",
        "print(f.read(), '\\n---------------------------------')\n",
        "f.close()\n",
        "\n",
        "! python '/content/gdrive/MyDrive/Colab Notebooks/hello.py'"
      ],
      "execution_count": null,
      "outputs": [
        {
          "output_type": "stream",
          "text": [
            "Script in \"hello.py\":\n",
            "---------------------------------\n",
            "if __name__ == '__main__':\n",
            "    print('Hello?') \n",
            "---------------------------------\n",
            "Hello?\n"
          ],
          "name": "stdout"
        }
      ]
    },
    {
      "cell_type": "markdown",
      "metadata": {
        "id": "sBLQBbLuQsaB"
      },
      "source": [
        "##  `__name__`"
      ]
    },
    {
      "cell_type": "code",
      "metadata": {
        "id": "wic3G-se0QQl",
        "colab": {
          "base_uri": "https://localhost:8080/"
        },
        "outputId": "79e5cadf-c1c0-4188-df1a-163fc3107cb9"
      },
      "source": [
        "# __name__\n",
        "print('before import')\n",
        "import hello\n",
        "print('after import')\n",
        "print(hello.__name__)"
      ],
      "execution_count": null,
      "outputs": [
        {
          "output_type": "stream",
          "text": [
            "before import\n",
            "after import\n",
            "hello\n"
          ],
          "name": "stdout"
        }
      ]
    },
    {
      "cell_type": "markdown",
      "metadata": {
        "id": "sdZTUVNmQ9nC"
      },
      "source": [
        "## `sys.argv[]`"
      ]
    },
    {
      "cell_type": "code",
      "metadata": {
        "id": "9D8jW7Cg7B6z",
        "colab": {
          "base_uri": "https://localhost:8080/"
        },
        "outputId": "3d0ec347-bfe0-4017-f14f-0948853bb094"
      },
      "source": [
        "# sys.argv[]\n",
        "sum_path = '/content/gdrive/MyDrive/Colab Notebooks/sumof2module.py'\n",
        "print('Script in \"sumof2module.py\":\\n---------------------------------')\n",
        "f = open(sum_path, 'r')\n",
        "print(f.read(), '\\n---------------------------------')\n",
        "f.close()\n",
        "! python '/content/gdrive/MyDrive/Colab Notebooks/sumof2module.py' 8 9"
      ],
      "execution_count": null,
      "outputs": [
        {
          "output_type": "stream",
          "text": [
            "Script in \"sumof2module.py\":\n",
            "---------------------------------\n",
            "if __name__ == '__main__':\n",
            "    import sys\n",
            "    print(int(sys.argv[1]) + int(sys.argv[2])) \n",
            "---------------------------------\n",
            "17\n"
          ],
          "name": "stdout"
        }
      ]
    },
    {
      "cell_type": "markdown",
      "metadata": {
        "id": "u6WccnB8RFjK"
      },
      "source": [
        "##  USEFUL MODULES: BASIC EXAMPLES"
      ]
    },
    {
      "cell_type": "code",
      "metadata": {
        "id": "1fqSnOh97xZD",
        "colab": {
          "base_uri": "https://localhost:8080/"
        },
        "outputId": "322da508-2fe9-4cbe-9da0-c7c1dab347e0"
      },
      "source": [
        "# USEFUL MODULES: BASIC EXAMPLES\n",
        "# See a lot more in-depth examples in the APPENDIX\n",
        "''' Find out more in: (ctrl + click to open)\n",
        "https://docs.python.org/3/library/random.html\n",
        "https://docs.python.org/3/library/datetime.html\n",
        "https://docs.python.org/3/library/math.html\n",
        "https://numpy.org/doc/\n",
        "'''\n",
        "\n",
        "import random \n",
        "import datetime \n",
        "import math\n",
        "import numpy\n",
        "\n",
        "print(datetime.datetime.now())\n",
        "print(math.factorial(8))\n",
        "\n",
        "np_arr = numpy.array([random.uniform(0, 3) for i in range(6)])\n",
        "print(np_arr)\n",
        "# print values which are > 1.5\n",
        "print(np_arr[np_arr > 1.5])"
      ],
      "execution_count": null,
      "outputs": [
        {
          "output_type": "stream",
          "text": [
            "2021-08-08 15:33:55.737705\n",
            "40320\n",
            "[0.60696914 1.53285513 0.88682221 2.20753892 1.75438863 0.12675069]\n",
            "[1.53285513 2.20753892 1.75438863]\n"
          ],
          "name": "stdout"
        }
      ]
    },
    {
      "cell_type": "markdown",
      "metadata": {
        "id": "pxdrGDJtFp5Y"
      },
      "source": [
        "##  `pickle` MODULE"
      ]
    },
    {
      "cell_type": "markdown",
      "metadata": {
        "id": "iWziCX12F3Cv"
      },
      "source": [
        "###  IMPORT `pickle`"
      ]
    },
    {
      "cell_type": "code",
      "metadata": {
        "id": "cQfmrtg7Ft0Z"
      },
      "source": [
        "# IMPORT pickle\n",
        "import pickle as pkl"
      ],
      "execution_count": null,
      "outputs": []
    },
    {
      "cell_type": "markdown",
      "metadata": {
        "id": "-8pEiHsWHZzs"
      },
      "source": [
        "###  `dump()`"
      ]
    },
    {
      "cell_type": "code",
      "metadata": {
        "id": "SmRRS3ZsG0gl"
      },
      "source": [
        "# dump()\n",
        "sample_pkl_path = '/content/gdrive/MyDrive/Colab Notebooks/sample_pkl.pkl'\n",
        "lst = [3, 5, 0, 8]\n",
        "with open(sample_pkl_path, 'wb') as f:\n",
        "    # 'wb' = write byte, see more below, in Chapter 7: FILES\n",
        "    pkl.dump(lst, f)"
      ],
      "execution_count": null,
      "outputs": []
    },
    {
      "cell_type": "markdown",
      "metadata": {
        "id": "V4Ct1dnOHmN0"
      },
      "source": [
        "###  `load()`"
      ]
    },
    {
      "cell_type": "code",
      "metadata": {
        "id": "VoGofxBLHl7n",
        "colab": {
          "base_uri": "https://localhost:8080/"
        },
        "outputId": "b7ff1d6e-c158-4f67-bdce-1934f99c5af9"
      },
      "source": [
        "# load()\n",
        "with open(sample_pkl_path, 'rb') as f:\n",
        "    # 'rb' = read byte, see more below, in Chapter 7: FILES\n",
        "    loaded_content = pkl.load(f)\n",
        "print(loaded_content)"
      ],
      "execution_count": null,
      "outputs": [
        {
          "output_type": "stream",
          "text": [
            "[3, 5, 0, 8]\n"
          ],
          "name": "stdout"
        }
      ]
    },
    {
      "cell_type": "markdown",
      "metadata": {
        "id": "otO3nGbmD_48"
      },
      "source": [
        "# CHAPTER 7: FILES"
      ]
    },
    {
      "cell_type": "markdown",
      "metadata": {
        "id": "jkYH1QrORN7R"
      },
      "source": [
        "##  OPENING A FILE"
      ]
    },
    {
      "cell_type": "code",
      "metadata": {
        "id": "JO79ScMqECuw"
      },
      "source": [
        "# OPENING A FILE\n",
        "f = open(hello_path, 'r')\n",
        "# 'r' reading | 'w' writing | 'a' appending | 'r+' both reading and writing"
      ],
      "execution_count": null,
      "outputs": []
    },
    {
      "cell_type": "markdown",
      "metadata": {
        "id": "yXD0beCqRPw5"
      },
      "source": [
        "## LOOP OVER A FILE"
      ]
    },
    {
      "cell_type": "code",
      "metadata": {
        "id": "B6Q-lIldEY6O",
        "colab": {
          "base_uri": "https://localhost:8080/"
        },
        "outputId": "1ecc812c-4e14-411f-82e9-66c87c72a67f"
      },
      "source": [
        "# LOOP OVER A FILE\n",
        "for line in f:\n",
        "    print(line, end = '')\n",
        "f.close()"
      ],
      "execution_count": null,
      "outputs": [
        {
          "output_type": "stream",
          "text": [
            "if __name__ == '__main__':\n",
            "    print('Hello?')"
          ],
          "name": "stdout"
        }
      ]
    },
    {
      "cell_type": "markdown",
      "metadata": {
        "id": "PwDE86sKRRu5"
      },
      "source": [
        "##  READ WHOLE FILE"
      ]
    },
    {
      "cell_type": "code",
      "metadata": {
        "id": "6dRvpQWLEmhW",
        "colab": {
          "base_uri": "https://localhost:8080/"
        },
        "outputId": "d15bebb2-5311-4a4b-e390-811746a3d59c"
      },
      "source": [
        "# READ WHOLE FILE\n",
        "f = open(hello_path, 'r')\n",
        "print(f.read())\n",
        "f.close()"
      ],
      "execution_count": null,
      "outputs": [
        {
          "output_type": "stream",
          "text": [
            "if __name__ == '__main__':\n",
            "    print('Hello?')\n"
          ],
          "name": "stdout"
        }
      ]
    },
    {
      "cell_type": "markdown",
      "metadata": {
        "id": "nUBZaBHART5C"
      },
      "source": [
        "##  `with` BLOCK"
      ]
    },
    {
      "cell_type": "code",
      "metadata": {
        "id": "rhvf2_QvFQa-",
        "colab": {
          "base_uri": "https://localhost:8080/"
        },
        "outputId": "924a8e89-65c7-4fce-e69d-530b82da8452"
      },
      "source": [
        "# with BLOCK\n",
        "with open(hello_path, 'r') as f:\n",
        "    print(f.read())\n",
        "print(f.closed)"
      ],
      "execution_count": null,
      "outputs": [
        {
          "output_type": "stream",
          "text": [
            "if __name__ == '__main__':\n",
            "    print('Hello?')\n",
            "True\n"
          ],
          "name": "stdout"
        }
      ]
    },
    {
      "cell_type": "markdown",
      "metadata": {
        "id": "KJJDC7DhRVQS"
      },
      "source": [
        "##  WRITING FILES"
      ]
    },
    {
      "cell_type": "code",
      "metadata": {
        "id": "OOIvt78TGnOe",
        "colab": {
          "base_uri": "https://localhost:8080/"
        },
        "outputId": "05df6459-71bb-4e06-efcd-3db73bcfd769"
      },
      "source": [
        "# WRITING FILES\n",
        "write_path = '/content/gdrive/MyDrive/Colab Notebooks/writeout.txt'\n",
        "with open(write_path, 'w') as f:\n",
        "    f.write('Write this line to the file')\n",
        "with open(write_path, 'r') as f:\n",
        "    print(f.read())"
      ],
      "execution_count": null,
      "outputs": [
        {
          "output_type": "stream",
          "text": [
            "Write this line to the file\n"
          ],
          "name": "stdout"
        }
      ]
    },
    {
      "cell_type": "markdown",
      "metadata": {
        "id": "g52YkYkoRW9V"
      },
      "source": [
        "##  CURRENT POSITION"
      ]
    },
    {
      "cell_type": "code",
      "metadata": {
        "id": "1F0lxpcRHRj9",
        "colab": {
          "base_uri": "https://localhost:8080/"
        },
        "outputId": "b77e2ed0-5ba1-474f-8b70-8dcbe41e806b"
      },
      "source": [
        "# CURRENT POSITION\n",
        "with open(write_path, 'r') as f:\n",
        "    print(f.tell())\n",
        "    print(f.read())\n",
        "    print(f.tell())"
      ],
      "execution_count": null,
      "outputs": [
        {
          "output_type": "stream",
          "text": [
            "0\n",
            "Write this line to the file\n",
            "27\n"
          ],
          "name": "stdout"
        }
      ]
    },
    {
      "cell_type": "markdown",
      "metadata": {
        "id": "o1rvUY9URYRJ"
      },
      "source": [
        "## CHANGE POSITION"
      ]
    },
    {
      "cell_type": "code",
      "metadata": {
        "id": "16PL70QPHoyM",
        "colab": {
          "base_uri": "https://localhost:8080/"
        },
        "outputId": "ecdf9134-0c6c-4fd5-978f-c5dac1ef51ef"
      },
      "source": [
        "# CHANGE POSITION\n",
        "# https://www.tutorialspoint.com/python/file_seek.htm\n",
        "with open(write_path, 'r') as f:\n",
        "    print(f.tell())\n",
        "    f.seek(13)\n",
        "    print(f.tell())\n",
        "    print(f.read())\n",
        "    print(f.tell())"
      ],
      "execution_count": null,
      "outputs": [
        {
          "output_type": "stream",
          "text": [
            "0\n",
            "13\n",
            "ne to the file\n",
            "27\n"
          ],
          "name": "stdout"
        }
      ]
    },
    {
      "cell_type": "markdown",
      "metadata": {
        "id": "OhIfThxnLDwn"
      },
      "source": [
        "# CHAPTER 8: OBJECT-ORIENTED PROGRAMMING (OOP)"
      ]
    },
    {
      "cell_type": "markdown",
      "metadata": {
        "id": "puFbl-asLi1t"
      },
      "source": [
        "##  CREATE A NEW OBJECT EXAMPLE"
      ]
    },
    {
      "cell_type": "code",
      "metadata": {
        "id": "yRXsyuvqLYlu"
      },
      "source": [
        "# CREATE A NEW OBJECT EXAMPLE\n",
        "#     name of class (parent class(es))\n",
        "class Complex_number(object):\n",
        "    # __init__ always run right after calling the class\n",
        "    def __init__(self, a, b):\n",
        "        # real and imaginary are attributes\n",
        "        self.real = a\n",
        "        self.imaginary = b\n",
        "\n",
        "    # a method is a function of the class\n",
        "    def modulus(self):\n",
        "        from math import sqrt\n",
        "        return sqrt(self.real ** 2 + self.imaginary ** 2)\n",
        "\n",
        "    # __str__ is a method which returns (str(an instance))\n",
        "    def __str__(self):\n",
        "        return 'Complex number (%s + %si)' % (self.real, self.imaginary)\n",
        "\n",
        "    # __add__ is a method which returns (an instance + another instance)\n",
        "    def __add__(self, other):\n",
        "        return Complex_number(self.real + other.real, self.imaginary + other.imaginary)\n",
        "\n",
        "    # __sub__ is a method which returns (an instance - another instance)\n",
        "    def __sub__(self, other):\n",
        "        return Complex_number(self.real - other.real, self.imaginary - other.imaginary)\n",
        "\n",
        "    # __eq__ is a method which returns (an instance == another instance)\n",
        "    def __eq__(self, other):\n",
        "        return self.real == other.real and self.imaginary == other.imaginary\n"
      ],
      "execution_count": null,
      "outputs": []
    },
    {
      "cell_type": "markdown",
      "metadata": {
        "id": "eIL-_mQEW-mR"
      },
      "source": [
        "The most common used methods for a class, in short:\n",
        "```\n",
        "__doc__: docstring  |  __name__: name  |  __del__: delete\n",
        "__lt__: \"<\"  |  __le__: \"<=\"  |  __ne__: \"!=\"\n",
        "__gt__: \">\"  |  __ge__: \">=\"\n",
        "__dir__: dir(an object or an instance)\n",
        "```\n",
        "```\n",
        "object.__add__(self, other)\n",
        "object.__sub__(self, other)\n",
        "object.__mul__(self, other)\n",
        "object.__matmul__(self, other)\n",
        "object.__truediv__(self, other)\n",
        "object.__floordiv__(self, other)\n",
        "object.__mod__(self, other)\n",
        "object.__divmod__(self, other)\n",
        "object.__pow__(self, other[, modulo])\n",
        "object.__lshift__(self, other)\n",
        "object.__rshift__(self, other)\n",
        "object.__and__(self, other)¶\n",
        "object.__xor__(self, other)\n",
        "object.__or__(self, other)\n",
        "```\n",
        "There are so many more methods for a class that you should find them out yourself, this is the documentation of data model in Python:\n",
        "\n",
        "[https://docs.python.org/3/reference/datamodel.html](https://docs.python.org/3/reference/datamodel.html)\n",
        "    \n",
        "I found that the @abstractmethod decorator is not really important for the final exam, since we didn't learn any thing about decorator in Python, so if you are curious enough, this is the documentation of abc:\n",
        "\n",
        "[https://docs.python.org/3/library/abc.html](https://docs.python.org/3/library/abc.html)"
      ]
    },
    {
      "cell_type": "markdown",
      "metadata": {
        "id": "CPml-CnZNBPO"
      },
      "source": [
        "###  USING THE OBJECT EXAMPLES"
      ]
    },
    {
      "cell_type": "code",
      "metadata": {
        "colab": {
          "base_uri": "https://localhost:8080/"
        },
        "id": "lC1_gumWNABP",
        "outputId": "5fa4ba09-9e27-474d-b35a-833d6f5c7961"
      },
      "source": [
        "# USING THE OBJECT EXAMPLES\n",
        "z1 = Complex_number(6, 9)\n",
        "print(z1.real, z1.imaginary)\n",
        "print(z1.modulus())\n",
        "print(z1)"
      ],
      "execution_count": null,
      "outputs": [
        {
          "output_type": "stream",
          "text": [
            "6 9\n",
            "10.816653826391969\n",
            "Complex number (6 + 9i)\n"
          ],
          "name": "stdout"
        }
      ]
    },
    {
      "cell_type": "code",
      "metadata": {
        "colab": {
          "base_uri": "https://localhost:8080/"
        },
        "id": "8F5_8nUIOUDM",
        "outputId": "f3b5af26-2757-4279-e658-8a0c70f67f82"
      },
      "source": [
        "# USING THE OBJECT EXAMPLES\n",
        "z2 = Complex_number(2.8, 9.2)\n",
        "print(z2.real, z2.imaginary)\n",
        "print(z2.modulus())\n",
        "print(z2)"
      ],
      "execution_count": null,
      "outputs": [
        {
          "output_type": "stream",
          "text": [
            "2.8 9.2\n",
            "9.616652224137045\n",
            "Complex number (2.8 + 9.2i)\n"
          ],
          "name": "stdout"
        }
      ]
    },
    {
      "cell_type": "code",
      "metadata": {
        "colab": {
          "base_uri": "https://localhost:8080/"
        },
        "id": "hA-x9fBuPS_c",
        "outputId": "d11291ba-d473-4cb7-925f-b38aa5ce90c5"
      },
      "source": [
        "# USING THE OBJECT EXAMPLES\n",
        "print(z1 + z2)\n",
        "print(z1 - z2)\n",
        "# What? Why it is -0.1999999999999993? Find out at:\n",
        "# https://stackoverflow.com/questions/588004/is-floating-point-math-broken"
      ],
      "execution_count": null,
      "outputs": [
        {
          "output_type": "stream",
          "text": [
            "Complex number (8.8 + 18.2i)\n",
            "Complex number (3.2 + -0.1999999999999993i)\n"
          ],
          "name": "stdout"
        }
      ]
    },
    {
      "cell_type": "code",
      "metadata": {
        "colab": {
          "base_uri": "https://localhost:8080/"
        },
        "id": "jDjUV69ERpEz",
        "outputId": "50ec7b2a-b0d3-436f-e16d-98f4e8bcddcb"
      },
      "source": [
        "# USING THE OBJECT EXAMPLES\n",
        "print(z1 == z2)\n",
        "z3 = Complex_number(6, 9) \n",
        "print(z1 == z3)"
      ],
      "execution_count": null,
      "outputs": [
        {
          "output_type": "stream",
          "text": [
            "False\n",
            "True\n"
          ],
          "name": "stdout"
        }
      ]
    },
    {
      "cell_type": "markdown",
      "metadata": {
        "id": "2qlPhYcJTgNf"
      },
      "source": [
        "##  SUBCLASS"
      ]
    },
    {
      "cell_type": "code",
      "metadata": {
        "id": "824WM-DmTYuk"
      },
      "source": [
        "# SUBCLASS\n",
        "# You can re-define any method of Complex_number, or\n",
        "# add new methods, new attributes in Imaginary_number\n",
        "class Imaginary_number(Complex_number):\n",
        "    def __init__(self, *args): \n",
        "        if len(args) == 1:\n",
        "            self.removed_real_part = None\n",
        "            imaginary_part = args[0]\n",
        "        else: # len(args) == 2\n",
        "            self.removed_real_part = args[0]\n",
        "            imaginary_part = args[1]\n",
        "\n",
        "        # 2 ways to initialize:\n",
        "        # super().__init__(0, imaginary_part)\n",
        "        Complex_number.__init__(self, 0, imaginary_part)\n",
        "\n",
        "    def __str__(self):\n",
        "        return 'Imaginary number (%si)' % (self.imaginary)"
      ],
      "execution_count": null,
      "outputs": []
    },
    {
      "cell_type": "markdown",
      "metadata": {
        "id": "jwEp33k-V0J-"
      },
      "source": [
        "###  USING THE SUBCLASS EXAMPLES"
      ]
    },
    {
      "cell_type": "code",
      "metadata": {
        "colab": {
          "base_uri": "https://localhost:8080/"
        },
        "id": "A6SuRRkiUxGW",
        "outputId": "072ee74e-21b8-483d-920f-96422ef057eb"
      },
      "source": [
        "# USING THE SUBCLASS EXAMPLES\n",
        "img1 = Imaginary_number(3, 8)\n",
        "print(img1)\n",
        "print('Removed real part:', img1.removed_real_part)\n",
        "print('Modulus:', img1.modulus())"
      ],
      "execution_count": null,
      "outputs": [
        {
          "output_type": "stream",
          "text": [
            "Imaginary number (8i)\n",
            "Removed real part: 3\n",
            "Modulus: 8.0\n"
          ],
          "name": "stdout"
        }
      ]
    },
    {
      "cell_type": "code",
      "metadata": {
        "colab": {
          "base_uri": "https://localhost:8080/"
        },
        "id": "lYgKRZpme7SQ",
        "outputId": "45a69ed7-2e66-4262-a913-6d47f69c60cc"
      },
      "source": [
        "# USING THE SUBCLASS EXAMPLES\n",
        "img2 = Imaginary_number(4)\n",
        "print(img2)\n",
        "print('Removed real part:', img2.removed_real_part)\n",
        "print('Modulus:', img2.modulus())"
      ],
      "execution_count": null,
      "outputs": [
        {
          "output_type": "stream",
          "text": [
            "Imaginary number (4i)\n",
            "Removed real part: None\n",
            "Modulus: 4.0\n"
          ],
          "name": "stdout"
        }
      ]
    },
    {
      "cell_type": "markdown",
      "metadata": {
        "id": "pzePduBEai0n"
      },
      "source": [
        "# CHAPTER 9: TESTING, DEBUGGING, EXCEPTIONS AND ASSERTIONS"
      ]
    },
    {
      "cell_type": "markdown",
      "metadata": {
        "id": "gh7rBDPJo9h5"
      },
      "source": [
        "## TESTING AND DEBUGGING"
      ]
    },
    {
      "cell_type": "markdown",
      "metadata": {
        "id": "WrNJzEemX4WM"
      },
      "source": [
        "By now, you have done this every time an error occurs in your code, so this is pretty both too easy and too hard to be explained in this notebook. Therefore, I will not explain about it here."
      ]
    },
    {
      "cell_type": "markdown",
      "metadata": {
        "id": "ECirOaQHtI9r"
      },
      "source": [
        "##  EXCEPTIONS"
      ]
    },
    {
      "cell_type": "markdown",
      "metadata": {
        "id": "enePJtg6wBKT"
      },
      "source": [
        "###  COMMON BUILT-IN EXCEPTIONS"
      ]
    },
    {
      "cell_type": "code",
      "metadata": {
        "id": "dULr-V98tHy7"
      },
      "source": [
        "# COMMON BUILT-IN EXCEPTIONS\n",
        "lst = [0, 1, 2]"
      ],
      "execution_count": null,
      "outputs": []
    },
    {
      "cell_type": "markdown",
      "metadata": {
        "id": "D9dZJ4_JYFS4"
      },
      "source": [
        "```\n",
        "print(lst[4])\n",
        "IndexError: list index out of range\n",
        "\n",
        "print(int(lst))\n",
        "TypeError: int() argument must be a string, a bytes-like object or a number, not 'list'\n",
        "\n",
        "print(an_undefined_a_variable)\n",
        "NameError: name 'an_undefined_a_variable' is not defined\n",
        "\n",
        "print(a\n",
        "\n",
        "    print(a\n",
        "           ^\n",
        "SyntaxError: unexpected EOF while parsing\n",
        "\n",
        "print(lst.mnpq)\n",
        "AttributeError: 'list' object has no attribute 'mnpq'\n",
        "\n",
        "print(6 / 0)\n",
        "ZeroDivisionError: division by zero\n",
        "\n",
        "print(int('?'))\n",
        "ValueError: invalid literal for int() with base 10: '?'\n",
        "\n",
        "f = open('????')\n",
        "FileNotFoundError: [Errno 2] No such file or directory: '????'\n",
        "```"
      ]
    },
    {
      "cell_type": "markdown",
      "metadata": {
        "id": "tdwpchw7wUat"
      },
      "source": [
        "###  (INPUT) HANDLING SPECIFIC EXCEPTIONS"
      ]
    },
    {
      "cell_type": "code",
      "metadata": {
        "colab": {
          "base_uri": "https://localhost:8080/"
        },
        "id": "6cV5a13auGqQ",
        "outputId": "42aac0e1-afdd-436b-c4b7-71ac97c42e8d"
      },
      "source": [
        "# HANDLING SPECIFIC EXCEPTIONS\n",
        "try:\n",
        "    a = float(input('a = '))\n",
        "    b = float(input('b = '))\n",
        "    res = a / b\n",
        "\n",
        "except ValueError: # Handling a specific exception in try clause\n",
        "    print('Unable to convert to number')\n",
        "except ZeroDivisionError:\n",
        "    print('Unable to divide by 0')\n",
        "\n",
        "except: # Handling any other exception in try clause\n",
        "    print('Another error')\n",
        "\n",
        "else: # Only execute if the try clause does not raise any exception\n",
        "    print(res)\n",
        "\n",
        "finally: # Always execute\n",
        "    print('Done')\n"
      ],
      "execution_count": null,
      "outputs": [
        {
          "output_type": "stream",
          "text": [
            "a = 4\n",
            "b = 8\n",
            "0.5\n",
            "Done\n"
          ],
          "name": "stdout"
        }
      ]
    },
    {
      "cell_type": "markdown",
      "metadata": {
        "id": "Lry28xIgYVD2"
      },
      "source": [
        "```\n",
        "a = sfgopsgspg\n",
        "Unable to convert to number\n",
        "Done\n",
        "\n",
        "a = 4\n",
        "b = 0\n",
        "Unable to divide by 0\n",
        "Done\n",
        "\n",
        "a = 4\n",
        "b = 8\n",
        "0.5\n",
        "Done\n",
        "```"
      ]
    },
    {
      "cell_type": "markdown",
      "metadata": {
        "id": "ncafXK_M_c7I"
      },
      "source": [
        "###  `raise` AN EXCEPTION"
      ]
    },
    {
      "cell_type": "markdown",
      "metadata": {
        "id": "LtasWxpcYbOQ"
      },
      "source": [
        "```\n",
        "raise ValueError('This is a value exception')\n",
        "\n",
        "---------------------------------------------------------------------------\n",
        "ValueError                                Traceback (most recent call last)\n",
        "<ipython-input-116-d1990690242c> in <module>()\n",
        "----> 1 raise ValueError('This is a value exception')\n",
        "\n",
        "ValueError: This is a value exception\n",
        "```"
      ]
    },
    {
      "cell_type": "markdown",
      "metadata": {
        "id": "knSTsU4GACDK"
      },
      "source": [
        "###  (INPUT) DEFINE AN EXCEPTION"
      ]
    },
    {
      "cell_type": "code",
      "metadata": {
        "id": "hriWIBoxAAB8",
        "colab": {
          "base_uri": "https://localhost:8080/"
        },
        "outputId": "5c3a8547-dc45-41bb-84c6-62c199cd637c"
      },
      "source": [
        "# DEFINE AN EXCEPTION\n",
        "class DateFormatError(Exception):\n",
        "    pass\n",
        "\n",
        "# Raise the exception if the string is not of the format '??-??-????'\n",
        "# ? is a number, from 0-9\n",
        "\n",
        "def num_args_check(date):\n",
        "    dmy_lst = date.split('-')\n",
        "    if len(dmy_lst) == 3:\n",
        "        return True\n",
        "    return False\n",
        "\n",
        "def numeric_check(date):\n",
        "    dmy_lst = date.split('-')\n",
        "    for arg in dmy_lst:\n",
        "        if not arg.isnumeric():\n",
        "            return False\n",
        "    return True\n",
        "\n",
        "def args_len_check(date):\n",
        "    dmy_lst = date.split('-')\n",
        "    len_lst = [len(dmy_lst[i]) for i in range(3)]\n",
        "    if tuple(len_lst) == (2, 2, 4):\n",
        "        return True\n",
        "    return False\n",
        "\n",
        "date = input('Date = ')\n",
        "\n",
        "if not num_args_check(date):\n",
        "    raise DateFormatError(\n",
        "            'There must be 3 arguments for day-month-year, respectively')\n",
        "if not numeric_check(date):\n",
        "    raise DateFormatError(\n",
        "            'At least one of 3 arguments is not numeric')\n",
        "if not args_len_check(date):\n",
        "    raise DateFormatError(\n",
        "            'len() of 3 arguments must be 2, 2, 4, respectively')\n",
        "    \n",
        "print('The date is: %s' % date)"
      ],
      "execution_count": null,
      "outputs": [
        {
          "output_type": "stream",
          "text": [
            "Date = 66-99-6969\n",
            "The date is: 66-99-6969\n"
          ],
          "name": "stdout"
        }
      ]
    },
    {
      "cell_type": "markdown",
      "metadata": {
        "id": "QqzVewBOYqAU"
      },
      "source": [
        "```\n",
        "Date = 41-14-6161-3\n",
        "DateFormatError: There must be 3 arguments for day-month-year, respectively\n",
        "\n",
        "Date = 1-12-4251\n",
        "DateFormatError: len() of 3 arguments must be 2, 2, 4, respectively\n",
        "\n",
        "Date = 30-12-200x\n",
        "DateFormatError: At least one of 3 arguments is not numeric\n",
        "\n",
        "Date = 66-99-6969\n",
        "The date is: 66-99-6969\n",
        "```"
      ]
    },
    {
      "cell_type": "markdown",
      "metadata": {
        "id": "ZfcZuNtaG282"
      },
      "source": [
        "###  `unittest` MODULE"
      ]
    },
    {
      "cell_type": "markdown",
      "metadata": {
        "id": "aI79dfV8Yv79"
      },
      "source": [
        "A module to test your program (in a big project).\n",
        "\n",
        "(I believe) this one will not appear in the final test, this is the documentation, though:\n",
        "\n",
        "[https://docs.python.org/3/library/unittest.html](https://docs.python.org/3/library/unittest.html)"
      ]
    },
    {
      "cell_type": "markdown",
      "metadata": {
        "id": "O14Q7Mf5y6EP"
      },
      "source": [
        "# APPENDIX: SOME IMPORTANT MODULES FOR MATHEMATICS, DATA SCIENCE AND MACHINE LEARNING"
      ]
    },
    {
      "cell_type": "markdown",
      "metadata": {
        "id": "yN6nyMGHzqTF"
      },
      "source": [
        "## `random`\n",
        "\n"
      ]
    },
    {
      "cell_type": "code",
      "metadata": {
        "id": "NtTlZPIS5T_4"
      },
      "source": [
        "# Documentation: https://docs.python.org/3/library/random.html\n",
        "import random"
      ],
      "execution_count": null,
      "outputs": []
    },
    {
      "cell_type": "markdown",
      "metadata": {
        "id": "1LEHUF7r47xN"
      },
      "source": [
        "### INTEGERS"
      ]
    },
    {
      "cell_type": "code",
      "metadata": {
        "colab": {
          "base_uri": "https://localhost:8080/"
        },
        "id": "6DZkYt0iy5jd",
        "outputId": "5b26690e-0eaf-419f-baf0-6a7ff957407c"
      },
      "source": [
        "# INTEGERS\n",
        "print(random.randrange(10))\n",
        "# a random number in range(10)\n",
        "print(random.randrange(22, 29, 2))\n",
        "# a random number in range(22, 29, 2), which are 22, 24, 26 and 28"
      ],
      "execution_count": null,
      "outputs": [
        {
          "output_type": "stream",
          "text": [
            "2\n",
            "28\n"
          ],
          "name": "stdout"
        }
      ]
    },
    {
      "cell_type": "markdown",
      "metadata": {
        "id": "N2R2-A0N4_qt"
      },
      "source": [
        "### SEQUENCE"
      ]
    },
    {
      "cell_type": "code",
      "metadata": {
        "colab": {
          "base_uri": "https://localhost:8080/"
        },
        "id": "tt_EoJSZ1S7B",
        "outputId": "20f97ae0-33fe-4030-e82a-bf6bf9d537d7"
      },
      "source": [
        "# SEQUENCE\n",
        "seq = [3, 5, 0, 8]\n",
        "print(random.choice(seq))\n",
        "# choose a random element in a sequence\n",
        "print(random.choices(seq, k = 2))\n",
        "# choose a random element twice in a sequence"
      ],
      "execution_count": null,
      "outputs": [
        {
          "output_type": "stream",
          "text": [
            "0\n",
            "[5, 8]\n"
          ],
          "name": "stdout"
        }
      ]
    },
    {
      "cell_type": "code",
      "metadata": {
        "colab": {
          "base_uri": "https://localhost:8080/"
        },
        "id": "0xLQjMyQ1ba0",
        "outputId": "1364e5eb-8dcb-4e16-ced4-eae7634f2c70"
      },
      "source": [
        "# random\n",
        "print(random.sample(seq, 2))\n",
        "# choose two random elements in a sequence\n",
        "print(random.sample(seq, len(seq)))\n",
        "# alias of random.shuffle, since it is...\n",
        "# Deprecated since version 3.9, will be removed in version 3.11"
      ],
      "execution_count": null,
      "outputs": [
        {
          "output_type": "stream",
          "text": [
            "[0, 8]\n",
            "[0, 5, 8, 3]\n"
          ],
          "name": "stdout"
        }
      ]
    },
    {
      "cell_type": "markdown",
      "metadata": {
        "id": "ycG0CKls5E77"
      },
      "source": [
        "### REAL NUMBERS"
      ]
    },
    {
      "cell_type": "code",
      "metadata": {
        "colab": {
          "base_uri": "https://localhost:8080/"
        },
        "id": "RfuJUHMN3aSy",
        "outputId": "0a44033c-56b9-4b89-d41a-0acb1bb2c0fe"
      },
      "source": [
        "# REAL NUMBERS\n",
        "print(random.random())\n",
        "# a random number in the interval [0.0, 1.0)\n",
        "print(random.uniform(3.0, 5.0))\n",
        "# a random number between 3.0 and 5.0\n",
        "# the end-point might or might not be included,\n",
        "# read more in documentation"
      ],
      "execution_count": null,
      "outputs": [
        {
          "output_type": "stream",
          "text": [
            "0.8956381684811701\n",
            "4.613596672170821\n"
          ],
          "name": "stdout"
        }
      ]
    },
    {
      "cell_type": "markdown",
      "metadata": {
        "id": "vrYHBNQP5bBy"
      },
      "source": [
        "## `time`"
      ]
    },
    {
      "cell_type": "code",
      "metadata": {
        "id": "N-3LmDWH5hFt"
      },
      "source": [
        "# time\n",
        "# Documentation: https://docs.python.org/3/library/time.html\n",
        "import time"
      ],
      "execution_count": null,
      "outputs": []
    },
    {
      "cell_type": "code",
      "metadata": {
        "colab": {
          "base_uri": "https://localhost:8080/"
        },
        "id": "fLXKXv0155uB",
        "outputId": "7e276a63-e047-47df-e410-87e003a25a38"
      },
      "source": [
        "# time\n",
        "print('before')\n",
        "time.sleep(0.5)\n",
        "# suspend execution for the given number of seconds\n",
        "print('after')"
      ],
      "execution_count": null,
      "outputs": [
        {
          "output_type": "stream",
          "text": [
            "before\n",
            "after\n"
          ],
          "name": "stdout"
        }
      ]
    },
    {
      "cell_type": "code",
      "metadata": {
        "colab": {
          "base_uri": "https://localhost:8080/"
        },
        "id": "0WP7MN3J6TGG",
        "outputId": "1747715f-0181-47ef-b770-65a049bc87ac"
      },
      "source": [
        "# time \n",
        "print(time.time())\n",
        "# Return the time in seconds since the epoch as a floating point number"
      ],
      "execution_count": null,
      "outputs": [
        {
          "output_type": "stream",
          "text": [
            "1628436854.6603506\n"
          ],
          "name": "stdout"
        }
      ]
    },
    {
      "cell_type": "code",
      "metadata": {
        "colab": {
          "base_uri": "https://localhost:8080/"
        },
        "id": "Jn6B3Dze60ly",
        "outputId": "25fcadbe-3130-48c4-b193-cd48c3fd859e"
      },
      "source": [
        "# time\n",
        "# measure execution time\n",
        "time_before = time.time()\n",
        "print(time_before)\n",
        "\n",
        "for i in range(5):\n",
        "    print(i, end = ' ')\n",
        "time_after = time.time()\n",
        "\n",
        "print('\\n%s' % time_after)\n",
        "\n",
        "print(time_after - time_before)"
      ],
      "execution_count": null,
      "outputs": [
        {
          "output_type": "stream",
          "text": [
            "1628436854.674913\n",
            "0 1 2 3 4 \n",
            "1628436854.678304\n",
            "0.0033910274505615234\n"
          ],
          "name": "stdout"
        }
      ]
    },
    {
      "cell_type": "markdown",
      "metadata": {
        "id": "1COm96U_7xyp"
      },
      "source": [
        "## `math`"
      ]
    },
    {
      "cell_type": "code",
      "metadata": {
        "id": "42emHj7R7xgq"
      },
      "source": [
        "# math\n",
        "# Documentation: https://docs.python.org/3/library/math.html\n",
        "import math"
      ],
      "execution_count": null,
      "outputs": []
    },
    {
      "cell_type": "markdown",
      "metadata": {
        "id": "g39zYr1x79-H"
      },
      "source": [
        "### CONSTANTS"
      ]
    },
    {
      "cell_type": "code",
      "metadata": {
        "colab": {
          "base_uri": "https://localhost:8080/"
        },
        "id": "Nxmqy66Y78I9",
        "outputId": "ceffd047-429f-45b2-9ae7-7821bf79fd2f"
      },
      "source": [
        "# CONSTANTS\n",
        "print(math.pi)\n",
        "print(math.e)\n",
        "print(math.inf)\n",
        "print(math.nan)"
      ],
      "execution_count": null,
      "outputs": [
        {
          "output_type": "stream",
          "text": [
            "3.141592653589793\n",
            "2.718281828459045\n",
            "inf\n",
            "nan\n"
          ],
          "name": "stdout"
        }
      ]
    },
    {
      "cell_type": "markdown",
      "metadata": {
        "id": "OO6YP9Mz8bQB"
      },
      "source": [
        "### NUMBER-THEORETIC AND REPRESENTATION FUNCTIONS"
      ]
    },
    {
      "cell_type": "code",
      "metadata": {
        "colab": {
          "base_uri": "https://localhost:8080/"
        },
        "id": "PMnAepSj8ajN",
        "outputId": "40fcc4e9-60dc-4240-a392-09f7db85e8c0"
      },
      "source": [
        "# NUMBER-THEORETIC AND REPRESENTATION FUNCTIONS\n",
        "print(math.ceil(3.01))\n",
        "# the smallest integer greater than or equal to given number\n",
        "print(math.floor(8.99))\n",
        "# the largest integer less than or equal to given number"
      ],
      "execution_count": null,
      "outputs": [
        {
          "output_type": "stream",
          "text": [
            "4\n",
            "8\n"
          ],
          "name": "stdout"
        }
      ]
    },
    {
      "cell_type": "code",
      "metadata": {
        "colab": {
          "base_uri": "https://localhost:8080/"
        },
        "id": "x9O329kY9_4O",
        "outputId": "7705de9c-27ce-4018-880c-46cc50e15f4c"
      },
      "source": [
        "# NUMBER-THEORETIC AND REPRESENTATION FUNCTIONS\n",
        "print(math.gcd(15, 20))"
      ],
      "execution_count": null,
      "outputs": [
        {
          "output_type": "stream",
          "text": [
            "5\n"
          ],
          "name": "stdout"
        }
      ]
    },
    {
      "cell_type": "code",
      "metadata": {
        "colab": {
          "base_uri": "https://localhost:8080/"
        },
        "id": "9MiE5zlf-hQf",
        "outputId": "969ee899-447e-4243-a0f5-5e94bfbd665d"
      },
      "source": [
        "# NUMBER-THEORETIC AND REPRESENTATION FUNCTIONS\n",
        "print(.1 + .2)\n",
        "print(.1 + .2 == .3)\n",
        "math.isclose(.1 + .2, .3)"
      ],
      "execution_count": null,
      "outputs": [
        {
          "output_type": "stream",
          "text": [
            "0.30000000000000004\n",
            "False\n"
          ],
          "name": "stdout"
        },
        {
          "output_type": "execute_result",
          "data": {
            "text/plain": [
              "True"
            ]
          },
          "metadata": {
            "tags": []
          },
          "execution_count": 128
        }
      ]
    },
    {
      "cell_type": "code",
      "metadata": {
        "colab": {
          "base_uri": "https://localhost:8080/"
        },
        "id": "M6djw4lI-wnm",
        "outputId": "e8bc0204-6477-4d71-a7e9-4d52eae259b6"
      },
      "source": [
        "# NUMBER-THEORETIC AND REPRESENTATION FUNCTIONS\n",
        "print(math.isfinite(999999999999999))\n",
        "print(math.isfinite(math.inf))\n",
        "print(math.isfinite(math.nan))\n",
        "# nan is not finite\n",
        "print()\n",
        "\n",
        "print(math.isinf(999999999999999))\n",
        "print(math.isinf(math.inf))\n",
        "print(math.isinf(math.nan))\n",
        "# nan is not infinite\n",
        "print()\n",
        "\n",
        "print(math.isnan(999999999999999))\n",
        "print(math.isnan(math.inf))\n",
        "print(math.isnan(math.nan))"
      ],
      "execution_count": null,
      "outputs": [
        {
          "output_type": "stream",
          "text": [
            "True\n",
            "False\n",
            "False\n",
            "\n",
            "False\n",
            "True\n",
            "False\n",
            "\n",
            "False\n",
            "False\n",
            "True\n"
          ],
          "name": "stdout"
        }
      ]
    },
    {
      "cell_type": "code",
      "metadata": {
        "colab": {
          "base_uri": "https://localhost:8080/"
        },
        "id": "y_vzTWIY_1bH",
        "outputId": "fed03b68-45c1-4ab5-ff9f-5edbaf8d93c4"
      },
      "source": [
        "# NUMBER-THEORETIC AND REPRESENTATION FUNCTIONS\n",
        "print(math.trunc(3.9))\n",
        "print(math.trunc(3.1))\n",
        "# truncated to an integral"
      ],
      "execution_count": null,
      "outputs": [
        {
          "output_type": "stream",
          "text": [
            "3\n",
            "3\n"
          ],
          "name": "stdout"
        }
      ]
    },
    {
      "cell_type": "markdown",
      "metadata": {
        "id": "vFASdvLDAwS_"
      },
      "source": [
        "### POWER AND LOGARITHMIC FUNCTIONS"
      ]
    },
    {
      "cell_type": "code",
      "metadata": {
        "colab": {
          "base_uri": "https://localhost:8080/"
        },
        "id": "gYiknK3bAvgW",
        "outputId": "a87d98fc-7073-4939-cb10-546d16058670"
      },
      "source": [
        "# POWER AND LOGARITHMIC FUNCTIONS\n",
        "print(math.exp(3)) # e^3\n",
        "print(math.e ** 3)\n",
        "# more accurate"
      ],
      "execution_count": null,
      "outputs": [
        {
          "output_type": "stream",
          "text": [
            "20.085536923187668\n",
            "20.085536923187664\n"
          ],
          "name": "stdout"
        }
      ]
    },
    {
      "cell_type": "code",
      "metadata": {
        "colab": {
          "base_uri": "https://localhost:8080/"
        },
        "id": "SAemd5ssBSz-",
        "outputId": "ff3932f6-3817-4f0c-cd46-8482b4143ad2"
      },
      "source": [
        "# POWER AND LOGARITHMIC FUNCTIONS\n",
        "print(math.log(3))\n",
        "# natural logarithm of 3\n",
        "print()\n",
        "\n",
        "print(math.log(5, 2))\n",
        "# logarithm of 5 to the base 2\n",
        "print(math.log2(5))\n",
        "# more accurate\n",
        "print()\n",
        "\n",
        "print(math.log10(101))"
      ],
      "execution_count": null,
      "outputs": [
        {
          "output_type": "stream",
          "text": [
            "1.0986122886681098\n",
            "\n",
            "2.321928094887362\n",
            "2.321928094887362\n",
            "\n",
            "2.0043213737826426\n"
          ],
          "name": "stdout"
        }
      ]
    },
    {
      "cell_type": "code",
      "metadata": {
        "colab": {
          "base_uri": "https://localhost:8080/"
        },
        "id": "Od93V0BrCPEs",
        "outputId": "e8c1fcb5-751f-42d1-b2a8-bf1ab2263a5e"
      },
      "source": [
        "# POWER AND LOGARITHMIC FUNCTIONS\n",
        "print(math.pow(2.1, 5.0))\n",
        "print(2.1 ** 5.0)\n",
        "# more accurate\n",
        "print()\n",
        "\n",
        "print(math.sqrt(5.6))\n",
        "print(5.6 ** 0.5)\n",
        "# more accurate"
      ],
      "execution_count": null,
      "outputs": [
        {
          "output_type": "stream",
          "text": [
            "40.84101000000001\n",
            "40.84101000000001\n",
            "\n",
            "2.3664319132398464\n",
            "2.3664319132398464\n"
          ],
          "name": "stdout"
        }
      ]
    },
    {
      "cell_type": "markdown",
      "metadata": {
        "id": "-t2Q_GHRC74c"
      },
      "source": [
        "### TRIGONOMETRIC FUNCTIONS"
      ]
    },
    {
      "cell_type": "code",
      "metadata": {
        "colab": {
          "base_uri": "https://localhost:8080/"
        },
        "id": "TZh6K5HsC-v5",
        "outputId": "123f4ac5-8ed1-4af1-cf25-1d891f67c2ef"
      },
      "source": [
        "# TRIGONOMETRIC FUNCTIONS\n",
        "# all angle units are radians\n",
        "print(math.sin(math.pi / 2))\n",
        "print(math.cos(math.pi / 2))\n",
        "print(math.tan(math.pi / 2))\n",
        "print()\n",
        "\n",
        "print(math.acos(1.0))\n",
        "# arc cosine\n",
        "print(math.asin(1.0))\n",
        "print(math.atan(1.0))\n"
      ],
      "execution_count": null,
      "outputs": [
        {
          "output_type": "stream",
          "text": [
            "1.0\n",
            "6.123233995736766e-17\n",
            "1.633123935319537e+16\n",
            "\n",
            "0.0\n",
            "1.5707963267948966\n",
            "0.7853981633974483\n"
          ],
          "name": "stdout"
        }
      ]
    },
    {
      "cell_type": "markdown",
      "metadata": {
        "id": "DvCtPpitENa-"
      },
      "source": [
        "### ANGULAR CONVERSION"
      ]
    },
    {
      "cell_type": "code",
      "metadata": {
        "colab": {
          "base_uri": "https://localhost:8080/"
        },
        "id": "TFIeZ3IwEO3T",
        "outputId": "e4de2824-6061-45c5-9587-e1e02604333e"
      },
      "source": [
        "# ANGULAR CONVERSION\n",
        "print(math.degrees(math.pi / 2))\n",
        "print(math.radians(90))"
      ],
      "execution_count": null,
      "outputs": [
        {
          "output_type": "stream",
          "text": [
            "90.0\n",
            "1.5707963267948966\n"
          ],
          "name": "stdout"
        }
      ]
    },
    {
      "cell_type": "markdown",
      "metadata": {
        "id": "joMoeBga4qZK"
      },
      "source": [
        "## `numpy`"
      ]
    },
    {
      "cell_type": "code",
      "metadata": {
        "id": "ZvVip1Ba4qGJ"
      },
      "source": [
        "# numpy\n",
        "# Documentation: https://numpy.org/doc/\n",
        "import numpy as np"
      ],
      "execution_count": null,
      "outputs": []
    },
    {
      "cell_type": "markdown",
      "metadata": {
        "id": "fKaFg-yM69Ou"
      },
      "source": [
        "### ARRAY CREATION"
      ]
    },
    {
      "cell_type": "code",
      "metadata": {
        "colab": {
          "base_uri": "https://localhost:8080/"
        },
        "id": "Z2OQKnAA6yJ2",
        "outputId": "33dfe64b-caf8-4aab-d77d-d1fb9b3ffef5"
      },
      "source": [
        "# ARRAY CREATION\n",
        "print(np.array( [1, 4, 6, 9] ))\n",
        "print(np.array( ((1, 3), (6, 9)) ))\n",
        "print(np.array( [(3.2, 2.1), (6.0, 1.3)] ))\n",
        "# a list/tuple of lists/tuples of... is allowed\n",
        "print()\n",
        "\n",
        "print(np.array( [6, 9, 3, 0], dtype = float ))\n",
        "print(np.array( [(3.2, 2.1), (6.7, 1.3)], dtype = np.int8 ))\n",
        "# there are a lot of data types available,\n",
        "# check it out in the documentation"
      ],
      "execution_count": null,
      "outputs": [
        {
          "output_type": "stream",
          "text": [
            "[1 4 6 9]\n",
            "[[1 3]\n",
            " [6 9]]\n",
            "[[3.2 2.1]\n",
            " [6.  1.3]]\n",
            "\n",
            "[6. 9. 3. 0.]\n",
            "[[3 2]\n",
            " [6 1]]\n"
          ],
          "name": "stdout"
        }
      ]
    },
    {
      "cell_type": "code",
      "metadata": {
        "colab": {
          "base_uri": "https://localhost:8080/"
        },
        "id": "5ANUPnyy7Crt",
        "outputId": "24387732-29d8-4722-886b-0652046aedaf"
      },
      "source": [
        "# ARRAY CREATION\n",
        "print(np.arange(10))\n",
        "print(np.arange(21.2, 8.1, -2.5))\n",
        "# floats can be passed to arange \n",
        "print()\n",
        "\n",
        "print(np.linspace(2.3, 4.8, 5))\n",
        "# arrays with a specified number of elements, \n",
        "# and spaced equally between the specified beginning and end values"
      ],
      "execution_count": null,
      "outputs": [
        {
          "output_type": "stream",
          "text": [
            "[0 1 2 3 4 5 6 7 8 9]\n",
            "[21.2 18.7 16.2 13.7 11.2  8.7]\n",
            "\n",
            "[2.3   2.925 3.55  4.175 4.8  ]\n"
          ],
          "name": "stdout"
        }
      ]
    },
    {
      "cell_type": "code",
      "metadata": {
        "colab": {
          "base_uri": "https://localhost:8080/"
        },
        "id": "IVrXwxrOAVF0",
        "outputId": "300b38b1-d296-4413-bdb9-0343087545ab"
      },
      "source": [
        "# ARRAY CREATION\n",
        "# most types of special two-dimensional matrices in linear algebra\n",
        "# can be created using np functions, find out more in the documentation\n",
        "print(np.eye(3))\n",
        "print(np.diag([3, 4, 5]))"
      ],
      "execution_count": null,
      "outputs": [
        {
          "output_type": "stream",
          "text": [
            "[[1. 0. 0.]\n",
            " [0. 1. 0.]\n",
            " [0. 0. 1.]]\n",
            "[[3 0 0]\n",
            " [0 4 0]\n",
            " [0 0 5]]\n"
          ],
          "name": "stdout"
        }
      ]
    },
    {
      "cell_type": "code",
      "metadata": {
        "colab": {
          "base_uri": "https://localhost:8080/"
        },
        "id": "bOwz6noC7C2y",
        "outputId": "83293df2-4ad1-4b25-a41d-3d5fa1b92c28"
      },
      "source": [
        "# ARRAY CREATION\n",
        "print(np.zeros((2, 3)))\n",
        "print()\n",
        "print(np.ones((3, 2, 4)))"
      ],
      "execution_count": null,
      "outputs": [
        {
          "output_type": "stream",
          "text": [
            "[[0. 0. 0.]\n",
            " [0. 0. 0.]]\n",
            "\n",
            "[[[1. 1. 1. 1.]\n",
            "  [1. 1. 1. 1.]]\n",
            "\n",
            " [[1. 1. 1. 1.]\n",
            "  [1. 1. 1. 1.]]\n",
            "\n",
            " [[1. 1. 1. 1.]\n",
            "  [1. 1. 1. 1.]]]\n"
          ],
          "name": "stdout"
        }
      ]
    },
    {
      "cell_type": "markdown",
      "metadata": {
        "id": "0fgkN750AtRd"
      },
      "source": [
        "### INDEXING"
      ]
    },
    {
      "cell_type": "code",
      "metadata": {
        "colab": {
          "base_uri": "https://localhost:8080/"
        },
        "id": "YJv8x6xzApWe",
        "outputId": "9c786440-a077-4f3f-9687-d91701cab9e5"
      },
      "source": [
        "# INDEXING\n",
        "np_arr = np.arange(3.3, 12, 1.1)\n",
        "print(np_arr)\n",
        "print(np_arr[-2])\n",
        "print(np_arr[-2:])\n",
        "# slicing np array is exactly the same as slicing python list "
      ],
      "execution_count": null,
      "outputs": [
        {
          "output_type": "stream",
          "text": [
            "[ 3.3  4.4  5.5  6.6  7.7  8.8  9.9 11. ]\n",
            "9.900000000000002\n",
            "[ 9.9 11. ]\n"
          ],
          "name": "stdout"
        }
      ]
    },
    {
      "cell_type": "code",
      "metadata": {
        "colab": {
          "base_uri": "https://localhost:8080/"
        },
        "id": "a8fdtztQAyxL",
        "outputId": "edcbe7a1-d8f3-4001-d38a-1609a595c4dd"
      },
      "source": [
        "# INDEXING\n",
        "print(np_arr.shape)\n",
        "np_arr.shape = (2, 4)\n",
        "print(np_arr.shape)\n",
        "print(np_arr)"
      ],
      "execution_count": null,
      "outputs": [
        {
          "output_type": "stream",
          "text": [
            "(8,)\n",
            "(2, 4)\n",
            "[[ 3.3  4.4  5.5  6.6]\n",
            " [ 7.7  8.8  9.9 11. ]]\n"
          ],
          "name": "stdout"
        }
      ]
    },
    {
      "cell_type": "code",
      "metadata": {
        "colab": {
          "base_uri": "https://localhost:8080/"
        },
        "id": "brVp9FEKAy4T",
        "outputId": "08ad17c3-a407-4678-c0a6-c311d2436e49"
      },
      "source": [
        "# INDEXING\n",
        "print(np_arr[1])\n",
        "print(np_arr[1, 2])"
      ],
      "execution_count": null,
      "outputs": [
        {
          "output_type": "stream",
          "text": [
            "[ 7.7  8.8  9.9 11. ]\n",
            "9.900000000000002\n"
          ],
          "name": "stdout"
        }
      ]
    },
    {
      "cell_type": "code",
      "metadata": {
        "colab": {
          "base_uri": "https://localhost:8080/"
        },
        "id": "0CUdq3AlAy-q",
        "outputId": "4c7669b3-5cd1-4c13-eba3-ee170ccb0d36"
      },
      "source": [
        "# INDEXING\n",
        "print(np.arange(4))\n",
        "np_arr_2 = np.arange(1, 8, 2)\n",
        "print(np_arr_2)\n",
        "print()\n",
        "\n",
        "index_arr = np.array([1, -1, 3])\n",
        "print(index_arr)\n",
        "print(np_arr_2[index_arr])\n",
        "# a np array can be used to select element\n",
        "print()\n",
        "\n",
        "index_arr_2 = np.array( [[1, 0], [3, 2]] )\n",
        "print(index_arr_2)\n",
        "print(np_arr_2[index_arr_2])\n",
        "print()\n",
        "# indexing np arrays which have more dimensions is more complicated,\n",
        "# read more in documentation"
      ],
      "execution_count": null,
      "outputs": [
        {
          "output_type": "stream",
          "text": [
            "[0 1 2 3]\n",
            "[1 3 5 7]\n",
            "\n",
            "[ 1 -1  3]\n",
            "[3 7 7]\n",
            "\n",
            "[[1 0]\n",
            " [3 2]]\n",
            "[[3 1]\n",
            " [7 5]]\n",
            "\n"
          ],
          "name": "stdout"
        }
      ]
    },
    {
      "cell_type": "code",
      "metadata": {
        "colab": {
          "base_uri": "https://localhost:8080/"
        },
        "id": "UA1I5cY2FFa2",
        "outputId": "5075f948-0303-4129-b4bf-f7575bd48fb7"
      },
      "source": [
        "# INDEXING\n",
        "np_arr_3 = np.arange(9)\n",
        "print(np_arr_3)\n",
        "index_arr_3 = np_arr_3 % 2 == 0\n",
        "print(index_arr_3)\n",
        "print(np_arr_3[index_arr_3])\n",
        "# in data science, filtering data is very important,\n",
        "# so this is a must-have tool"
      ],
      "execution_count": null,
      "outputs": [
        {
          "output_type": "stream",
          "text": [
            "[0 1 2 3 4 5 6 7 8]\n",
            "[ True False  True False  True False  True False  True]\n",
            "[0 2 4 6 8]\n"
          ],
          "name": "stdout"
        }
      ]
    },
    {
      "cell_type": "markdown",
      "metadata": {
        "id": "cLHCrvUtGbiA"
      },
      "source": [
        "### BROADCASTING"
      ]
    },
    {
      "cell_type": "code",
      "metadata": {
        "colab": {
          "base_uri": "https://localhost:8080/"
        },
        "id": "YQ48LGyfGbQx",
        "outputId": "598a6ad5-c82b-4d2a-f971-942b00a8eccd"
      },
      "source": [
        "# BROADCASTING\n",
        "# the term broadcasting describes how np treats arrays \n",
        "# with different shapes during arithmetic operations\n",
        "np_arr_a = np.array([6, 8, 9])\n",
        "print(np_arr_a)\n",
        "np_arr_b = np.ones(3, dtype = np.int8)\n",
        "print(np_arr_b)\n",
        "print(np_arr_a + np_arr_b)"
      ],
      "execution_count": null,
      "outputs": [
        {
          "output_type": "stream",
          "text": [
            "[6 8 9]\n",
            "[1 1 1]\n",
            "[ 7  9 10]\n"
          ],
          "name": "stdout"
        }
      ]
    },
    {
      "cell_type": "code",
      "metadata": {
        "colab": {
          "base_uri": "https://localhost:8080/"
        },
        "id": "ilpYzVx-GeuH",
        "outputId": "7e349d0d-720d-4c3b-aafa-fb96543ec7f1"
      },
      "source": [
        "# BROADCASTING\n",
        "print(np_arr_a + 1)\n",
        "# read more about general broadcasting rules for \n",
        "# more-dimensional-arrays in the documentation"
      ],
      "execution_count": null,
      "outputs": [
        {
          "output_type": "stream",
          "text": [
            "[ 7  9 10]\n"
          ],
          "name": "stdout"
        }
      ]
    },
    {
      "cell_type": "markdown",
      "metadata": {
        "id": "Ine92GJFIT9S"
      },
      "source": [
        "### STRUCTURED ARRAYS"
      ]
    },
    {
      "cell_type": "code",
      "metadata": {
        "colab": {
          "base_uri": "https://localhost:8080/"
        },
        "id": "f3k8T2d4ITln",
        "outputId": "b3f6aa2f-159d-43a8-da10-bc3e2a5d40d2"
      },
      "source": [
        "# STRUCTURED ARRAYS\n",
        "# there are a lot of concepts for this type of array,\n",
        "# the following is only a simple example\n",
        "struct_arr = np.array([('Alan', 19, 169.2), ('Paul', 21, 172.3)],\n",
        "                      dtype = [('name', 'U10'), ('age', 'i4'), ('height', 'f4')]\n",
        "                      )\n",
        "print(struct_arr)"
      ],
      "execution_count": null,
      "outputs": [
        {
          "output_type": "stream",
          "text": [
            "[('Alan', 19, 169.2) ('Paul', 21, 172.3)]\n"
          ],
          "name": "stdout"
        }
      ]
    },
    {
      "cell_type": "markdown",
      "metadata": {
        "id": "7LEpeuaHK1RP"
      },
      "source": [
        "## MOST USED MODULES FOR MATHEMATICS, DATA SCIENCE AND MACHINE LEARNING"
      ]
    },
    {
      "cell_type": "markdown",
      "metadata": {
        "id": "WrwG6sS_LHNy"
      },
      "source": [
        "* TensorFlow: [https://www.tensorflow.org/](https://www.tensorflow.org/)\n",
        "* SciPy: [https://www.scipy.org/](https://www.scipy.org/)\n",
        "* Matplotlib: [https://matplotlib.org/](https://matplotlib.org/)\n",
        "* Pandas: [https://pandas.pydata.org/](https://pandas.pydata.org/)\n",
        "* Keras: [https://keras.io/](https://keras.io/)\n",
        "* scikit-learn: [https://scikit-learn.org/](https://scikit-learn.org/)\n",
        "* statsmodels: [https://www.statsmodels.org/](https://www.statsmodels.org/)\n",
        "* Plotly: [https://plotly.com/](https://plotly.com/)\n",
        "* Seaborn: [https://seaborn.pydata.org/](https://seaborn.pydata.org/)\n",
        "\n",
        "Fun fact: If you know how to use about half of the modules above and understand their mathematical foundations, you can quit college, right now."
      ]
    }
  ]
}